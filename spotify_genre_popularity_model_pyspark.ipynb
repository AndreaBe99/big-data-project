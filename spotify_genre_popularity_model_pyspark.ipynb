{
  "nbformat": 4,
  "nbformat_minor": 0,
  "metadata": {
    "colab": {
      "name": "spotify_genre-popularity_model_pyspark.ipynb",
      "provenance": [],
      "collapsed_sections": [
        "bKVsJKT7l5zi",
        "VjaBPRrfmRlI",
        "F4y3YQSVnBaS",
        "HrvXNfBMnVJz",
        "g1oDNHfaoWfY",
        "oyNkC2dC8l3z"
      ]
    },
    "kernelspec": {
      "name": "python3",
      "display_name": "Python 3"
    },
    "language_info": {
      "name": "python"
    }
  },
  "cells": [
    {
      "cell_type": "markdown",
      "source": [
        "## **Install PySpark**"
      ],
      "metadata": {
        "id": "ylnxlAarlY2L"
      }
    },
    {
      "cell_type": "code",
      "source": [
        "!pip install pyspark\n",
        "!pip install findspark\n",
        "# Alternatively, if you want to install a specific version of pyspark:\n",
        "#!pip install pyspark==3.2.1 "
      ],
      "metadata": {
        "id": "PT5Fe2ZJlkrW",
        "colab": {
          "base_uri": "https://localhost:8080/"
        },
        "outputId": "16a5c688-b6d7-4e31-9f3b-73da66500a0a"
      },
      "execution_count": null,
      "outputs": [
        {
          "output_type": "stream",
          "name": "stdout",
          "text": [
            "Requirement already satisfied: pyspark in /usr/local/lib/python3.7/dist-packages (3.2.1)\n",
            "Requirement already satisfied: py4j==0.10.9.3 in /usr/local/lib/python3.7/dist-packages (from pyspark) (0.10.9.3)\n",
            "Requirement already satisfied: findspark in /usr/local/lib/python3.7/dist-packages (2.0.1)\n"
          ]
        }
      ]
    },
    {
      "cell_type": "markdown",
      "source": [
        "## **Import all the useful packages**"
      ],
      "metadata": {
        "id": "RviSKVq0lr7M"
      }
    },
    {
      "cell_type": "code",
      "source": [
        "from tqdm import tqdm\n",
        "\n",
        "import requests\n",
        "import matplotlib.pyplot as plt\n",
        "import seaborn as sns\n",
        "%matplotlib inline\n",
        "\n",
        "import pyspark\n",
        "from pyspark.sql import *\n",
        "from pyspark.sql.types import *\n",
        "from pyspark.sql.functions import *\n",
        "from pyspark import SparkContext, SparkConf\n",
        "import pyspark.sql.functions as f\n",
        "from pyspark.sql.functions import split, regexp_replace, year, month, dayofmonth, to_timestamp\n",
        "\n",
        "from pyspark.ml.feature import StringIndexer, OneHotEncoder, VectorAssembler, StandardScaler, Bucketizer\n",
        "from pyspark.ml.classification import LogisticRegression, DecisionTreeClassifier, RandomForestClassifier\n",
        "from pyspark.ml import Pipeline\n",
        "from pyspark.ml.tuning import CrossValidator, ParamGridBuilder\n",
        "from pyspark.ml.evaluation import MulticlassClassificationEvaluator #, BinaryClassificationEvaluator \n",
        "\n",
        "# Basic libreries \n",
        "import pandas as pd\n",
        "import numpy as np\n",
        "import matplotlib.pyplot as plt"
      ],
      "metadata": {
        "id": "v69dO_L_lwUa"
      },
      "execution_count": null,
      "outputs": []
    },
    {
      "cell_type": "markdown",
      "source": [
        "## **Configuration of PySpark and check**"
      ],
      "metadata": {
        "id": "bKVsJKT7l5zi"
      }
    },
    {
      "cell_type": "code",
      "source": [
        "# Create the session\n",
        "conf = SparkConf().set(\"spark.ui.port\", \"4050\").set('spark.executor.memory', '4G').set('spark.driver.memory', '45G').set('spark.driver.maxResultSize', '10G')\n",
        "\n",
        "# Create the context\n",
        "sc = pyspark.SparkContext(conf=conf)\n",
        "spark = SparkSession.builder.getOrCreate()"
      ],
      "metadata": {
        "id": "FncbmwAEl9uD"
      },
      "execution_count": null,
      "outputs": []
    },
    {
      "cell_type": "code",
      "source": [
        "spark"
      ],
      "metadata": {
        "id": "9ECohTRbmEwV",
        "colab": {
          "base_uri": "https://localhost:8080/"
        },
        "outputId": "ddf015c4-c976-4069-d8df-f88940547f85"
      },
      "execution_count": null,
      "outputs": [
        {
          "output_type": "execute_result",
          "data": {
            "text/plain": [
              "<pyspark.sql.session.SparkSession at 0x7f8c99b00450>"
            ],
            "text/html": [
              "\n",
              "            <div>\n",
              "                <p><b>SparkSession - in-memory</b></p>\n",
              "                \n",
              "        <div>\n",
              "            <p><b>SparkContext</b></p>\n",
              "\n",
              "            <p><a href=\"http://28360c7711f9:4050\">Spark UI</a></p>\n",
              "\n",
              "            <dl>\n",
              "              <dt>Version</dt>\n",
              "                <dd><code>v3.2.1</code></dd>\n",
              "              <dt>Master</dt>\n",
              "                <dd><code>local[*]</code></dd>\n",
              "              <dt>AppName</dt>\n",
              "                <dd><code>pyspark-shell</code></dd>\n",
              "            </dl>\n",
              "        </div>\n",
              "        \n",
              "            </div>\n",
              "        "
            ]
          },
          "metadata": {},
          "execution_count": 4
        }
      ]
    },
    {
      "cell_type": "markdown",
      "source": [
        "## **Data Acquisition**"
      ],
      "metadata": {
        "id": "fZP3ASzRmOVo"
      }
    },
    {
      "cell_type": "markdown",
      "source": [
        "### Mount Google Drive point"
      ],
      "metadata": {
        "id": "VjaBPRrfmRlI"
      }
    },
    {
      "cell_type": "code",
      "source": [
        "GDRIVE_DIR = \"/content/gdrive\" # Your own mount point on Google Drive\n",
        "GDRIVE_HOME_DIR = GDRIVE_DIR + \"/My Drive\" # Your own home directory\n",
        "GDRIVE_DATA_DIR = GDRIVE_HOME_DIR +  \"/Sapienza/Primo Anno/Big Data Computing/Project\"\n",
        "\n",
        "# Point Colaboratory to our Google Drive\n",
        "from google.colab import drive\n",
        "\n",
        "drive.mount(GDRIVE_DIR, force_remount=True)\n",
        "\n",
        "DATASET_URL = \"https://raw.githubusercontent.com/AndreaBe99/big-data-project/main/data/dataframe.csv\"\n",
        "GDRIVE_DATASET_FILE = GDRIVE_DATA_DIR + \"/\" + DATASET_URL.split(\"/\")[-1]"
      ],
      "metadata": {
        "id": "sIeuXOHLmeXT",
        "colab": {
          "base_uri": "https://localhost:8080/"
        },
        "outputId": "af79f2f3-590f-4334-e462-1c8525427299"
      },
      "execution_count": null,
      "outputs": [
        {
          "output_type": "stream",
          "name": "stdout",
          "text": [
            "Mounted at /content/gdrive\n"
          ]
        }
      ]
    },
    {
      "cell_type": "markdown",
      "source": [
        "### Retrieving Dataset and stored it"
      ],
      "metadata": {
        "id": "OuYV-iOimsde"
      }
    },
    {
      "cell_type": "code",
      "source": [
        "import requests\n",
        "\n",
        "\"\"\"\n",
        "This function downloads a file from a specific URL directly to Google Drive.\n",
        "\"\"\"\n",
        "def get_data(dataset_url, dest, chunk_size=1024):\n",
        "  response = requests.get(dataset_url, stream=True)\n",
        "  if response.status_code == 200: # Test if everything went ok\n",
        "    with open(dest, \"wb\") as file:\n",
        "      for block in response.iter_content(chunk_size=chunk_size): \n",
        "        if block: \n",
        "          file.write(block)"
      ],
      "metadata": {
        "id": "GMLwZDrGm2B6"
      },
      "execution_count": null,
      "outputs": []
    },
    {
      "cell_type": "code",
      "source": [
        "print(\"Retrieving dataset from URL: {} ...\".format(DATASET_URL))\n",
        "get_data(DATASET_URL, GDRIVE_DATASET_FILE)\n",
        "print(\"Dataset successfully retrieved and stored at: {}\".format(GDRIVE_DATASET_FILE))"
      ],
      "metadata": {
        "id": "BCEqsIzBm5PH",
        "colab": {
          "base_uri": "https://localhost:8080/"
        },
        "outputId": "a746982e-ae7d-4a13-e5d2-e5eaf08bb2eb"
      },
      "execution_count": null,
      "outputs": [
        {
          "output_type": "stream",
          "name": "stdout",
          "text": [
            "Retrieving dataset from URL: https://raw.githubusercontent.com/AndreaBe99/big-data-project/main/data/dataframe.csv ...\n",
            "Dataset successfully retrieved and stored at: /content/gdrive/My Drive/Sapienza/Primo Anno/Big Data Computing/Project/dataframe.csv\n"
          ]
        }
      ]
    },
    {
      "cell_type": "markdown",
      "source": [
        "### Read DataSet file into PySpark dataframe"
      ],
      "metadata": {
        "id": "F4y3YQSVnBaS"
      }
    },
    {
      "cell_type": "code",
      "source": [
        "spotify_tracks = spark.read.load(GDRIVE_DATASET_FILE, \n",
        "                           format=\"csv\", \n",
        "                           sep=\";\", \n",
        "                           inferSchema=\"true\", \n",
        "                           header=\"true\")"
      ],
      "metadata": {
        "id": "RXyPALdRnFS7"
      },
      "execution_count": null,
      "outputs": []
    },
    {
      "cell_type": "code",
      "source": [
        "spotify_tracks.cache()"
      ],
      "metadata": {
        "colab": {
          "base_uri": "https://localhost:8080/"
        },
        "id": "hzYke0QUgV1G",
        "outputId": "1e7fa914-87f5-4ce8-afd2-8ef3ccff63b5"
      },
      "execution_count": null,
      "outputs": [
        {
          "output_type": "execute_result",
          "data": {
            "text/plain": [
              "DataFrame[id: string, track_name: string, track_explicit: boolean, track_popularity: int, album_name: string, album_release_date: string, album_release_date_precision: string, artist_name: string, audio_avg_pitches: string, audio_avg_timbre: string, audio_acousticness: double, audio_danceability: double, audio_duration_ms: int, audio_energy: double, audio_instrumentalness: double, audio_key_1: int, audio_liveness: double, audio_loudness: double, audio_mode_1: int, audio_speechiness: double, audio_tempo: double, audio_time_signature: int, audio_valence: double, track_uri: string, track_genre: string]"
            ]
          },
          "metadata": {},
          "execution_count": 9
        }
      ]
    },
    {
      "cell_type": "markdown",
      "source": [
        "### Check the shape of the loaded dataset, i.e., number of rows and columns"
      ],
      "metadata": {
        "id": "HrvXNfBMnVJz"
      }
    },
    {
      "cell_type": "code",
      "source": [
        "print(\"The shape of the dataset is {:d} rows by {:d} columns\".format(spotify_tracks.count(), len(spotify_tracks.columns)))"
      ],
      "metadata": {
        "id": "XIQGyItmnX0K",
        "colab": {
          "base_uri": "https://localhost:8080/"
        },
        "outputId": "e30a7041-e58e-468b-eb7a-c4e2287caa13"
      },
      "execution_count": null,
      "outputs": [
        {
          "output_type": "stream",
          "name": "stdout",
          "text": [
            "The shape of the dataset is 79339 rows by 25 columns\n"
          ]
        }
      ]
    },
    {
      "cell_type": "markdown",
      "source": [
        "### Print out the schema of the loaded dataset"
      ],
      "metadata": {
        "id": "g1oDNHfaoWfY"
      }
    },
    {
      "cell_type": "code",
      "source": [
        "spotify_tracks.printSchema()"
      ],
      "metadata": {
        "id": "1qNIRp86obO1",
        "colab": {
          "base_uri": "https://localhost:8080/"
        },
        "outputId": "610d8b30-e25c-440b-c709-e31dcc9f09ef"
      },
      "execution_count": null,
      "outputs": [
        {
          "output_type": "stream",
          "name": "stdout",
          "text": [
            "root\n",
            " |-- id: string (nullable = true)\n",
            " |-- track_name: string (nullable = true)\n",
            " |-- track_explicit: boolean (nullable = true)\n",
            " |-- track_popularity: integer (nullable = true)\n",
            " |-- album_name: string (nullable = true)\n",
            " |-- album_release_date: string (nullable = true)\n",
            " |-- album_release_date_precision: string (nullable = true)\n",
            " |-- artist_name: string (nullable = true)\n",
            " |-- audio_avg_pitches: string (nullable = true)\n",
            " |-- audio_avg_timbre: string (nullable = true)\n",
            " |-- audio_acousticness: double (nullable = true)\n",
            " |-- audio_danceability: double (nullable = true)\n",
            " |-- audio_duration_ms: integer (nullable = true)\n",
            " |-- audio_energy: double (nullable = true)\n",
            " |-- audio_instrumentalness: double (nullable = true)\n",
            " |-- audio_key_1: integer (nullable = true)\n",
            " |-- audio_liveness: double (nullable = true)\n",
            " |-- audio_loudness: double (nullable = true)\n",
            " |-- audio_mode_1: integer (nullable = true)\n",
            " |-- audio_speechiness: double (nullable = true)\n",
            " |-- audio_tempo: double (nullable = true)\n",
            " |-- audio_time_signature: integer (nullable = true)\n",
            " |-- audio_valence: double (nullable = true)\n",
            " |-- track_uri: string (nullable = true)\n",
            " |-- track_genre: string (nullable = true)\n",
            "\n"
          ]
        }
      ]
    },
    {
      "cell_type": "markdown",
      "source": [
        "# **Dataset Shape**"
      ],
      "metadata": {
        "id": "6LRjl-0Cb8kJ"
      }
    },
    {
      "cell_type": "markdown",
      "source": [
        "## **Print the 5 rows of the load dataset**"
      ],
      "metadata": {
        "id": "oyNkC2dC8l3z"
      }
    },
    {
      "cell_type": "code",
      "source": [
        "spotify_tracks.show(5)"
      ],
      "metadata": {
        "id": "Ws3--ZZC8sdM",
        "colab": {
          "base_uri": "https://localhost:8080/"
        },
        "outputId": "b6360f2a-a69c-4947-e23b-cc45952459a7"
      },
      "execution_count": null,
      "outputs": [
        {
          "output_type": "stream",
          "name": "stdout",
          "text": [
            "+--------------------+-----------------+--------------+----------------+--------------------+------------------+----------------------------+---------------+--------------------+--------------------+------------------+------------------+-----------------+------------+----------------------+-----------+--------------+--------------+------------+-----------------+-----------+--------------------+-------------+--------------------+-----------+\n",
            "|                  id|       track_name|track_explicit|track_popularity|          album_name|album_release_date|album_release_date_precision|    artist_name|   audio_avg_pitches|    audio_avg_timbre|audio_acousticness|audio_danceability|audio_duration_ms|audio_energy|audio_instrumentalness|audio_key_1|audio_liveness|audio_loudness|audio_mode_1|audio_speechiness|audio_tempo|audio_time_signature|audio_valence|           track_uri|track_genre|\n",
            "+--------------------+-----------------+--------------+----------------+--------------------+------------------+----------------------------+---------------+--------------------+--------------------+------------------+------------------+-----------------+------------+----------------------+-----------+--------------+--------------+------------+-----------------+-----------+--------------------+-------------+--------------------+-----------+\n",
            "|2dLLR6qlu5UJ5gk0d...|           Royals|         false|              76|        Pure Heroine|        2013-09-27|                         day|          Lorde|[0.60418311874105...|[43.5924234620887...|             121.0|             674.0|           190185|       428.0|                   0.0|          7|         132.0|       -9504.0|           1|            122.0|    84878.0|                   4|        337.0|spotify:track:2dL...|   acoustic|\n",
            "|7AYoXqCtME90flUOp...|          Society|         false|               0|Music For The Mot...|        2007-12-17|                         day|   Eddie Vedder|[0.13272636815920...|[42.1157437810945...|             896.0|              0.64|           236307|       329.0|               5.36E-4|         11|         113.0|      -10844.0|           0|           0.0323|    80687.0|                   4|        295.0|spotify:track:7AY...|   acoustic|\n",
            "|2bbhyUWJ5VjdfI3P4...|           Samson|         false|              47|Begin to Hope (Sp...|        2006-06-13|                         day| Regina Spektor|[0.14223992322456...|[42.3769654510556...|             862.0|              0.49|           189507|       193.0|               9.74E-6|         11|         113.0|       -9544.0|           1|           0.0421|    89154.0|                   4|        184.0|spotify:track:2bb...|   acoustic|\n",
            "|7zkLpY72g6lKQbiHD...|          Sunrise|         false|              69|     Feels Like Home|        2004-01-01|                         day|    Norah Jones|[0.39770789473684...|[39.2482578947367...|             941.0|             526.0|           200627|       299.0|                  97.0|          8|         106.0|      -13797.0|           1|             31.0|   156848.0|                   4|        679.0|spotify:track:7zk...|   acoustic|\n",
            "|7z7fquRFQFXt4Dj7o...|Hey There Delilah|         false|               0|   Hey There Delilah|        2007-01-01|                         day|Plain White T's|[0.10335810810810...|[48.2044905405405...|              0.84|             661.0|           233627|       373.0|                   0.0|          2|         106.0|       -8169.0|           1|           0.0281|   103999.0|                   4|        304.0|spotify:track:7z7...|   acoustic|\n",
            "+--------------------+-----------------+--------------+----------------+--------------------+------------------+----------------------------+---------------+--------------------+--------------------+------------------+------------------+-----------------+------------+----------------------+-----------+--------------+--------------+------------+-----------------+-----------+--------------------+-------------+--------------------+-----------+\n",
            "only showing top 5 rows\n",
            "\n"
          ]
        }
      ]
    },
    {
      "cell_type": "markdown",
      "source": [
        "## **Preprocessing operations**"
      ],
      "metadata": {
        "id": "ib2Lw3yegfu_"
      }
    },
    {
      "cell_type": "markdown",
      "source": [
        "In this section of the notebbok we're going to perform some preprocessing operations (drop useless feature, encoding,...) to our dataset."
      ],
      "metadata": {
        "id": "a5S9QxmvbPZ1"
      }
    },
    {
      "cell_type": "markdown",
      "source": [
        "### Drop duplicates and split the columns using PySpark"
      ],
      "metadata": {
        "id": "jXYaGiiHblBR"
      }
    },
    {
      "cell_type": "code",
      "source": [
        "spotify_tracks = spotify_tracks.dropDuplicates()"
      ],
      "metadata": {
        "id": "AbXXdWY5gh25"
      },
      "execution_count": null,
      "outputs": []
    },
    {
      "cell_type": "code",
      "source": [
        "# Split String audio_avg_pitches to n columns\n",
        "spotify_tracks = spotify_tracks.select(spotify_tracks.columns + [f.translate(f.col(\"audio_avg_pitches\"), \"[]\", \"\").alias(\"audio_avg_pitches_list\")])\n",
        "spotify_tracks = spotify_tracks.withColumn(\"pitch_1\", split(col(\"audio_avg_pitches_list\"), \", \").getItem(0))\\\n",
        "                                .withColumn(\"pitch_2\", split(col(\"audio_avg_pitches_list\"), \", \").getItem(1))\\\n",
        "                                .withColumn(\"pitch_3\", split(col(\"audio_avg_pitches_list\"), \", \").getItem(2))\\\n",
        "                                .withColumn(\"pitch_4\", split(col(\"audio_avg_pitches_list\"), \", \").getItem(3))\\\n",
        "                                .withColumn(\"pitch_5\", split(col(\"audio_avg_pitches_list\"), \", \").getItem(4))\\\n",
        "                                .withColumn(\"pitch_6\", split(col(\"audio_avg_pitches_list\"), \", \").getItem(5))\\\n",
        "                                .withColumn(\"pitch_7\", split(col(\"audio_avg_pitches_list\"), \", \").getItem(6))\\\n",
        "                                .withColumn(\"pitch_8\", split(col(\"audio_avg_pitches_list\"), \", \").getItem(7))\\\n",
        "                                .withColumn(\"pitch_9\", split(col(\"audio_avg_pitches_list\"), \", \").getItem(8))\\\n",
        "                                .withColumn(\"pitch_10\", split(col(\"audio_avg_pitches_list\"), \", \").getItem(9))\\\n",
        "                                .withColumn(\"pitch_11\", split(col(\"audio_avg_pitches_list\"), \", \").getItem(10))\\\n",
        "                                .withColumn(\"pitch_12\", split(col(\"audio_avg_pitches_list\"), \", \").getItem(11))\n",
        "spotify_tracks.printSchema()"
      ],
      "metadata": {
        "colab": {
          "base_uri": "https://localhost:8080/"
        },
        "id": "YZSDnXmJgqro",
        "outputId": "dcadf886-4479-49c4-a8f3-5d7f8095a73f"
      },
      "execution_count": null,
      "outputs": [
        {
          "output_type": "stream",
          "name": "stdout",
          "text": [
            "root\n",
            " |-- id: string (nullable = true)\n",
            " |-- track_name: string (nullable = true)\n",
            " |-- track_explicit: boolean (nullable = true)\n",
            " |-- track_popularity: integer (nullable = true)\n",
            " |-- album_name: string (nullable = true)\n",
            " |-- album_release_date: string (nullable = true)\n",
            " |-- album_release_date_precision: string (nullable = true)\n",
            " |-- artist_name: string (nullable = true)\n",
            " |-- audio_avg_pitches: string (nullable = true)\n",
            " |-- audio_avg_timbre: string (nullable = true)\n",
            " |-- audio_acousticness: double (nullable = true)\n",
            " |-- audio_danceability: double (nullable = true)\n",
            " |-- audio_duration_ms: integer (nullable = true)\n",
            " |-- audio_energy: double (nullable = true)\n",
            " |-- audio_instrumentalness: double (nullable = true)\n",
            " |-- audio_key_1: integer (nullable = true)\n",
            " |-- audio_liveness: double (nullable = true)\n",
            " |-- audio_loudness: double (nullable = true)\n",
            " |-- audio_mode_1: integer (nullable = true)\n",
            " |-- audio_speechiness: double (nullable = true)\n",
            " |-- audio_tempo: double (nullable = true)\n",
            " |-- audio_time_signature: integer (nullable = true)\n",
            " |-- audio_valence: double (nullable = true)\n",
            " |-- track_uri: string (nullable = true)\n",
            " |-- track_genre: string (nullable = true)\n",
            " |-- audio_avg_pitches_list: string (nullable = true)\n",
            " |-- pitch_1: string (nullable = true)\n",
            " |-- pitch_2: string (nullable = true)\n",
            " |-- pitch_3: string (nullable = true)\n",
            " |-- pitch_4: string (nullable = true)\n",
            " |-- pitch_5: string (nullable = true)\n",
            " |-- pitch_6: string (nullable = true)\n",
            " |-- pitch_7: string (nullable = true)\n",
            " |-- pitch_8: string (nullable = true)\n",
            " |-- pitch_9: string (nullable = true)\n",
            " |-- pitch_10: string (nullable = true)\n",
            " |-- pitch_11: string (nullable = true)\n",
            " |-- pitch_12: string (nullable = true)\n",
            "\n"
          ]
        }
      ]
    },
    {
      "cell_type": "code",
      "source": [
        "# Split String audio_avg_timbre to n columns\n",
        "spotify_tracks = spotify_tracks.select(spotify_tracks.columns + [f.translate(f.col(\"audio_avg_timbre\"), \"[]\", \"\").alias(\"audio_avg_timbre_list\")])\n",
        "spotify_tracks = spotify_tracks.withColumn(\"timbre_1\", split(col(\"audio_avg_timbre_list\"), \", \").getItem(0))\\\n",
        "                                .withColumn(\"timbre_2\", split(col(\"audio_avg_timbre_list\"), \", \").getItem(1))\\\n",
        "                                .withColumn(\"timbre_3\", split(col(\"audio_avg_timbre_list\"), \", \").getItem(2))\\\n",
        "                                .withColumn(\"timbre_4\", split(col(\"audio_avg_timbre_list\"), \", \").getItem(3))\\\n",
        "                                .withColumn(\"timbre_5\", split(col(\"audio_avg_timbre_list\"), \", \").getItem(4))\\\n",
        "                                .withColumn(\"timbre_6\", split(col(\"audio_avg_timbre_list\"), \", \").getItem(5))\\\n",
        "                                .withColumn(\"timbre_7\", split(col(\"audio_avg_timbre_list\"), \", \").getItem(6))\\\n",
        "                                .withColumn(\"timbre_8\", split(col(\"audio_avg_timbre_list\"), \", \").getItem(7))\\\n",
        "                                .withColumn(\"timbre_9\", split(col(\"audio_avg_timbre_list\"), \", \").getItem(8))\\\n",
        "                                .withColumn(\"timbre_10\", split(col(\"audio_avg_timbre_list\"), \", \").getItem(9))\\\n",
        "                                .withColumn(\"timbre_11\", split(col(\"audio_avg_timbre_list\"), \", \").getItem(10))\\\n",
        "                                .withColumn(\"timbre_12\", split(col(\"audio_avg_timbre_list\"), \", \").getItem(11))\n",
        "spotify_tracks.printSchema()"
      ],
      "metadata": {
        "colab": {
          "base_uri": "https://localhost:8080/"
        },
        "id": "8dZ5gX30grpb",
        "outputId": "ab76fde8-62f6-45e2-d328-a973c34411a6"
      },
      "execution_count": null,
      "outputs": [
        {
          "output_type": "stream",
          "name": "stdout",
          "text": [
            "root\n",
            " |-- id: string (nullable = true)\n",
            " |-- track_name: string (nullable = true)\n",
            " |-- track_explicit: boolean (nullable = true)\n",
            " |-- track_popularity: integer (nullable = true)\n",
            " |-- album_name: string (nullable = true)\n",
            " |-- album_release_date: string (nullable = true)\n",
            " |-- album_release_date_precision: string (nullable = true)\n",
            " |-- artist_name: string (nullable = true)\n",
            " |-- audio_avg_pitches: string (nullable = true)\n",
            " |-- audio_avg_timbre: string (nullable = true)\n",
            " |-- audio_acousticness: double (nullable = true)\n",
            " |-- audio_danceability: double (nullable = true)\n",
            " |-- audio_duration_ms: integer (nullable = true)\n",
            " |-- audio_energy: double (nullable = true)\n",
            " |-- audio_instrumentalness: double (nullable = true)\n",
            " |-- audio_key_1: integer (nullable = true)\n",
            " |-- audio_liveness: double (nullable = true)\n",
            " |-- audio_loudness: double (nullable = true)\n",
            " |-- audio_mode_1: integer (nullable = true)\n",
            " |-- audio_speechiness: double (nullable = true)\n",
            " |-- audio_tempo: double (nullable = true)\n",
            " |-- audio_time_signature: integer (nullable = true)\n",
            " |-- audio_valence: double (nullable = true)\n",
            " |-- track_uri: string (nullable = true)\n",
            " |-- track_genre: string (nullable = true)\n",
            " |-- audio_avg_pitches_list: string (nullable = true)\n",
            " |-- pitch_1: string (nullable = true)\n",
            " |-- pitch_2: string (nullable = true)\n",
            " |-- pitch_3: string (nullable = true)\n",
            " |-- pitch_4: string (nullable = true)\n",
            " |-- pitch_5: string (nullable = true)\n",
            " |-- pitch_6: string (nullable = true)\n",
            " |-- pitch_7: string (nullable = true)\n",
            " |-- pitch_8: string (nullable = true)\n",
            " |-- pitch_9: string (nullable = true)\n",
            " |-- pitch_10: string (nullable = true)\n",
            " |-- pitch_11: string (nullable = true)\n",
            " |-- pitch_12: string (nullable = true)\n",
            " |-- audio_avg_timbre_list: string (nullable = true)\n",
            " |-- timbre_1: string (nullable = true)\n",
            " |-- timbre_2: string (nullable = true)\n",
            " |-- timbre_3: string (nullable = true)\n",
            " |-- timbre_4: string (nullable = true)\n",
            " |-- timbre_5: string (nullable = true)\n",
            " |-- timbre_6: string (nullable = true)\n",
            " |-- timbre_7: string (nullable = true)\n",
            " |-- timbre_8: string (nullable = true)\n",
            " |-- timbre_9: string (nullable = true)\n",
            " |-- timbre_10: string (nullable = true)\n",
            " |-- timbre_11: string (nullable = true)\n",
            " |-- timbre_12: string (nullable = true)\n",
            "\n"
          ]
        }
      ]
    },
    {
      "cell_type": "code",
      "source": [
        "# String to Date but return null value \n",
        "# spotify_tracks_dt = spotify_tracks.withColumn(\"album_release_date\", to_date(col(\"album_release_date\"),\"yyyy-MM-dd\"))\n",
        "# spotify_tracks_dt.select(\"album_release_date\").show()\n",
        "\n",
        "def to_date_(col, formats=(\"yyyy-MM-dd\", \"y\")):\n",
        "    # Spark 2.2 or later syntax, for < 2.2 use unix_timestamp and cast\n",
        "    return coalesce(*[to_date(col, f) for f in formats])\n",
        "\n",
        "spotify_tracks = spotify_tracks.withColumn(\"album_release_date_td\", to_date_(\"album_release_date\"))\n",
        "spotify_tracks.select(\"album_release_date_td\").show()"
      ],
      "metadata": {
        "colab": {
          "base_uri": "https://localhost:8080/"
        },
        "id": "3uuTX8Qrgt7g",
        "outputId": "86778532-a569-4024-f40f-50a20b8016e3"
      },
      "execution_count": null,
      "outputs": [
        {
          "output_type": "stream",
          "name": "stdout",
          "text": [
            "+---------------------+\n",
            "|album_release_date_td|\n",
            "+---------------------+\n",
            "|           1994-01-01|\n",
            "|           2003-03-24|\n",
            "|           2008-05-12|\n",
            "|           2013-04-26|\n",
            "|           2011-01-01|\n",
            "|           2008-04-17|\n",
            "|           2013-04-18|\n",
            "|           1994-01-01|\n",
            "|           1994-03-28|\n",
            "|           2007-03-09|\n",
            "|           2009-07-10|\n",
            "|           2010-02-07|\n",
            "|           2011-03-21|\n",
            "|           2009-05-03|\n",
            "|           2001-01-01|\n",
            "|           2008-06-02|\n",
            "|           2010-03-29|\n",
            "|           2012-06-28|\n",
            "|           2007-04-02|\n",
            "|           2011-08-08|\n",
            "+---------------------+\n",
            "only showing top 20 rows\n",
            "\n"
          ]
        }
      ]
    },
    {
      "cell_type": "code",
      "source": [
        "# Split date to columns\n",
        "spotify_tracks = spotify_tracks.withColumn('day', dayofmonth(col('album_release_date_td')))\n",
        "spotify_tracks = spotify_tracks.withColumn('month', month(col('album_release_date_td')))\n",
        "spotify_tracks = spotify_tracks.withColumn('year', year(col('album_release_date_td')))"
      ],
      "metadata": {
        "id": "oPpjunfFgxiR"
      },
      "execution_count": null,
      "outputs": []
    },
    {
      "cell_type": "code",
      "source": [
        "spotify_tracks.printSchema()"
      ],
      "metadata": {
        "colab": {
          "base_uri": "https://localhost:8080/"
        },
        "id": "f-iUlhTLgz0K",
        "outputId": "c6e1aec4-5f15-4879-e981-a287df6ad7ac"
      },
      "execution_count": null,
      "outputs": [
        {
          "output_type": "stream",
          "name": "stdout",
          "text": [
            "root\n",
            " |-- id: string (nullable = true)\n",
            " |-- track_name: string (nullable = true)\n",
            " |-- track_explicit: boolean (nullable = true)\n",
            " |-- track_popularity: integer (nullable = true)\n",
            " |-- album_name: string (nullable = true)\n",
            " |-- album_release_date: string (nullable = true)\n",
            " |-- album_release_date_precision: string (nullable = true)\n",
            " |-- artist_name: string (nullable = true)\n",
            " |-- audio_avg_pitches: string (nullable = true)\n",
            " |-- audio_avg_timbre: string (nullable = true)\n",
            " |-- audio_acousticness: double (nullable = true)\n",
            " |-- audio_danceability: double (nullable = true)\n",
            " |-- audio_duration_ms: integer (nullable = true)\n",
            " |-- audio_energy: double (nullable = true)\n",
            " |-- audio_instrumentalness: double (nullable = true)\n",
            " |-- audio_key_1: integer (nullable = true)\n",
            " |-- audio_liveness: double (nullable = true)\n",
            " |-- audio_loudness: double (nullable = true)\n",
            " |-- audio_mode_1: integer (nullable = true)\n",
            " |-- audio_speechiness: double (nullable = true)\n",
            " |-- audio_tempo: double (nullable = true)\n",
            " |-- audio_time_signature: integer (nullable = true)\n",
            " |-- audio_valence: double (nullable = true)\n",
            " |-- track_uri: string (nullable = true)\n",
            " |-- track_genre: string (nullable = true)\n",
            " |-- audio_avg_pitches_list: string (nullable = true)\n",
            " |-- pitch_1: string (nullable = true)\n",
            " |-- pitch_2: string (nullable = true)\n",
            " |-- pitch_3: string (nullable = true)\n",
            " |-- pitch_4: string (nullable = true)\n",
            " |-- pitch_5: string (nullable = true)\n",
            " |-- pitch_6: string (nullable = true)\n",
            " |-- pitch_7: string (nullable = true)\n",
            " |-- pitch_8: string (nullable = true)\n",
            " |-- pitch_9: string (nullable = true)\n",
            " |-- pitch_10: string (nullable = true)\n",
            " |-- pitch_11: string (nullable = true)\n",
            " |-- pitch_12: string (nullable = true)\n",
            " |-- audio_avg_timbre_list: string (nullable = true)\n",
            " |-- timbre_1: string (nullable = true)\n",
            " |-- timbre_2: string (nullable = true)\n",
            " |-- timbre_3: string (nullable = true)\n",
            " |-- timbre_4: string (nullable = true)\n",
            " |-- timbre_5: string (nullable = true)\n",
            " |-- timbre_6: string (nullable = true)\n",
            " |-- timbre_7: string (nullable = true)\n",
            " |-- timbre_8: string (nullable = true)\n",
            " |-- timbre_9: string (nullable = true)\n",
            " |-- timbre_10: string (nullable = true)\n",
            " |-- timbre_11: string (nullable = true)\n",
            " |-- timbre_12: string (nullable = true)\n",
            " |-- album_release_date_td: date (nullable = true)\n",
            " |-- day: integer (nullable = true)\n",
            " |-- month: integer (nullable = true)\n",
            " |-- year: integer (nullable = true)\n",
            "\n"
          ]
        }
      ]
    },
    {
      "cell_type": "code",
      "source": [
        "# Delete columns\n",
        "cols = (\"album_release_date\", \"album_release_date_td\", \"audio_avg_pitches\",\"audio_avg_timbre\", \"audio_avg_pitches_list\", \"audio_avg_timbre_list\", \"track_uri\", \"id\")\n",
        "spotify_tracks = spotify_tracks.drop(*cols)\n",
        "\n",
        "spotify_tracks.printSchema()"
      ],
      "metadata": {
        "colab": {
          "base_uri": "https://localhost:8080/"
        },
        "id": "UoRimi6sg3jf",
        "outputId": "a9f187dd-5f9d-49ba-e8ce-f60c71b1e410"
      },
      "execution_count": null,
      "outputs": [
        {
          "output_type": "stream",
          "name": "stdout",
          "text": [
            "root\n",
            " |-- track_name: string (nullable = true)\n",
            " |-- track_explicit: boolean (nullable = true)\n",
            " |-- track_popularity: integer (nullable = true)\n",
            " |-- album_name: string (nullable = true)\n",
            " |-- album_release_date_precision: string (nullable = true)\n",
            " |-- artist_name: string (nullable = true)\n",
            " |-- audio_acousticness: double (nullable = true)\n",
            " |-- audio_danceability: double (nullable = true)\n",
            " |-- audio_duration_ms: integer (nullable = true)\n",
            " |-- audio_energy: double (nullable = true)\n",
            " |-- audio_instrumentalness: double (nullable = true)\n",
            " |-- audio_key_1: integer (nullable = true)\n",
            " |-- audio_liveness: double (nullable = true)\n",
            " |-- audio_loudness: double (nullable = true)\n",
            " |-- audio_mode_1: integer (nullable = true)\n",
            " |-- audio_speechiness: double (nullable = true)\n",
            " |-- audio_tempo: double (nullable = true)\n",
            " |-- audio_time_signature: integer (nullable = true)\n",
            " |-- audio_valence: double (nullable = true)\n",
            " |-- track_genre: string (nullable = true)\n",
            " |-- pitch_1: string (nullable = true)\n",
            " |-- pitch_2: string (nullable = true)\n",
            " |-- pitch_3: string (nullable = true)\n",
            " |-- pitch_4: string (nullable = true)\n",
            " |-- pitch_5: string (nullable = true)\n",
            " |-- pitch_6: string (nullable = true)\n",
            " |-- pitch_7: string (nullable = true)\n",
            " |-- pitch_8: string (nullable = true)\n",
            " |-- pitch_9: string (nullable = true)\n",
            " |-- pitch_10: string (nullable = true)\n",
            " |-- pitch_11: string (nullable = true)\n",
            " |-- pitch_12: string (nullable = true)\n",
            " |-- timbre_1: string (nullable = true)\n",
            " |-- timbre_2: string (nullable = true)\n",
            " |-- timbre_3: string (nullable = true)\n",
            " |-- timbre_4: string (nullable = true)\n",
            " |-- timbre_5: string (nullable = true)\n",
            " |-- timbre_6: string (nullable = true)\n",
            " |-- timbre_7: string (nullable = true)\n",
            " |-- timbre_8: string (nullable = true)\n",
            " |-- timbre_9: string (nullable = true)\n",
            " |-- timbre_10: string (nullable = true)\n",
            " |-- timbre_11: string (nullable = true)\n",
            " |-- timbre_12: string (nullable = true)\n",
            " |-- day: integer (nullable = true)\n",
            " |-- month: integer (nullable = true)\n",
            " |-- year: integer (nullable = true)\n",
            "\n"
          ]
        }
      ]
    },
    {
      "cell_type": "code",
      "source": [
        "# Cast converted columns\n",
        "spotify_tracks = spotify_tracks.withColumn(\"pitch_1\", spotify_tracks.pitch_1.cast('double'))\\\n",
        "                                .withColumn(\"pitch_2\", spotify_tracks.pitch_2.cast('double'))\\\n",
        "                                .withColumn(\"pitch_3\", spotify_tracks.pitch_3.cast('double'))\\\n",
        "                                .withColumn(\"pitch_4\", spotify_tracks.pitch_4.cast('double'))\\\n",
        "                                .withColumn(\"pitch_5\", spotify_tracks.pitch_5.cast('double'))\\\n",
        "                                .withColumn(\"pitch_6\", spotify_tracks.pitch_6.cast('double'))\\\n",
        "                                .withColumn(\"pitch_7\", spotify_tracks.pitch_7.cast('double'))\\\n",
        "                                .withColumn(\"pitch_8\", spotify_tracks.pitch_8.cast('double'))\\\n",
        "                                .withColumn(\"pitch_9\", spotify_tracks.pitch_9.cast('double'))\\\n",
        "                                .withColumn(\"pitch_10\", spotify_tracks.pitch_10.cast('double'))\\\n",
        "                                .withColumn(\"pitch_11\", spotify_tracks.pitch_11.cast('double'))\\\n",
        "                                .withColumn(\"pitch_12\", spotify_tracks.pitch_12.cast('double'))\n",
        "\n",
        "spotify_tracks = spotify_tracks.withColumn(\"timbre_1\", spotify_tracks.timbre_1.cast('double'))\\\n",
        "                                .withColumn(\"timbre_2\", spotify_tracks.timbre_2.cast('double'))\\\n",
        "                                .withColumn(\"timbre_3\", spotify_tracks.timbre_3.cast('double'))\\\n",
        "                                .withColumn(\"timbre_4\", spotify_tracks.timbre_4.cast('double'))\\\n",
        "                                .withColumn(\"timbre_5\", spotify_tracks.timbre_5.cast('double'))\\\n",
        "                                .withColumn(\"timbre_6\", spotify_tracks.timbre_6.cast('double'))\\\n",
        "                                .withColumn(\"timbre_7\", spotify_tracks.timbre_7.cast('double'))\\\n",
        "                                .withColumn(\"timbre_8\", spotify_tracks.timbre_8.cast('double'))\\\n",
        "                                .withColumn(\"timbre_9\", spotify_tracks.timbre_9.cast('double'))\\\n",
        "                                .withColumn(\"timbre_10\", spotify_tracks.timbre_10.cast('double'))\\\n",
        "                                .withColumn(\"timbre_11\", spotify_tracks.timbre_11.cast('double'))\\\n",
        "                                .withColumn(\"timbre_12\", spotify_tracks.timbre_12.cast('double'))\n",
        "\n",
        "spotify_tracks = spotify_tracks.withColumn(\"year\", spotify_tracks.year.cast('int'))\\\n",
        "                                .withColumn(\"day\", spotify_tracks.day.cast('int'))\\\n",
        "                                .withColumn(\"month\", spotify_tracks.month.cast('int'))\n",
        "\n",
        "spotify_tracks.printSchema()\n"
      ],
      "metadata": {
        "colab": {
          "base_uri": "https://localhost:8080/"
        },
        "id": "AVSh1NlIg8FU",
        "outputId": "4425ce5d-5cec-4da4-9db2-8d0cf49faa1e"
      },
      "execution_count": null,
      "outputs": [
        {
          "output_type": "stream",
          "name": "stdout",
          "text": [
            "root\n",
            " |-- track_name: string (nullable = true)\n",
            " |-- track_explicit: boolean (nullable = true)\n",
            " |-- track_popularity: integer (nullable = true)\n",
            " |-- album_name: string (nullable = true)\n",
            " |-- album_release_date_precision: string (nullable = true)\n",
            " |-- artist_name: string (nullable = true)\n",
            " |-- audio_acousticness: double (nullable = true)\n",
            " |-- audio_danceability: double (nullable = true)\n",
            " |-- audio_duration_ms: integer (nullable = true)\n",
            " |-- audio_energy: double (nullable = true)\n",
            " |-- audio_instrumentalness: double (nullable = true)\n",
            " |-- audio_key_1: integer (nullable = true)\n",
            " |-- audio_liveness: double (nullable = true)\n",
            " |-- audio_loudness: double (nullable = true)\n",
            " |-- audio_mode_1: integer (nullable = true)\n",
            " |-- audio_speechiness: double (nullable = true)\n",
            " |-- audio_tempo: double (nullable = true)\n",
            " |-- audio_time_signature: integer (nullable = true)\n",
            " |-- audio_valence: double (nullable = true)\n",
            " |-- track_genre: string (nullable = true)\n",
            " |-- pitch_1: double (nullable = true)\n",
            " |-- pitch_2: double (nullable = true)\n",
            " |-- pitch_3: double (nullable = true)\n",
            " |-- pitch_4: double (nullable = true)\n",
            " |-- pitch_5: double (nullable = true)\n",
            " |-- pitch_6: double (nullable = true)\n",
            " |-- pitch_7: double (nullable = true)\n",
            " |-- pitch_8: double (nullable = true)\n",
            " |-- pitch_9: double (nullable = true)\n",
            " |-- pitch_10: double (nullable = true)\n",
            " |-- pitch_11: double (nullable = true)\n",
            " |-- pitch_12: double (nullable = true)\n",
            " |-- timbre_1: double (nullable = true)\n",
            " |-- timbre_2: double (nullable = true)\n",
            " |-- timbre_3: double (nullable = true)\n",
            " |-- timbre_4: double (nullable = true)\n",
            " |-- timbre_5: double (nullable = true)\n",
            " |-- timbre_6: double (nullable = true)\n",
            " |-- timbre_7: double (nullable = true)\n",
            " |-- timbre_8: double (nullable = true)\n",
            " |-- timbre_9: double (nullable = true)\n",
            " |-- timbre_10: double (nullable = true)\n",
            " |-- timbre_11: double (nullable = true)\n",
            " |-- timbre_12: double (nullable = true)\n",
            " |-- day: integer (nullable = true)\n",
            " |-- month: integer (nullable = true)\n",
            " |-- year: integer (nullable = true)\n",
            "\n"
          ]
        }
      ]
    },
    {
      "cell_type": "code",
      "source": [
        "# null values in each column\n",
        "spark.sql(\"set spark.sql.legacy.timeParserPolicy=LEGACY\")\n",
        "spotify_tracks.agg(*[f.count(f.when(f.isnull(c), c)).alias(c) for c in spotify_tracks.columns]).show()"
      ],
      "metadata": {
        "colab": {
          "base_uri": "https://localhost:8080/"
        },
        "id": "BdkAtLYOhUWS",
        "outputId": "9e89a872-e8f1-45be-eb2b-dbe428cfd411"
      },
      "execution_count": null,
      "outputs": [
        {
          "output_type": "stream",
          "name": "stdout",
          "text": [
            "+----------+--------------+----------------+----------+----------------------------+-----------+------------------+------------------+-----------------+------------+----------------------+-----------+--------------+--------------+------------+-----------------+-----------+--------------------+-------------+-----------+-------+-------+-------+-------+-------+-------+-------+-------+-------+--------+--------+--------+--------+--------+--------+--------+--------+--------+--------+--------+--------+---------+---------+---------+---+-----+----+\n",
            "|track_name|track_explicit|track_popularity|album_name|album_release_date_precision|artist_name|audio_acousticness|audio_danceability|audio_duration_ms|audio_energy|audio_instrumentalness|audio_key_1|audio_liveness|audio_loudness|audio_mode_1|audio_speechiness|audio_tempo|audio_time_signature|audio_valence|track_genre|pitch_1|pitch_2|pitch_3|pitch_4|pitch_5|pitch_6|pitch_7|pitch_8|pitch_9|pitch_10|pitch_11|pitch_12|timbre_1|timbre_2|timbre_3|timbre_4|timbre_5|timbre_6|timbre_7|timbre_8|timbre_9|timbre_10|timbre_11|timbre_12|day|month|year|\n",
            "+----------+--------------+----------------+----------+----------------------------+-----------+------------------+------------------+-----------------+------------+----------------------+-----------+--------------+--------------+------------+-----------------+-----------+--------------------+-------------+-----------+-------+-------+-------+-------+-------+-------+-------+-------+-------+--------+--------+--------+--------+--------+--------+--------+--------+--------+--------+--------+--------+---------+---------+---------+---+-----+----+\n",
            "|         0|             0|               0|         0|                           0|          0|                 0|                 0|                0|           0|                     0|          0|             0|             0|           0|                0|          0|                   0|            0|          0|      0|      0|      0|      0|      0|      0|      0|      0|      0|       0|       0|       0|       0|       0|       0|       0|       0|       0|       0|       0|       0|        0|        0|        0|  0|    0|   0|\n",
            "+----------+--------------+----------------+----------+----------------------------+-----------+------------------+------------------+-----------------+------------+----------------------+-----------+--------------+--------------+------------+-----------------+-----------+--------------------+-------------+-----------+-------+-------+-------+-------+-------+-------+-------+-------+-------+--------+--------+--------+--------+--------+--------+--------+--------+--------+--------+--------+--------+---------+---------+---------+---+-----+----+\n",
            "\n"
          ]
        }
      ]
    },
    {
      "cell_type": "code",
      "source": [
        "spotify_tracks = spotify_tracks.dropna()"
      ],
      "metadata": {
        "id": "ydeGs_KbhWns"
      },
      "execution_count": null,
      "outputs": []
    },
    {
      "cell_type": "code",
      "source": [
        "# Reverse json \n",
        "\n",
        "import json\n",
        "\n",
        "# Opening JSON file\n",
        "f = open('map_genre_small.json')\n",
        "map_genre = json.load(f)\n",
        "f.close()\n",
        "\n",
        "def invert_dict(d): \n",
        "    inverse = dict() \n",
        "    for key in d: \n",
        "        # Go through the list that is saved in the dict:\n",
        "        for item in d[key]:\n",
        "            # Check if in the inverted dict the key exists\n",
        "            if item not in inverse: \n",
        "                # If not create a new list\n",
        "                inverse[item] = key \n",
        "            #else: \n",
        "            #    inverse[item].append(key) \n",
        "    return inverse\n",
        "\n",
        "map_genre_inv = invert_dict(map_genre)"
      ],
      "metadata": {
        "id": "25Np22dvhHhx"
      },
      "execution_count": null,
      "outputs": []
    },
    {
      "cell_type": "code",
      "source": [
        "udf_foo = udf(lambda x: map_genre_inv[x], StringType())\n",
        "spotify_tracks = spotify_tracks.withColumn(\"track_genre\", udf_foo(\"track_genre\"))"
      ],
      "metadata": {
        "id": "yPuvnJYETKf1"
      },
      "execution_count": null,
      "outputs": []
    },
    {
      "cell_type": "code",
      "source": [
        "spotify_tracks.groupBy('track_genre').count().toPandas().transpose()"
      ],
      "metadata": {
        "colab": {
          "base_uri": "https://localhost:8080/",
          "height": 112
        },
        "id": "84GoLGqtTL-b",
        "outputId": "933e0e8a-5f89-4ac1-9ff7-58cd6afe5f27"
      },
      "execution_count": null,
      "outputs": [
        {
          "output_type": "execute_result",
          "data": {
            "text/plain": [
              "               0            1        2           3     4        5        6   \\\n",
              "track_genre   pop  alternative  ambient  electronic  jazz  country  musical   \n",
              "count        5995         6000     2722       13579  2896     5315     3189   \n",
              "\n",
              "                7             8     9          10     11  \n",
              "track_genre  metal  unclassified  rock  classical  latin  \n",
              "count         3600          8950  5283       2393   5028  "
            ],
            "text/html": [
              "\n",
              "  <div id=\"df-5c78bf3b-1370-4f24-bd1b-66bd458d7b6d\">\n",
              "    <div class=\"colab-df-container\">\n",
              "      <div>\n",
              "<style scoped>\n",
              "    .dataframe tbody tr th:only-of-type {\n",
              "        vertical-align: middle;\n",
              "    }\n",
              "\n",
              "    .dataframe tbody tr th {\n",
              "        vertical-align: top;\n",
              "    }\n",
              "\n",
              "    .dataframe thead th {\n",
              "        text-align: right;\n",
              "    }\n",
              "</style>\n",
              "<table border=\"1\" class=\"dataframe\">\n",
              "  <thead>\n",
              "    <tr style=\"text-align: right;\">\n",
              "      <th></th>\n",
              "      <th>0</th>\n",
              "      <th>1</th>\n",
              "      <th>2</th>\n",
              "      <th>3</th>\n",
              "      <th>4</th>\n",
              "      <th>5</th>\n",
              "      <th>6</th>\n",
              "      <th>7</th>\n",
              "      <th>8</th>\n",
              "      <th>9</th>\n",
              "      <th>10</th>\n",
              "      <th>11</th>\n",
              "    </tr>\n",
              "  </thead>\n",
              "  <tbody>\n",
              "    <tr>\n",
              "      <th>track_genre</th>\n",
              "      <td>pop</td>\n",
              "      <td>alternative</td>\n",
              "      <td>ambient</td>\n",
              "      <td>electronic</td>\n",
              "      <td>jazz</td>\n",
              "      <td>country</td>\n",
              "      <td>musical</td>\n",
              "      <td>metal</td>\n",
              "      <td>unclassified</td>\n",
              "      <td>rock</td>\n",
              "      <td>classical</td>\n",
              "      <td>latin</td>\n",
              "    </tr>\n",
              "    <tr>\n",
              "      <th>count</th>\n",
              "      <td>5995</td>\n",
              "      <td>6000</td>\n",
              "      <td>2722</td>\n",
              "      <td>13579</td>\n",
              "      <td>2896</td>\n",
              "      <td>5315</td>\n",
              "      <td>3189</td>\n",
              "      <td>3600</td>\n",
              "      <td>8950</td>\n",
              "      <td>5283</td>\n",
              "      <td>2393</td>\n",
              "      <td>5028</td>\n",
              "    </tr>\n",
              "  </tbody>\n",
              "</table>\n",
              "</div>\n",
              "      <button class=\"colab-df-convert\" onclick=\"convertToInteractive('df-5c78bf3b-1370-4f24-bd1b-66bd458d7b6d')\"\n",
              "              title=\"Convert this dataframe to an interactive table.\"\n",
              "              style=\"display:none;\">\n",
              "        \n",
              "  <svg xmlns=\"http://www.w3.org/2000/svg\" height=\"24px\"viewBox=\"0 0 24 24\"\n",
              "       width=\"24px\">\n",
              "    <path d=\"M0 0h24v24H0V0z\" fill=\"none\"/>\n",
              "    <path d=\"M18.56 5.44l.94 2.06.94-2.06 2.06-.94-2.06-.94-.94-2.06-.94 2.06-2.06.94zm-11 1L8.5 8.5l.94-2.06 2.06-.94-2.06-.94L8.5 2.5l-.94 2.06-2.06.94zm10 10l.94 2.06.94-2.06 2.06-.94-2.06-.94-.94-2.06-.94 2.06-2.06.94z\"/><path d=\"M17.41 7.96l-1.37-1.37c-.4-.4-.92-.59-1.43-.59-.52 0-1.04.2-1.43.59L10.3 9.45l-7.72 7.72c-.78.78-.78 2.05 0 2.83L4 21.41c.39.39.9.59 1.41.59.51 0 1.02-.2 1.41-.59l7.78-7.78 2.81-2.81c.8-.78.8-2.07 0-2.86zM5.41 20L4 18.59l7.72-7.72 1.47 1.35L5.41 20z\"/>\n",
              "  </svg>\n",
              "      </button>\n",
              "      \n",
              "  <style>\n",
              "    .colab-df-container {\n",
              "      display:flex;\n",
              "      flex-wrap:wrap;\n",
              "      gap: 12px;\n",
              "    }\n",
              "\n",
              "    .colab-df-convert {\n",
              "      background-color: #E8F0FE;\n",
              "      border: none;\n",
              "      border-radius: 50%;\n",
              "      cursor: pointer;\n",
              "      display: none;\n",
              "      fill: #1967D2;\n",
              "      height: 32px;\n",
              "      padding: 0 0 0 0;\n",
              "      width: 32px;\n",
              "    }\n",
              "\n",
              "    .colab-df-convert:hover {\n",
              "      background-color: #E2EBFA;\n",
              "      box-shadow: 0px 1px 2px rgba(60, 64, 67, 0.3), 0px 1px 3px 1px rgba(60, 64, 67, 0.15);\n",
              "      fill: #174EA6;\n",
              "    }\n",
              "\n",
              "    [theme=dark] .colab-df-convert {\n",
              "      background-color: #3B4455;\n",
              "      fill: #D2E3FC;\n",
              "    }\n",
              "\n",
              "    [theme=dark] .colab-df-convert:hover {\n",
              "      background-color: #434B5C;\n",
              "      box-shadow: 0px 1px 3px 1px rgba(0, 0, 0, 0.15);\n",
              "      filter: drop-shadow(0px 1px 2px rgba(0, 0, 0, 0.3));\n",
              "      fill: #FFFFFF;\n",
              "    }\n",
              "  </style>\n",
              "\n",
              "      <script>\n",
              "        const buttonEl =\n",
              "          document.querySelector('#df-5c78bf3b-1370-4f24-bd1b-66bd458d7b6d button.colab-df-convert');\n",
              "        buttonEl.style.display =\n",
              "          google.colab.kernel.accessAllowed ? 'block' : 'none';\n",
              "\n",
              "        async function convertToInteractive(key) {\n",
              "          const element = document.querySelector('#df-5c78bf3b-1370-4f24-bd1b-66bd458d7b6d');\n",
              "          const dataTable =\n",
              "            await google.colab.kernel.invokeFunction('convertToInteractive',\n",
              "                                                     [key], {});\n",
              "          if (!dataTable) return;\n",
              "\n",
              "          const docLinkHtml = 'Like what you see? Visit the ' +\n",
              "            '<a target=\"_blank\" href=https://colab.research.google.com/notebooks/data_table.ipynb>data table notebook</a>'\n",
              "            + ' to learn more about interactive tables.';\n",
              "          element.innerHTML = '';\n",
              "          dataTable['output_type'] = 'display_data';\n",
              "          await google.colab.output.renderOutput(dataTable, element);\n",
              "          const docLink = document.createElement('div');\n",
              "          docLink.innerHTML = docLinkHtml;\n",
              "          element.appendChild(docLink);\n",
              "        }\n",
              "      </script>\n",
              "    </div>\n",
              "  </div>\n",
              "  "
            ]
          },
          "metadata": {},
          "execution_count": 25
        }
      ]
    },
    {
      "cell_type": "code",
      "source": [
        "spotify_tracks = spotify_tracks.filter(spotify_tracks.track_genre != 'unclassified')\n",
        "spotify_tracks.groupBy('track_genre').count().toPandas().transpose()"
      ],
      "metadata": {
        "colab": {
          "base_uri": "https://localhost:8080/",
          "height": 112
        },
        "id": "4qp2GYaeTNj2",
        "outputId": "2e324289-2f1b-4de8-c56c-b0ee264bbe0e"
      },
      "execution_count": null,
      "outputs": [
        {
          "output_type": "execute_result",
          "data": {
            "text/plain": [
              "               0            1        2           3     4        5        6   \\\n",
              "track_genre   pop  alternative  ambient  electronic  jazz  country  musical   \n",
              "count        5995         6000     2722       13579  2896     5315     3189   \n",
              "\n",
              "                7     8          9      10  \n",
              "track_genre  metal  rock  classical  latin  \n",
              "count         3600  5283       2393   5028  "
            ],
            "text/html": [
              "\n",
              "  <div id=\"df-4243c026-ff2c-47da-9b4c-b61c31837fee\">\n",
              "    <div class=\"colab-df-container\">\n",
              "      <div>\n",
              "<style scoped>\n",
              "    .dataframe tbody tr th:only-of-type {\n",
              "        vertical-align: middle;\n",
              "    }\n",
              "\n",
              "    .dataframe tbody tr th {\n",
              "        vertical-align: top;\n",
              "    }\n",
              "\n",
              "    .dataframe thead th {\n",
              "        text-align: right;\n",
              "    }\n",
              "</style>\n",
              "<table border=\"1\" class=\"dataframe\">\n",
              "  <thead>\n",
              "    <tr style=\"text-align: right;\">\n",
              "      <th></th>\n",
              "      <th>0</th>\n",
              "      <th>1</th>\n",
              "      <th>2</th>\n",
              "      <th>3</th>\n",
              "      <th>4</th>\n",
              "      <th>5</th>\n",
              "      <th>6</th>\n",
              "      <th>7</th>\n",
              "      <th>8</th>\n",
              "      <th>9</th>\n",
              "      <th>10</th>\n",
              "    </tr>\n",
              "  </thead>\n",
              "  <tbody>\n",
              "    <tr>\n",
              "      <th>track_genre</th>\n",
              "      <td>pop</td>\n",
              "      <td>alternative</td>\n",
              "      <td>ambient</td>\n",
              "      <td>electronic</td>\n",
              "      <td>jazz</td>\n",
              "      <td>country</td>\n",
              "      <td>musical</td>\n",
              "      <td>metal</td>\n",
              "      <td>rock</td>\n",
              "      <td>classical</td>\n",
              "      <td>latin</td>\n",
              "    </tr>\n",
              "    <tr>\n",
              "      <th>count</th>\n",
              "      <td>5995</td>\n",
              "      <td>6000</td>\n",
              "      <td>2722</td>\n",
              "      <td>13579</td>\n",
              "      <td>2896</td>\n",
              "      <td>5315</td>\n",
              "      <td>3189</td>\n",
              "      <td>3600</td>\n",
              "      <td>5283</td>\n",
              "      <td>2393</td>\n",
              "      <td>5028</td>\n",
              "    </tr>\n",
              "  </tbody>\n",
              "</table>\n",
              "</div>\n",
              "      <button class=\"colab-df-convert\" onclick=\"convertToInteractive('df-4243c026-ff2c-47da-9b4c-b61c31837fee')\"\n",
              "              title=\"Convert this dataframe to an interactive table.\"\n",
              "              style=\"display:none;\">\n",
              "        \n",
              "  <svg xmlns=\"http://www.w3.org/2000/svg\" height=\"24px\"viewBox=\"0 0 24 24\"\n",
              "       width=\"24px\">\n",
              "    <path d=\"M0 0h24v24H0V0z\" fill=\"none\"/>\n",
              "    <path d=\"M18.56 5.44l.94 2.06.94-2.06 2.06-.94-2.06-.94-.94-2.06-.94 2.06-2.06.94zm-11 1L8.5 8.5l.94-2.06 2.06-.94-2.06-.94L8.5 2.5l-.94 2.06-2.06.94zm10 10l.94 2.06.94-2.06 2.06-.94-2.06-.94-.94-2.06-.94 2.06-2.06.94z\"/><path d=\"M17.41 7.96l-1.37-1.37c-.4-.4-.92-.59-1.43-.59-.52 0-1.04.2-1.43.59L10.3 9.45l-7.72 7.72c-.78.78-.78 2.05 0 2.83L4 21.41c.39.39.9.59 1.41.59.51 0 1.02-.2 1.41-.59l7.78-7.78 2.81-2.81c.8-.78.8-2.07 0-2.86zM5.41 20L4 18.59l7.72-7.72 1.47 1.35L5.41 20z\"/>\n",
              "  </svg>\n",
              "      </button>\n",
              "      \n",
              "  <style>\n",
              "    .colab-df-container {\n",
              "      display:flex;\n",
              "      flex-wrap:wrap;\n",
              "      gap: 12px;\n",
              "    }\n",
              "\n",
              "    .colab-df-convert {\n",
              "      background-color: #E8F0FE;\n",
              "      border: none;\n",
              "      border-radius: 50%;\n",
              "      cursor: pointer;\n",
              "      display: none;\n",
              "      fill: #1967D2;\n",
              "      height: 32px;\n",
              "      padding: 0 0 0 0;\n",
              "      width: 32px;\n",
              "    }\n",
              "\n",
              "    .colab-df-convert:hover {\n",
              "      background-color: #E2EBFA;\n",
              "      box-shadow: 0px 1px 2px rgba(60, 64, 67, 0.3), 0px 1px 3px 1px rgba(60, 64, 67, 0.15);\n",
              "      fill: #174EA6;\n",
              "    }\n",
              "\n",
              "    [theme=dark] .colab-df-convert {\n",
              "      background-color: #3B4455;\n",
              "      fill: #D2E3FC;\n",
              "    }\n",
              "\n",
              "    [theme=dark] .colab-df-convert:hover {\n",
              "      background-color: #434B5C;\n",
              "      box-shadow: 0px 1px 3px 1px rgba(0, 0, 0, 0.15);\n",
              "      filter: drop-shadow(0px 1px 2px rgba(0, 0, 0, 0.3));\n",
              "      fill: #FFFFFF;\n",
              "    }\n",
              "  </style>\n",
              "\n",
              "      <script>\n",
              "        const buttonEl =\n",
              "          document.querySelector('#df-4243c026-ff2c-47da-9b4c-b61c31837fee button.colab-df-convert');\n",
              "        buttonEl.style.display =\n",
              "          google.colab.kernel.accessAllowed ? 'block' : 'none';\n",
              "\n",
              "        async function convertToInteractive(key) {\n",
              "          const element = document.querySelector('#df-4243c026-ff2c-47da-9b4c-b61c31837fee');\n",
              "          const dataTable =\n",
              "            await google.colab.kernel.invokeFunction('convertToInteractive',\n",
              "                                                     [key], {});\n",
              "          if (!dataTable) return;\n",
              "\n",
              "          const docLinkHtml = 'Like what you see? Visit the ' +\n",
              "            '<a target=\"_blank\" href=https://colab.research.google.com/notebooks/data_table.ipynb>data table notebook</a>'\n",
              "            + ' to learn more about interactive tables.';\n",
              "          element.innerHTML = '';\n",
              "          dataTable['output_type'] = 'display_data';\n",
              "          await google.colab.output.renderOutput(dataTable, element);\n",
              "          const docLink = document.createElement('div');\n",
              "          docLink.innerHTML = docLinkHtml;\n",
              "          element.appendChild(docLink);\n",
              "        }\n",
              "      </script>\n",
              "    </div>\n",
              "  </div>\n",
              "  "
            ]
          },
          "metadata": {},
          "execution_count": 26
        }
      ]
    },
    {
      "cell_type": "code",
      "source": [
        "spotify_tracks.cache()"
      ],
      "metadata": {
        "colab": {
          "base_uri": "https://localhost:8080/"
        },
        "id": "9DKhveAphOtM",
        "outputId": "d4afbfc4-f273-4138-a0d0-a7fbdd22d53b"
      },
      "execution_count": null,
      "outputs": [
        {
          "output_type": "execute_result",
          "data": {
            "text/plain": [
              "DataFrame[track_name: string, track_explicit: boolean, track_popularity: int, album_name: string, album_release_date_precision: string, artist_name: string, audio_acousticness: double, audio_danceability: double, audio_duration_ms: int, audio_energy: double, audio_instrumentalness: double, audio_key_1: int, audio_liveness: double, audio_loudness: double, audio_mode_1: int, audio_speechiness: double, audio_tempo: double, audio_time_signature: int, audio_valence: double, track_genre: string, pitch_1: double, pitch_2: double, pitch_3: double, pitch_4: double, pitch_5: double, pitch_6: double, pitch_7: double, pitch_8: double, pitch_9: double, pitch_10: double, pitch_11: double, pitch_12: double, timbre_1: double, timbre_2: double, timbre_3: double, timbre_4: double, timbre_5: double, timbre_6: double, timbre_7: double, timbre_8: double, timbre_9: double, timbre_10: double, timbre_11: double, timbre_12: double, day: int, month: int, year: int]"
            ]
          },
          "metadata": {},
          "execution_count": 27
        }
      ]
    },
    {
      "cell_type": "markdown",
      "source": [
        "### Genre Prevision Dataset"
      ],
      "metadata": {
        "id": "RDUd46ZbVpti"
      }
    },
    {
      "cell_type": "code",
      "source": [
        "# Balance and create dataset for genre prevision\n",
        "fractions_dict = spotify_tracks.groupBy('track_genre').count().toPandas().to_dict()\n",
        "\n",
        "fraction = {}\n",
        "for genre in fractions_dict[\"track_genre\"]:\n",
        "  g = fractions_dict[\"track_genre\"][genre]\n",
        "  # fraction[g] = fractions_dict[\"count\"][genre] / spotify_tracks.count()\n",
        "  fraction[g] = 2000 / fractions_dict[\"count\"][genre] \n",
        "\n",
        "del fractions_dict\n",
        "spotify_tracks_genre = spotify_tracks.sampleBy(\"track_genre\", fractions=fraction, seed=0)\n",
        "spotify_tracks_genre.groupBy('track_genre').count().toPandas().transpose()"
      ],
      "metadata": {
        "colab": {
          "base_uri": "https://localhost:8080/",
          "height": 112
        },
        "id": "3NKl83IpVzIZ",
        "outputId": "3c66d6c4-2092-4bb1-8d2e-550cd5893054"
      },
      "execution_count": null,
      "outputs": [
        {
          "output_type": "execute_result",
          "data": {
            "text/plain": [
              "               0            1        2           3     4        5        6   \\\n",
              "track_genre   pop  alternative  ambient  electronic  jazz  country  musical   \n",
              "count        2080         2011     1990        2067  2016     1993     2020   \n",
              "\n",
              "                7     8          9      10  \n",
              "track_genre  metal  rock  classical  latin  \n",
              "count         2001  1989       1963   1989  "
            ],
            "text/html": [
              "\n",
              "  <div id=\"df-4aa3aa06-77bd-4209-a54c-b4f043e7cd57\">\n",
              "    <div class=\"colab-df-container\">\n",
              "      <div>\n",
              "<style scoped>\n",
              "    .dataframe tbody tr th:only-of-type {\n",
              "        vertical-align: middle;\n",
              "    }\n",
              "\n",
              "    .dataframe tbody tr th {\n",
              "        vertical-align: top;\n",
              "    }\n",
              "\n",
              "    .dataframe thead th {\n",
              "        text-align: right;\n",
              "    }\n",
              "</style>\n",
              "<table border=\"1\" class=\"dataframe\">\n",
              "  <thead>\n",
              "    <tr style=\"text-align: right;\">\n",
              "      <th></th>\n",
              "      <th>0</th>\n",
              "      <th>1</th>\n",
              "      <th>2</th>\n",
              "      <th>3</th>\n",
              "      <th>4</th>\n",
              "      <th>5</th>\n",
              "      <th>6</th>\n",
              "      <th>7</th>\n",
              "      <th>8</th>\n",
              "      <th>9</th>\n",
              "      <th>10</th>\n",
              "    </tr>\n",
              "  </thead>\n",
              "  <tbody>\n",
              "    <tr>\n",
              "      <th>track_genre</th>\n",
              "      <td>pop</td>\n",
              "      <td>alternative</td>\n",
              "      <td>ambient</td>\n",
              "      <td>electronic</td>\n",
              "      <td>jazz</td>\n",
              "      <td>country</td>\n",
              "      <td>musical</td>\n",
              "      <td>metal</td>\n",
              "      <td>rock</td>\n",
              "      <td>classical</td>\n",
              "      <td>latin</td>\n",
              "    </tr>\n",
              "    <tr>\n",
              "      <th>count</th>\n",
              "      <td>2080</td>\n",
              "      <td>2011</td>\n",
              "      <td>1990</td>\n",
              "      <td>2067</td>\n",
              "      <td>2016</td>\n",
              "      <td>1993</td>\n",
              "      <td>2020</td>\n",
              "      <td>2001</td>\n",
              "      <td>1989</td>\n",
              "      <td>1963</td>\n",
              "      <td>1989</td>\n",
              "    </tr>\n",
              "  </tbody>\n",
              "</table>\n",
              "</div>\n",
              "      <button class=\"colab-df-convert\" onclick=\"convertToInteractive('df-4aa3aa06-77bd-4209-a54c-b4f043e7cd57')\"\n",
              "              title=\"Convert this dataframe to an interactive table.\"\n",
              "              style=\"display:none;\">\n",
              "        \n",
              "  <svg xmlns=\"http://www.w3.org/2000/svg\" height=\"24px\"viewBox=\"0 0 24 24\"\n",
              "       width=\"24px\">\n",
              "    <path d=\"M0 0h24v24H0V0z\" fill=\"none\"/>\n",
              "    <path d=\"M18.56 5.44l.94 2.06.94-2.06 2.06-.94-2.06-.94-.94-2.06-.94 2.06-2.06.94zm-11 1L8.5 8.5l.94-2.06 2.06-.94-2.06-.94L8.5 2.5l-.94 2.06-2.06.94zm10 10l.94 2.06.94-2.06 2.06-.94-2.06-.94-.94-2.06-.94 2.06-2.06.94z\"/><path d=\"M17.41 7.96l-1.37-1.37c-.4-.4-.92-.59-1.43-.59-.52 0-1.04.2-1.43.59L10.3 9.45l-7.72 7.72c-.78.78-.78 2.05 0 2.83L4 21.41c.39.39.9.59 1.41.59.51 0 1.02-.2 1.41-.59l7.78-7.78 2.81-2.81c.8-.78.8-2.07 0-2.86zM5.41 20L4 18.59l7.72-7.72 1.47 1.35L5.41 20z\"/>\n",
              "  </svg>\n",
              "      </button>\n",
              "      \n",
              "  <style>\n",
              "    .colab-df-container {\n",
              "      display:flex;\n",
              "      flex-wrap:wrap;\n",
              "      gap: 12px;\n",
              "    }\n",
              "\n",
              "    .colab-df-convert {\n",
              "      background-color: #E8F0FE;\n",
              "      border: none;\n",
              "      border-radius: 50%;\n",
              "      cursor: pointer;\n",
              "      display: none;\n",
              "      fill: #1967D2;\n",
              "      height: 32px;\n",
              "      padding: 0 0 0 0;\n",
              "      width: 32px;\n",
              "    }\n",
              "\n",
              "    .colab-df-convert:hover {\n",
              "      background-color: #E2EBFA;\n",
              "      box-shadow: 0px 1px 2px rgba(60, 64, 67, 0.3), 0px 1px 3px 1px rgba(60, 64, 67, 0.15);\n",
              "      fill: #174EA6;\n",
              "    }\n",
              "\n",
              "    [theme=dark] .colab-df-convert {\n",
              "      background-color: #3B4455;\n",
              "      fill: #D2E3FC;\n",
              "    }\n",
              "\n",
              "    [theme=dark] .colab-df-convert:hover {\n",
              "      background-color: #434B5C;\n",
              "      box-shadow: 0px 1px 3px 1px rgba(0, 0, 0, 0.15);\n",
              "      filter: drop-shadow(0px 1px 2px rgba(0, 0, 0, 0.3));\n",
              "      fill: #FFFFFF;\n",
              "    }\n",
              "  </style>\n",
              "\n",
              "      <script>\n",
              "        const buttonEl =\n",
              "          document.querySelector('#df-4aa3aa06-77bd-4209-a54c-b4f043e7cd57 button.colab-df-convert');\n",
              "        buttonEl.style.display =\n",
              "          google.colab.kernel.accessAllowed ? 'block' : 'none';\n",
              "\n",
              "        async function convertToInteractive(key) {\n",
              "          const element = document.querySelector('#df-4aa3aa06-77bd-4209-a54c-b4f043e7cd57');\n",
              "          const dataTable =\n",
              "            await google.colab.kernel.invokeFunction('convertToInteractive',\n",
              "                                                     [key], {});\n",
              "          if (!dataTable) return;\n",
              "\n",
              "          const docLinkHtml = 'Like what you see? Visit the ' +\n",
              "            '<a target=\"_blank\" href=https://colab.research.google.com/notebooks/data_table.ipynb>data table notebook</a>'\n",
              "            + ' to learn more about interactive tables.';\n",
              "          element.innerHTML = '';\n",
              "          dataTable['output_type'] = 'display_data';\n",
              "          await google.colab.output.renderOutput(dataTable, element);\n",
              "          const docLink = document.createElement('div');\n",
              "          docLink.innerHTML = docLinkHtml;\n",
              "          element.appendChild(docLink);\n",
              "        }\n",
              "      </script>\n",
              "    </div>\n",
              "  </div>\n",
              "  "
            ]
          },
          "metadata": {},
          "execution_count": 28
        }
      ]
    },
    {
      "cell_type": "markdown",
      "source": [
        "### Popularity Prevision Dataset"
      ],
      "metadata": {
        "id": "lRC61rr6WcYR"
      }
    },
    {
      "cell_type": "markdown",
      "source": [
        "#### **Discretize the target class**"
      ],
      "metadata": {
        "id": "sEKfx7rDPPuJ"
      }
    },
    {
      "cell_type": "markdown",
      "source": [
        "In this task our target class is the popularity of the track, i.e. the \"track_popularity\" feature in our dataset. We want to discretize this class in 10 classes (0-9). A popularity equals to 0 means that the track is unknows, instead it means that the track is known by everyone."
      ],
      "metadata": {
        "id": "xgSyPyYLdCn0"
      }
    },
    {
      "cell_type": "markdown",
      "source": [
        "#### Bucketizer to discretize the track_popularity"
      ],
      "metadata": {
        "id": "7YADkEfGdyM_"
      }
    },
    {
      "cell_type": "code",
      "source": [
        "splits = [i for i in range(0,101)]\n",
        "splits = splits[::10]\n",
        "splits"
      ],
      "metadata": {
        "colab": {
          "base_uri": "https://localhost:8080/"
        },
        "id": "-RS_d2ioa_e2",
        "outputId": "2d706cd4-1569-430d-bb87-0079a4fbeb00"
      },
      "execution_count": null,
      "outputs": [
        {
          "output_type": "execute_result",
          "data": {
            "text/plain": [
              "[0, 10, 20, 30, 40, 50, 60, 70, 80, 90, 100]"
            ]
          },
          "metadata": {},
          "execution_count": 29
        }
      ]
    },
    {
      "cell_type": "code",
      "source": [
        "buck = Bucketizer(splits=splits,inputCol=\"track_popularity\",outputCol=\"track_popularity_bucket\")\n",
        "spotify_tracks_buck = buck.transform(spotify_tracks)\n",
        "\n",
        "# Delete track_popularity column\n",
        "spotify_tracks_buck = spotify_tracks_buck.drop(\"track_popularity\")\n",
        "\n",
        "spotify_tracks_buck.groupBy('track_popularity_bucket').count().show()"
      ],
      "metadata": {
        "colab": {
          "base_uri": "https://localhost:8080/"
        },
        "id": "D4kB6oyLXrce",
        "outputId": "0684a475-3101-4a66-8252-97d6a53c2c44"
      },
      "execution_count": null,
      "outputs": [
        {
          "output_type": "stream",
          "name": "stdout",
          "text": [
            "+-----------------------+-----+\n",
            "|track_popularity_bucket|count|\n",
            "+-----------------------+-----+\n",
            "|                    0.0|31380|\n",
            "|                    7.0|  849|\n",
            "|                    1.0| 4925|\n",
            "|                    4.0| 3835|\n",
            "|                    3.0| 4833|\n",
            "|                    2.0| 4978|\n",
            "|                    6.0| 2116|\n",
            "|                    5.0| 3003|\n",
            "|                    8.0|   81|\n",
            "+-----------------------+-----+\n",
            "\n"
          ]
        }
      ]
    },
    {
      "cell_type": "code",
      "source": [
        "# now we want named for each bucket\n",
        "# if 1 < popularity <= 3: low\n",
        "# if 3 < popularity <= 5: medium\n",
        "# if 5 < popularity <= 9: high\n",
        "\n",
        "# to perform this operation we use udf that allows to create a new column with \n",
        "# bucket names \n",
        "\n",
        "t = {0.0:\"unknow\", 1.0:\"low\", 2.0:\"low\", 3.0:\"medium\", 4.0:\"medium\", 5.0:\"medium\", \n",
        "     6.0:\"high\", 7.0:\"high\", 8.0:\"high\", 9.0:\"high\"}\n",
        "udf_foo = udf(lambda x: t[x], StringType())\n",
        "spotify_tracks_buck = spotify_tracks_buck.withColumn(\"track_popularity_bucket\", udf_foo(\"track_popularity_bucket\"))"
      ],
      "metadata": {
        "id": "dgvpXRmVhBrp"
      },
      "execution_count": null,
      "outputs": []
    },
    {
      "cell_type": "code",
      "source": [
        "spotify_tracks_buck.groupBy('track_popularity_bucket').count().toPandas().transpose()"
      ],
      "metadata": {
        "colab": {
          "base_uri": "https://localhost:8080/",
          "height": 112
        },
        "id": "edeOwWZIUSvp",
        "outputId": "98587705-7d8c-4c78-a7d2-52dcb0dda909"
      },
      "execution_count": null,
      "outputs": [
        {
          "output_type": "execute_result",
          "data": {
            "text/plain": [
              "                            0     1       2       3\n",
              "track_popularity_bucket   low  high  medium  unknow\n",
              "count                    9903  3046   11671   31380"
            ],
            "text/html": [
              "\n",
              "  <div id=\"df-ff533854-e234-4a8c-90ed-40b7708fee35\">\n",
              "    <div class=\"colab-df-container\">\n",
              "      <div>\n",
              "<style scoped>\n",
              "    .dataframe tbody tr th:only-of-type {\n",
              "        vertical-align: middle;\n",
              "    }\n",
              "\n",
              "    .dataframe tbody tr th {\n",
              "        vertical-align: top;\n",
              "    }\n",
              "\n",
              "    .dataframe thead th {\n",
              "        text-align: right;\n",
              "    }\n",
              "</style>\n",
              "<table border=\"1\" class=\"dataframe\">\n",
              "  <thead>\n",
              "    <tr style=\"text-align: right;\">\n",
              "      <th></th>\n",
              "      <th>0</th>\n",
              "      <th>1</th>\n",
              "      <th>2</th>\n",
              "      <th>3</th>\n",
              "    </tr>\n",
              "  </thead>\n",
              "  <tbody>\n",
              "    <tr>\n",
              "      <th>track_popularity_bucket</th>\n",
              "      <td>low</td>\n",
              "      <td>high</td>\n",
              "      <td>medium</td>\n",
              "      <td>unknow</td>\n",
              "    </tr>\n",
              "    <tr>\n",
              "      <th>count</th>\n",
              "      <td>9903</td>\n",
              "      <td>3046</td>\n",
              "      <td>11671</td>\n",
              "      <td>31380</td>\n",
              "    </tr>\n",
              "  </tbody>\n",
              "</table>\n",
              "</div>\n",
              "      <button class=\"colab-df-convert\" onclick=\"convertToInteractive('df-ff533854-e234-4a8c-90ed-40b7708fee35')\"\n",
              "              title=\"Convert this dataframe to an interactive table.\"\n",
              "              style=\"display:none;\">\n",
              "        \n",
              "  <svg xmlns=\"http://www.w3.org/2000/svg\" height=\"24px\"viewBox=\"0 0 24 24\"\n",
              "       width=\"24px\">\n",
              "    <path d=\"M0 0h24v24H0V0z\" fill=\"none\"/>\n",
              "    <path d=\"M18.56 5.44l.94 2.06.94-2.06 2.06-.94-2.06-.94-.94-2.06-.94 2.06-2.06.94zm-11 1L8.5 8.5l.94-2.06 2.06-.94-2.06-.94L8.5 2.5l-.94 2.06-2.06.94zm10 10l.94 2.06.94-2.06 2.06-.94-2.06-.94-.94-2.06-.94 2.06-2.06.94z\"/><path d=\"M17.41 7.96l-1.37-1.37c-.4-.4-.92-.59-1.43-.59-.52 0-1.04.2-1.43.59L10.3 9.45l-7.72 7.72c-.78.78-.78 2.05 0 2.83L4 21.41c.39.39.9.59 1.41.59.51 0 1.02-.2 1.41-.59l7.78-7.78 2.81-2.81c.8-.78.8-2.07 0-2.86zM5.41 20L4 18.59l7.72-7.72 1.47 1.35L5.41 20z\"/>\n",
              "  </svg>\n",
              "      </button>\n",
              "      \n",
              "  <style>\n",
              "    .colab-df-container {\n",
              "      display:flex;\n",
              "      flex-wrap:wrap;\n",
              "      gap: 12px;\n",
              "    }\n",
              "\n",
              "    .colab-df-convert {\n",
              "      background-color: #E8F0FE;\n",
              "      border: none;\n",
              "      border-radius: 50%;\n",
              "      cursor: pointer;\n",
              "      display: none;\n",
              "      fill: #1967D2;\n",
              "      height: 32px;\n",
              "      padding: 0 0 0 0;\n",
              "      width: 32px;\n",
              "    }\n",
              "\n",
              "    .colab-df-convert:hover {\n",
              "      background-color: #E2EBFA;\n",
              "      box-shadow: 0px 1px 2px rgba(60, 64, 67, 0.3), 0px 1px 3px 1px rgba(60, 64, 67, 0.15);\n",
              "      fill: #174EA6;\n",
              "    }\n",
              "\n",
              "    [theme=dark] .colab-df-convert {\n",
              "      background-color: #3B4455;\n",
              "      fill: #D2E3FC;\n",
              "    }\n",
              "\n",
              "    [theme=dark] .colab-df-convert:hover {\n",
              "      background-color: #434B5C;\n",
              "      box-shadow: 0px 1px 3px 1px rgba(0, 0, 0, 0.15);\n",
              "      filter: drop-shadow(0px 1px 2px rgba(0, 0, 0, 0.3));\n",
              "      fill: #FFFFFF;\n",
              "    }\n",
              "  </style>\n",
              "\n",
              "      <script>\n",
              "        const buttonEl =\n",
              "          document.querySelector('#df-ff533854-e234-4a8c-90ed-40b7708fee35 button.colab-df-convert');\n",
              "        buttonEl.style.display =\n",
              "          google.colab.kernel.accessAllowed ? 'block' : 'none';\n",
              "\n",
              "        async function convertToInteractive(key) {\n",
              "          const element = document.querySelector('#df-ff533854-e234-4a8c-90ed-40b7708fee35');\n",
              "          const dataTable =\n",
              "            await google.colab.kernel.invokeFunction('convertToInteractive',\n",
              "                                                     [key], {});\n",
              "          if (!dataTable) return;\n",
              "\n",
              "          const docLinkHtml = 'Like what you see? Visit the ' +\n",
              "            '<a target=\"_blank\" href=https://colab.research.google.com/notebooks/data_table.ipynb>data table notebook</a>'\n",
              "            + ' to learn more about interactive tables.';\n",
              "          element.innerHTML = '';\n",
              "          dataTable['output_type'] = 'display_data';\n",
              "          await google.colab.output.renderOutput(dataTable, element);\n",
              "          const docLink = document.createElement('div');\n",
              "          docLink.innerHTML = docLinkHtml;\n",
              "          element.appendChild(docLink);\n",
              "        }\n",
              "      </script>\n",
              "    </div>\n",
              "  </div>\n",
              "  "
            ]
          },
          "metadata": {},
          "execution_count": 32
        }
      ]
    },
    {
      "cell_type": "markdown",
      "source": [
        "Balance the datset\n"
      ],
      "metadata": {
        "id": "tgQ03isMWwFX"
      }
    },
    {
      "cell_type": "code",
      "source": [
        "fractions_dict = spotify_tracks_buck.groupBy('track_popularity_bucket').count().toPandas().to_dict()\n",
        "\n",
        "fraction = {}\n",
        "for popularity in fractions_dict[\"track_popularity_bucket\"]:\n",
        "  g = fractions_dict[\"track_popularity_bucket\"][popularity]\n",
        "  # fraction[g] = fractions_dict[\"count\"][genre] / spotify_tracks.count()\n",
        "  fraction[g] = 3000 / fractions_dict[\"count\"][popularity] \n",
        "\n",
        "del fractions_dict\n",
        "spotify_tracks_popularity = spotify_tracks_buck.sampleBy(\"track_popularity_bucket\", fractions=fraction, seed=0)\n",
        "spotify_tracks_popularity.groupBy('track_popularity_bucket').count().toPandas().transpose()"
      ],
      "metadata": {
        "colab": {
          "base_uri": "https://localhost:8080/",
          "height": 112
        },
        "id": "nWG9Z63mUYec",
        "outputId": "a44c12df-0ae0-46ae-b6e5-05bec89758d2"
      },
      "execution_count": null,
      "outputs": [
        {
          "output_type": "execute_result",
          "data": {
            "text/plain": [
              "                            0     1       2       3\n",
              "track_popularity_bucket   low  high  medium  unknow\n",
              "count                    2970  3012    3067    3138"
            ],
            "text/html": [
              "\n",
              "  <div id=\"df-b936d822-d2e2-4892-b8e5-d866634e3325\">\n",
              "    <div class=\"colab-df-container\">\n",
              "      <div>\n",
              "<style scoped>\n",
              "    .dataframe tbody tr th:only-of-type {\n",
              "        vertical-align: middle;\n",
              "    }\n",
              "\n",
              "    .dataframe tbody tr th {\n",
              "        vertical-align: top;\n",
              "    }\n",
              "\n",
              "    .dataframe thead th {\n",
              "        text-align: right;\n",
              "    }\n",
              "</style>\n",
              "<table border=\"1\" class=\"dataframe\">\n",
              "  <thead>\n",
              "    <tr style=\"text-align: right;\">\n",
              "      <th></th>\n",
              "      <th>0</th>\n",
              "      <th>1</th>\n",
              "      <th>2</th>\n",
              "      <th>3</th>\n",
              "    </tr>\n",
              "  </thead>\n",
              "  <tbody>\n",
              "    <tr>\n",
              "      <th>track_popularity_bucket</th>\n",
              "      <td>low</td>\n",
              "      <td>high</td>\n",
              "      <td>medium</td>\n",
              "      <td>unknow</td>\n",
              "    </tr>\n",
              "    <tr>\n",
              "      <th>count</th>\n",
              "      <td>2970</td>\n",
              "      <td>3012</td>\n",
              "      <td>3067</td>\n",
              "      <td>3138</td>\n",
              "    </tr>\n",
              "  </tbody>\n",
              "</table>\n",
              "</div>\n",
              "      <button class=\"colab-df-convert\" onclick=\"convertToInteractive('df-b936d822-d2e2-4892-b8e5-d866634e3325')\"\n",
              "              title=\"Convert this dataframe to an interactive table.\"\n",
              "              style=\"display:none;\">\n",
              "        \n",
              "  <svg xmlns=\"http://www.w3.org/2000/svg\" height=\"24px\"viewBox=\"0 0 24 24\"\n",
              "       width=\"24px\">\n",
              "    <path d=\"M0 0h24v24H0V0z\" fill=\"none\"/>\n",
              "    <path d=\"M18.56 5.44l.94 2.06.94-2.06 2.06-.94-2.06-.94-.94-2.06-.94 2.06-2.06.94zm-11 1L8.5 8.5l.94-2.06 2.06-.94-2.06-.94L8.5 2.5l-.94 2.06-2.06.94zm10 10l.94 2.06.94-2.06 2.06-.94-2.06-.94-.94-2.06-.94 2.06-2.06.94z\"/><path d=\"M17.41 7.96l-1.37-1.37c-.4-.4-.92-.59-1.43-.59-.52 0-1.04.2-1.43.59L10.3 9.45l-7.72 7.72c-.78.78-.78 2.05 0 2.83L4 21.41c.39.39.9.59 1.41.59.51 0 1.02-.2 1.41-.59l7.78-7.78 2.81-2.81c.8-.78.8-2.07 0-2.86zM5.41 20L4 18.59l7.72-7.72 1.47 1.35L5.41 20z\"/>\n",
              "  </svg>\n",
              "      </button>\n",
              "      \n",
              "  <style>\n",
              "    .colab-df-container {\n",
              "      display:flex;\n",
              "      flex-wrap:wrap;\n",
              "      gap: 12px;\n",
              "    }\n",
              "\n",
              "    .colab-df-convert {\n",
              "      background-color: #E8F0FE;\n",
              "      border: none;\n",
              "      border-radius: 50%;\n",
              "      cursor: pointer;\n",
              "      display: none;\n",
              "      fill: #1967D2;\n",
              "      height: 32px;\n",
              "      padding: 0 0 0 0;\n",
              "      width: 32px;\n",
              "    }\n",
              "\n",
              "    .colab-df-convert:hover {\n",
              "      background-color: #E2EBFA;\n",
              "      box-shadow: 0px 1px 2px rgba(60, 64, 67, 0.3), 0px 1px 3px 1px rgba(60, 64, 67, 0.15);\n",
              "      fill: #174EA6;\n",
              "    }\n",
              "\n",
              "    [theme=dark] .colab-df-convert {\n",
              "      background-color: #3B4455;\n",
              "      fill: #D2E3FC;\n",
              "    }\n",
              "\n",
              "    [theme=dark] .colab-df-convert:hover {\n",
              "      background-color: #434B5C;\n",
              "      box-shadow: 0px 1px 3px 1px rgba(0, 0, 0, 0.15);\n",
              "      filter: drop-shadow(0px 1px 2px rgba(0, 0, 0, 0.3));\n",
              "      fill: #FFFFFF;\n",
              "    }\n",
              "  </style>\n",
              "\n",
              "      <script>\n",
              "        const buttonEl =\n",
              "          document.querySelector('#df-b936d822-d2e2-4892-b8e5-d866634e3325 button.colab-df-convert');\n",
              "        buttonEl.style.display =\n",
              "          google.colab.kernel.accessAllowed ? 'block' : 'none';\n",
              "\n",
              "        async function convertToInteractive(key) {\n",
              "          const element = document.querySelector('#df-b936d822-d2e2-4892-b8e5-d866634e3325');\n",
              "          const dataTable =\n",
              "            await google.colab.kernel.invokeFunction('convertToInteractive',\n",
              "                                                     [key], {});\n",
              "          if (!dataTable) return;\n",
              "\n",
              "          const docLinkHtml = 'Like what you see? Visit the ' +\n",
              "            '<a target=\"_blank\" href=https://colab.research.google.com/notebooks/data_table.ipynb>data table notebook</a>'\n",
              "            + ' to learn more about interactive tables.';\n",
              "          element.innerHTML = '';\n",
              "          dataTable['output_type'] = 'display_data';\n",
              "          await google.colab.output.renderOutput(dataTable, element);\n",
              "          const docLink = document.createElement('div');\n",
              "          docLink.innerHTML = docLinkHtml;\n",
              "          element.appendChild(docLink);\n",
              "        }\n",
              "      </script>\n",
              "    </div>\n",
              "  </div>\n",
              "  "
            ]
          },
          "metadata": {},
          "execution_count": 33
        }
      ]
    },
    {
      "cell_type": "markdown",
      "source": [
        "# **Data Exploration && Encoding**"
      ],
      "metadata": {
        "id": "hAJJBSOrcyoO"
      }
    },
    {
      "cell_type": "markdown",
      "source": [
        "## **Summary of Descriptive Statistics**"
      ],
      "metadata": {
        "id": "9baixJ5OMLol"
      }
    },
    {
      "cell_type": "code",
      "source": [
        "# Set some default plotting configuration using seaborn properties\n",
        "sns.set_style(\"darkgrid\")\n",
        "sns.set_context(\"notebook\", rc={\"lines.linewidth\": 2, \n",
        "                                \"xtick.labelsize\":14, \n",
        "                                \"ytick.labelsize\":14,\n",
        "                                \"axes.labelsize\": 18,\n",
        "                                \"axes.titlesize\": 20,\n",
        "                                })"
      ],
      "metadata": {
        "id": "y9_rQ4UYOPD7"
      },
      "execution_count": null,
      "outputs": []
    },
    {
      "cell_type": "markdown",
      "source": [
        "### **Analysis of Data Distributions for the Popularity Model**"
      ],
      "metadata": {
        "id": "8MUrtYNNObSa"
      }
    },
    {
      "cell_type": "markdown",
      "source": [
        "#### 1. Distributions of individual numerical features:"
      ],
      "metadata": {
        "id": "0p1Q9o5fOzWl"
      }
    },
    {
      "cell_type": "code",
      "source": [
        "# Let's define some constants which we will use throughout this notebook\n",
        "NUMERICAL_FEATURES_POPULARITY = []\n",
        "CATEGORICAL_FEATURES_POPULARITY = []\n",
        "TARGET_VARIABLE_POPULARITY = \"track_popularity_bucket\"\n",
        "\n",
        "#Get All column names and it's types\n",
        "for col in spotify_tracks_popularity.dtypes:\n",
        "    if col[1] == \"string\":\n",
        "        CATEGORICAL_FEATURES_POPULARITY.append(col[0])\n",
        "    else:\n",
        "        NUMERICAL_FEATURES_POPULARITY.append(col[0])\n",
        "\n",
        "CATEGORICAL_FEATURES_POPULARITY.remove(TARGET_VARIABLE_POPULARITY)\n",
        "\n",
        "print(\"Categorical Popularity Dataset: \", CATEGORICAL_FEATURES_POPULARITY)\n",
        "print(\"Numerical Popularity Dataset: \", NUMERICAL_FEATURES_POPULARITY)"
      ],
      "metadata": {
        "colab": {
          "base_uri": "https://localhost:8080/"
        },
        "id": "fiDGAkOmTEt0",
        "outputId": "1e68548d-5bf6-4a2e-bc46-f64c7afcef6f"
      },
      "execution_count": null,
      "outputs": [
        {
          "output_type": "stream",
          "name": "stdout",
          "text": [
            "Categorical Popularity Dataset:  ['track_name', 'album_name', 'album_release_date_precision', 'artist_name', 'track_genre']\n",
            "Numerical Popularity Dataset:  ['track_explicit', 'audio_acousticness', 'audio_danceability', 'audio_duration_ms', 'audio_energy', 'audio_instrumentalness', 'audio_key_1', 'audio_liveness', 'audio_loudness', 'audio_mode_1', 'audio_speechiness', 'audio_tempo', 'audio_time_signature', 'audio_valence', 'pitch_1', 'pitch_2', 'pitch_3', 'pitch_4', 'pitch_5', 'pitch_6', 'pitch_7', 'pitch_8', 'pitch_9', 'pitch_10', 'pitch_11', 'pitch_12', 'timbre_1', 'timbre_2', 'timbre_3', 'timbre_4', 'timbre_5', 'timbre_6', 'timbre_7', 'timbre_8', 'timbre_9', 'timbre_10', 'timbre_11', 'timbre_12', 'day', 'month', 'year']\n"
          ]
        }
      ]
    },
    {
      "cell_type": "code",
      "source": [
        "# Plot the distribution of values of each column of interest\n",
        "n_rows = 4\n",
        "n_cols = 2\n",
        "\n",
        "fig, axes = plt.subplots(n_rows, n_cols, figsize=(14,20))\n",
        "\n",
        "for i,f in enumerate(NUMERICAL_FEATURES_POPULARITY):\n",
        "    _ = sns.distplot(spotify_tracks_popularity[f],\n",
        "                    kde_kws={\"color\": \"#ca0020\", \"lw\": 1}, \n",
        "                    hist_kws={\"histtype\": \"bar\", \"edgecolor\": \"k\", \"linewidth\": 1,\"alpha\": 0.8, \"color\": \"#92c5de\"},\n",
        "                    ax=axes[i//n_cols, i%n_cols]\n",
        "                    )\n",
        "\n",
        "fig.delaxes(axes[3][1]) # Remove the last cell of the plot\n",
        "\n",
        "fig.tight_layout(pad=1.5)"
      ],
      "metadata": {
        "id": "LVQgAQnyO5xv"
      },
      "execution_count": null,
      "outputs": []
    },
    {
      "cell_type": "markdown",
      "source": [
        "#### 2. Pairwise regression plots"
      ],
      "metadata": {
        "id": "I2E8VRfyPEb-"
      }
    },
    {
      "cell_type": "code",
      "source": [
        "# Let's now plot the pairwise relationship between our numerical features\n",
        "_ = sns.pairplot(data=spotify_tracks_popularity, \n",
        "                 vars=sorted(NUMERICAL_FEATURES_POPULARITY), \n",
        "                 hue=TARGET_VARIABLE_POPULARITY, \n",
        "                 kind=\"reg\",\n",
        "                 diag_kind='hist',\n",
        "                 diag_kws = {'alpha':0.55, 'bins':20},\n",
        "                 markers=[\"o\", \"s\"]\n",
        "                )"
      ],
      "metadata": {
        "id": "qwfuOQF8PHeO"
      },
      "execution_count": null,
      "outputs": []
    },
    {
      "cell_type": "markdown",
      "source": [
        "### **Analysis of Data Distributions for the Genre Model**"
      ],
      "metadata": {
        "id": "Y9nU26a0PaSC"
      }
    },
    {
      "cell_type": "code",
      "source": [
        "# Let's define some constants which we will use throughout this notebook\n",
        "NUMERICAL_FEATURES_GENRE = []\n",
        "CATEGORICAL_FEATURES_GENRE = []\n",
        "TARGET_VARIABLE_GENRE = \"track_genre\"\n",
        "\n",
        "#Get All column names and it's types\n",
        "for col in spotify_tracks_genre.dtypes:\n",
        "    if col[1] == \"string\":\n",
        "        CATEGORICAL_FEATURES_GENRE.append(col[0])\n",
        "    else:\n",
        "        NUMERICAL_FEATURES_GENRE.append(col[0])\n",
        "\n",
        "CATEGORICAL_FEATURES_GENRE.remove(TARGET_VARIABLE_GENRE)\n",
        "\n",
        "print(\"Categorical Genre Dataset: \", CATEGORICAL_FEATURES_GENRE)\n",
        "print(\"Numerical Genre Dataset: \", NUMERICAL_FEATURES_GENRE)"
      ],
      "metadata": {
        "colab": {
          "base_uri": "https://localhost:8080/"
        },
        "id": "0DceDZD3jE3F",
        "outputId": "9e813227-4078-4f4d-f8d8-51f7fe4ec163"
      },
      "execution_count": null,
      "outputs": [
        {
          "output_type": "stream",
          "name": "stdout",
          "text": [
            "Categorical Genre Dataset:  ['track_name', 'album_name', 'album_release_date_precision', 'artist_name']\n",
            "Numerical Genre Dataset:  ['track_explicit', 'track_popularity', 'audio_acousticness', 'audio_danceability', 'audio_duration_ms', 'audio_energy', 'audio_instrumentalness', 'audio_key_1', 'audio_liveness', 'audio_loudness', 'audio_mode_1', 'audio_speechiness', 'audio_tempo', 'audio_time_signature', 'audio_valence', 'pitch_1', 'pitch_2', 'pitch_3', 'pitch_4', 'pitch_5', 'pitch_6', 'pitch_7', 'pitch_8', 'pitch_9', 'pitch_10', 'pitch_11', 'pitch_12', 'timbre_1', 'timbre_2', 'timbre_3', 'timbre_4', 'timbre_5', 'timbre_6', 'timbre_7', 'timbre_8', 'timbre_9', 'timbre_10', 'timbre_11', 'timbre_12', 'day', 'month', 'year']\n"
          ]
        }
      ]
    },
    {
      "cell_type": "markdown",
      "source": [
        "### **Analysis of Data Distributions: Categorical Features**"
      ],
      "metadata": {
        "id": "b_CI3nB6PnMP"
      }
    },
    {
      "cell_type": "markdown",
      "source": [
        "#### 1. Histograms of individual categorical features"
      ],
      "metadata": {
        "id": "g119U-7hPzPh"
      }
    },
    {
      "cell_type": "code",
      "source": [
        "# For categorical variables, 'countplot' is the way to go\n",
        "# Create a Figure containing 3x3 subplots\n",
        "n_rows = 3\n",
        "n_cols = 3\n",
        "\n",
        "fig, axes = plt.subplots(n_rows, n_cols, figsize=(14,14))\n",
        "\n",
        "for i,f in enumerate(sorted(CATEGORICAL_FEATURES_GENRE)): \n",
        "    ax = sns.countplot(spotify_tracks_genre[f], ax=axes[i//n_cols, i%n_cols])\n",
        "    _ = ax.set_xticklabels(ax.get_xticklabels(), rotation=45, horizontalalignment='right')\n",
        "\n",
        "fig.tight_layout(pad=1.5)"
      ],
      "metadata": {
        "id": "r7dZ-QgFP2Ho"
      },
      "execution_count": null,
      "outputs": []
    },
    {
      "cell_type": "markdown",
      "source": [
        "#### 2. Relationship between _categorical_ features and the _target variable_ (`track_genre`)"
      ],
      "metadata": {
        "id": "szhZQFLCQEeR"
      }
    },
    {
      "cell_type": "code",
      "source": [
        "n_rows = 3\n",
        "n_cols = 3\n",
        "\n",
        "fig, axes = plt.subplots(n_rows, n_cols, figsize=(14,14))\n",
        "\n",
        "i = 0\n",
        "for c in sorted(CATEGORICAL_FEATURES_GENRE):\n",
        "    tmp_data = pd.crosstab(spotify_tracks_genre.loc[:, c], spotify_tracks_genre[TARGET_VARIABLE_GENRE])\n",
        "    # pandas.crosstab returns an mxn table where m is the number of values for the first argument (x) \n",
        "    # and n for the second argument (y)\n",
        "    # As the second argument is always `TARGET_VARIABLE` (i.e., `track_genre`)\n",
        "    # e.g., x = 'housing'; y = 'deposit'\n",
        "    # the following apply is used to transform the crosstab into a \"normalized\" table as follows:\n",
        "    # each entry in the table displays how the i-th categorical value of x (i.e., i-th row) is distributed across\n",
        "    # all the possible values of y (i.e., Y/N)\n",
        "    tmp_data = tmp_data.apply(lambda x: x/tmp_data.sum(axis=1))\n",
        "    ax = tmp_data.plot.bar(stacked=True, color=['red','green'], grid=False, ax=axes[i//n_cols, i % n_cols], legend=True)\n",
        "    _ = ax.set_xticklabels(ax.get_xticklabels(), rotation=45, horizontalalignment='right')\n",
        "    i += 1\n",
        "\n",
        "fig.tight_layout(pad=1.5)"
      ],
      "metadata": {
        "id": "e7X7EfyqQIqy"
      },
      "execution_count": null,
      "outputs": []
    },
    {
      "cell_type": "markdown",
      "source": [
        "## **Encoding phase**"
      ],
      "metadata": {
        "id": "bPGMCB7gQy6Z"
      }
    },
    {
      "cell_type": "markdown",
      "source": [
        "### Transform Categorical features into Numerical using One-Hot Encoding\n",
        "\n",
        "Note that this step is not always mandatory (e.g., decision trees are able to work nicely with categorical features without the need of transforming them to numerical). Still, other methods (like logistic regression) are designed to operate with numerical inputs only.\n",
        "\n",
        "To transform _categorical_ features into _numerical_ ones we proceed as follows.\n",
        "We setup a pipeline which is composed of the following steps:\n",
        "- [`StringIndexer`](https://spark.apache.org/docs/latest/ml-features#stringindexer): encodes a string column of labels to a column of label indices. The indices are in `[0, numLabels)`, and 4 ordering options are supported (default `frequencyDesc`, which assigns the most frequent label the index `0`, and so on and so forth).\n",
        "- [`OneHotEncoderEstimator`](https://spark.apache.org/docs/latest/ml-features#onehotencoderestimator): maps a categorical feature, represented as a label index, to a binary vector with at most a single one-value indicating the presence of a specific feature value from among the set of all feature values. An important parameter is `handleInvalid`, which indicates how to deal with previously unseen labels. By default this raises an error but it can be set to as `keep` to assign previously unseen labels a fallback value.\n",
        "- [`VectorAssembler`](https://spark.apache.org/docs/latest/ml-features#vectorassembler): is a transformer that combines a given list of columns into a single vector column."
      ],
      "metadata": {
        "id": "cnxGzC32c3vM"
      }
    },
    {
      "cell_type": "code",
      "source": [
        "# This function is responsible to implement the pipeline above for transforming categorical features into numerical ones\n",
        "def to_numerical(df, numerical_features, categorical_features, target_variable):\n",
        "  \n",
        "    # 1. Label Encode target feature\n",
        "    # In this case our target is the popularity of the tracks that is just\n",
        "    # numeric in our dataframe, so there is no need to encode it \n",
        "    stage_1= StringIndexer(inputCol=target_variable, outputCol='label')\n",
        "\n",
        "    # 2. Label Encode Categorical features\n",
        "    stage_2 = [StringIndexer(inputCol=c, outputCol=\"{0}_index\".format(c), handleInvalid=\"skip\") for c in categorical_features]\n",
        "\n",
        "    # 3. OneHot Encode \n",
        "    # stage_3 = OneHotEncoder(inputCol='album_release_date_precision_index', outputCol='album_release_date_precision_oh')\n",
        "\n",
        "    # 4. create a vector of all the features required to train the logistic regression model \n",
        "    # encoded_columns = ['track_name_index', 'album_name_index', 'artist_name_index', 'album_release_date_precision_oh']\n",
        "    # stage_4 = VectorAssembler(inputCols= encoded_columns + numerical_features, outputCol='features')\n",
        "    stage_4 = VectorAssembler(inputCols= [indexer.getOutputCol() for indexer in stage_2] + numerical_features, outputCol='features')\n",
        "\n",
        "    # 4.a Create the StandardScaler\n",
        "    scaler = StandardScaler(inputCol=stage_4.getOutputCol(), outputCol=\"std_\" + stage_4.getOutputCol(), withStd=True, withMean=True)\n",
        "\n",
        "    # 5. Populate the stages of the pipeline\n",
        "    stages = [stage_1] + stage_2 + [stage_4] + [scaler]\n",
        "\n",
        "    # 6. Setup the pipeline with the stages above\n",
        "    pipeline = Pipeline(stages=stages)\n",
        "\n",
        "    # 7. Transform the input dataframe accordingly\n",
        "    transformer = pipeline.fit(df)\n",
        "    df_transformed = transformer.transform(df)\n",
        "\n",
        "    return df_transformed"
      ],
      "metadata": {
        "id": "B-8uVErKhfwC"
      },
      "execution_count": null,
      "outputs": []
    },
    {
      "cell_type": "code",
      "source": [
        "spotify_tracks.cache()"
      ],
      "metadata": {
        "colab": {
          "base_uri": "https://localhost:8080/"
        },
        "id": "CIHVJ2tQmls2",
        "outputId": "eb3392bc-1121-4735-cace-63f280f662a6"
      },
      "execution_count": null,
      "outputs": [
        {
          "output_type": "execute_result",
          "data": {
            "text/plain": [
              "DataFrame[track_name: string, track_explicit: boolean, track_popularity: int, album_name: string, album_release_date_precision: string, artist_name: string, audio_acousticness: double, audio_danceability: double, audio_duration_ms: int, audio_energy: double, audio_instrumentalness: double, audio_key_1: int, audio_liveness: double, audio_loudness: double, audio_mode_1: int, audio_speechiness: double, audio_tempo: double, audio_time_signature: int, audio_valence: double, track_genre: string, pitch_1: double, pitch_2: double, pitch_3: double, pitch_4: double, pitch_5: double, pitch_6: double, pitch_7: double, pitch_8: double, pitch_9: double, pitch_10: double, pitch_11: double, pitch_12: double, timbre_1: double, timbre_2: double, timbre_3: double, timbre_4: double, timbre_5: double, timbre_6: double, timbre_7: double, timbre_8: double, timbre_9: double, timbre_10: double, timbre_11: double, timbre_12: double, day: int, month: int, year: int]"
            ]
          },
          "metadata": {},
          "execution_count": 37
        }
      ]
    },
    {
      "cell_type": "markdown",
      "source": [
        "## **Split the Dataset into train and test set**\n",
        "### **Dataset Splitting: Training vs. Test Set**\n",
        "\n",
        "Before moving along with any preprocessing involving data transformations, we will split our dataset into **2** portions:\n",
        "- _training set_ (e.g., accounting for **80%** of the total number of instances);\n",
        "- _test set_ (e.g., accounting for the remaining **20%** of instances)"
      ],
      "metadata": {
        "id": "tZ_AlShfibes"
      }
    },
    {
      "cell_type": "code",
      "source": [
        "# GENRE DATASET\n",
        "\n",
        "# Transform the training set and get back both the transformer and the new dataset\n",
        "spotify_tracks_genre = to_numerical(spotify_tracks_genre, NUMERICAL_FEATURES_GENRE, CATEGORICAL_FEATURES_GENRE, TARGET_VARIABLE_GENRE)\n",
        "spotify_tracks_genre.cache()\n",
        "\n",
        "# Select `features` and `label` (i.e., formerly `deposit`) target variable only\n",
        "spotify_tracks_genre = spotify_tracks_genre.select([\"std_features\", \"label\"])\n",
        "spotify_tracks_genre.cache()\n",
        "\n",
        "RANDOM_SEED = 42\n",
        "# Randomly split our original dataset `house_df` into 80÷20 for training and test, respectively\n",
        "train_set_genre, test_set_genre = spotify_tracks_genre.randomSplit([0.8, 0.2], seed=RANDOM_SEED)\n",
        "\n",
        "train_set_genre.show()"
      ],
      "metadata": {
        "id": "9GoNHOFiifP5",
        "colab": {
          "base_uri": "https://localhost:8080/"
        },
        "outputId": "4a419d21-9fce-453f-abbc-255243f76f19"
      },
      "execution_count": null,
      "outputs": [
        {
          "output_type": "stream",
          "name": "stdout",
          "text": [
            "+--------------------+-----+\n",
            "|        std_features|label|\n",
            "+--------------------+-----+\n",
            "|[-1.5432572913072...|  8.0|\n",
            "|[-1.5304963122137...|  4.0|\n",
            "|[-1.5281036286336...|  2.0|\n",
            "|[-1.5231587492349...|  1.0|\n",
            "|[-1.4638201964498...|  6.0|\n",
            "|[-1.4571206824257...|  0.0|\n",
            "|[-1.4504211684015...|  0.0|\n",
            "|[-1.4256967714078...|  6.0|\n",
            "|[-1.4068743272447...|  4.0|\n",
            "|[-1.4027270090393...|  2.0|\n",
            "|[-1.3757694407042...|  2.0|\n",
            "|[-1.3596587045985...|  2.0|\n",
            "|[-1.3392411380488...| 10.0|\n",
            "|[-1.3162713756804...| 10.0|\n",
            "|[-1.2944181989827...| 10.0|\n",
            "|[-1.2097172002491...|  1.0|\n",
            "|[-1.1977537823489...|  7.0|\n",
            "|[-1.1105005877967...|  2.0|\n",
            "|[-1.0604137448544...|  1.0|\n",
            "|[-0.8914902841033...|  1.0|\n",
            "+--------------------+-----+\n",
            "only showing top 20 rows\n",
            "\n"
          ]
        }
      ]
    },
    {
      "cell_type": "code",
      "source": [
        "# POPULARITY DATASET\n",
        "\n",
        "# Transform the training set and get back both the transformer and the new dataset\n",
        "spotify_tracks_popularity = to_numerical(spotify_tracks_popularity, NUMERICAL_FEATURES_POPULARITY, CATEGORICAL_FEATURES_POPULARITY, TARGET_VARIABLE_POPULARITY)\n",
        "spotify_tracks_popularity.cache()\n",
        "\n",
        "# Select `features` and `label` (i.e., formerly `deposit`) target variable only\n",
        "spotify_tracks_popularity = spotify_tracks_popularity.select([\"std_features\", \"label\"])\n",
        "spotify_tracks_popularity.cache()\n",
        "\n",
        "RANDOM_SEED = 42\n",
        "# Randomly split our original dataset `house_df` into 80÷20 for training and test, respectively\n",
        "train_set_popularity, test_set_popularity = spotify_tracks_popularity.randomSplit([0.8, 0.2], seed=RANDOM_SEED)\n",
        "\n",
        "train_set_popularity.show()"
      ],
      "metadata": {
        "colab": {
          "base_uri": "https://localhost:8080/"
        },
        "id": "Xem2VhSBnQO1",
        "outputId": "224b4e07-d238-47b0-823b-9adb942f6a1f"
      },
      "execution_count": null,
      "outputs": [
        {
          "output_type": "stream",
          "name": "stdout",
          "text": [
            "+--------------------+-----+\n",
            "|        std_features|label|\n",
            "+--------------------+-----+\n",
            "|[-1.5702805019363...|  0.0|\n",
            "|[-1.5619422607606...|  1.0|\n",
            "|[-1.5268641427108...|  2.0|\n",
            "|[-1.5127753903793...|  2.0|\n",
            "|[-1.5087500325703...|  0.0|\n",
            "|[-1.4072535106722...|  0.0|\n",
            "|[-1.2111610802629...|  1.0|\n",
            "|[-1.1599815309772...|  3.0|\n",
            "|[-1.1594064798616...|  3.0|\n",
            "|[-0.9745275462059...|  0.0|\n",
            "|[-0.9075340912420...|  3.0|\n",
            "|[-0.8692931920566...|  1.0|\n",
            "|[-0.7948240725903...|  1.0|\n",
            "|[-0.6358224391352...|  1.0|\n",
            "|[-0.6016068977588...|  3.0|\n",
            "|[-0.4670449367154...|  1.0|\n",
            "|[-0.4480682499016...|  2.0|\n",
            "|[-0.3641107870284...|  1.0|\n",
            "|[-0.3204069022451...|  1.0|\n",
            "|[-0.2097095624979...|  2.0|\n",
            "+--------------------+-----+\n",
            "only showing top 20 rows\n",
            "\n"
          ]
        }
      ]
    },
    {
      "cell_type": "markdown",
      "source": [
        "# Training"
      ],
      "metadata": {
        "id": "l9TYUn7KH65x"
      }
    },
    {
      "cell_type": "markdown",
      "source": [
        "## Decision Tree"
      ],
      "metadata": {
        "id": "6hw4-NOntQ9A"
      }
    },
    {
      "cell_type": "code",
      "source": [
        "# This function defines the general pipeline for logistic regression\n",
        "def decision_tree_pipeline(train):\n",
        "  \n",
        "  stage_5_dr = DecisionTreeClassifier(featuresCol='std_features',labelCol='label')\n",
        "\n",
        "  decision_tree_pipeline = Pipeline(stages= [stage_5_dr])\n",
        "\n",
        "  #### DECISION TREE\n",
        "  param_grid = ParamGridBuilder()\\\n",
        "    .addGrid(stage_5_dr.maxDepth, [3, 5, 8]) \\\n",
        "    .addGrid(stage_5_dr.impurity, [\"gini\", \"entropy\"]) \\\n",
        "    .build()\n",
        "  cross_val_dt = CrossValidator(estimator=decision_tree_pipeline,\n",
        "                                estimatorParamMaps=param_grid,\n",
        "                                evaluator=MulticlassClassificationEvaluator(),\n",
        "                                numFolds=5,\n",
        "                                collectSubModels=True\n",
        "                                )\n",
        "  cv_model_dt = cross_val_dt.fit(train)\n",
        "\n",
        "  return cv_model_dt"
      ],
      "metadata": {
        "id": "R0X0iM-VtTmN"
      },
      "execution_count": null,
      "outputs": []
    },
    {
      "cell_type": "code",
      "source": [
        "cv_model_genre_dt = decision_tree_pipeline(train_set_genre)\n",
        "\n",
        "test_predictions_genre_dt = cv_model_genre_dt.transform(test_set_genre)\n",
        "\n",
        "test_predictions_genre_dt.select(\"std_features\", \"prediction\", \"label\").show(5)"
      ],
      "metadata": {
        "id": "raOmH8ZvtaYe",
        "colab": {
          "base_uri": "https://localhost:8080/",
          "height": 987
        },
        "outputId": "98ff7095-a1c8-44cb-dff4-cc25e363a8f2",
        "collapsed": true
      },
      "execution_count": null,
      "outputs": [
        {
          "output_type": "stream",
          "name": "stderr",
          "text": [
            "----------------------------------------\n",
            "Exception happened during processing of request from ('127.0.0.1', 46818)\n",
            "ERROR:root:Exception while sending command.\n",
            "Traceback (most recent call last):\n",
            "  File \"/usr/local/lib/python3.7/dist-packages/py4j/clientserver.py\", line 480, in send_command\n",
            "    raise Py4JNetworkError(\"Answer from Java side is empty\")\n",
            "py4j.protocol.Py4JNetworkError: Answer from Java side is empty\n",
            "\n",
            "During handling of the above exception, another exception occurred:\n",
            "\n",
            "Traceback (most recent call last):\n",
            "  File \"/usr/local/lib/python3.7/dist-packages/py4j/java_gateway.py\", line 1038, in send_command\n",
            "    response = connection.send_command(command)\n",
            "  File \"/usr/local/lib/python3.7/dist-packages/py4j/clientserver.py\", line 504, in send_command\n",
            "    \"Error while sending or receiving\", e, proto.ERROR_ON_RECEIVE)\n",
            "py4j.protocol.Py4JNetworkError: Error while sending or receiving\n",
            "Traceback (most recent call last):\n",
            "  File \"/usr/lib/python3.7/socketserver.py\", line 316, in _handle_request_noblock\n",
            "    self.process_request(request, client_address)\n",
            "  File \"/usr/lib/python3.7/socketserver.py\", line 347, in process_request\n",
            "    self.finish_request(request, client_address)\n",
            "  File \"/usr/lib/python3.7/socketserver.py\", line 360, in finish_request\n",
            "    self.RequestHandlerClass(request, client_address, self)\n",
            "  File \"/usr/lib/python3.7/socketserver.py\", line 720, in __init__\n",
            "    self.handle()\n",
            "  File \"/usr/local/lib/python3.7/dist-packages/pyspark/accumulators.py\", line 262, in handle\n",
            "    poll(accum_updates)\n",
            "  File \"/usr/local/lib/python3.7/dist-packages/pyspark/accumulators.py\", line 235, in poll\n",
            "    if func():\n",
            "  File \"/usr/local/lib/python3.7/dist-packages/pyspark/accumulators.py\", line 239, in accum_updates\n",
            "    num_updates = read_int(self.rfile)\n",
            "  File \"/usr/local/lib/python3.7/dist-packages/pyspark/serializers.py\", line 564, in read_int\n",
            "    raise EOFError\n",
            "EOFError\n",
            "----------------------------------------\n"
          ]
        },
        {
          "output_type": "error",
          "ename": "Py4JError",
          "evalue": "ignored",
          "traceback": [
            "\u001b[0;31m---------------------------------------------------------------------------\u001b[0m",
            "\u001b[0;31mPy4JError\u001b[0m                                 Traceback (most recent call last)",
            "\u001b[0;32m<ipython-input-43-8d4bde30363c>\u001b[0m in \u001b[0;36m<module>\u001b[0;34m()\u001b[0m\n\u001b[0;32m----> 1\u001b[0;31m \u001b[0mcv_model_genre_dt\u001b[0m \u001b[0;34m=\u001b[0m \u001b[0mdecision_tree_pipeline\u001b[0m\u001b[0;34m(\u001b[0m\u001b[0mtrain_set_genre\u001b[0m\u001b[0;34m)\u001b[0m\u001b[0;34m\u001b[0m\u001b[0;34m\u001b[0m\u001b[0m\n\u001b[0m\u001b[1;32m      2\u001b[0m \u001b[0;34m\u001b[0m\u001b[0m\n\u001b[1;32m      3\u001b[0m \u001b[0mtest_predictions_genre_dt\u001b[0m \u001b[0;34m=\u001b[0m \u001b[0mcv_model_genre_dt\u001b[0m\u001b[0;34m.\u001b[0m\u001b[0mtransform\u001b[0m\u001b[0;34m(\u001b[0m\u001b[0mtrain_set_genre\u001b[0m\u001b[0;34m)\u001b[0m\u001b[0;34m\u001b[0m\u001b[0;34m\u001b[0m\u001b[0m\n\u001b[1;32m      4\u001b[0m \u001b[0;34m\u001b[0m\u001b[0m\n\u001b[1;32m      5\u001b[0m \u001b[0mtest_predictions_genre_dt\u001b[0m\u001b[0;34m.\u001b[0m\u001b[0mselect\u001b[0m\u001b[0;34m(\u001b[0m\u001b[0;34m\"std_features\"\u001b[0m\u001b[0;34m,\u001b[0m \u001b[0;34m\"prediction\"\u001b[0m\u001b[0;34m,\u001b[0m \u001b[0;34m\"label\"\u001b[0m\u001b[0;34m)\u001b[0m\u001b[0;34m.\u001b[0m\u001b[0mshow\u001b[0m\u001b[0;34m(\u001b[0m\u001b[0;36m5\u001b[0m\u001b[0;34m)\u001b[0m\u001b[0;34m\u001b[0m\u001b[0;34m\u001b[0m\u001b[0m\n",
            "\u001b[0;32m<ipython-input-42-6c6fe7c3447e>\u001b[0m in \u001b[0;36mdecision_tree_pipeline\u001b[0;34m(train)\u001b[0m\n\u001b[1;32m     14\u001b[0m                                 \u001b[0mcollectSubModels\u001b[0m\u001b[0;34m=\u001b[0m\u001b[0;32mTrue\u001b[0m\u001b[0;34m\u001b[0m\u001b[0;34m\u001b[0m\u001b[0m\n\u001b[1;32m     15\u001b[0m                                 )\n\u001b[0;32m---> 16\u001b[0;31m   \u001b[0mcv_model_dt\u001b[0m \u001b[0;34m=\u001b[0m \u001b[0mcross_val_dt\u001b[0m\u001b[0;34m.\u001b[0m\u001b[0mfit\u001b[0m\u001b[0;34m(\u001b[0m\u001b[0mtrain\u001b[0m\u001b[0;34m)\u001b[0m\u001b[0;34m\u001b[0m\u001b[0;34m\u001b[0m\u001b[0m\n\u001b[0m\u001b[1;32m     17\u001b[0m \u001b[0;34m\u001b[0m\u001b[0m\n\u001b[1;32m     18\u001b[0m   \u001b[0;32mreturn\u001b[0m \u001b[0mcv_model_dt\u001b[0m\u001b[0;34m\u001b[0m\u001b[0;34m\u001b[0m\u001b[0m\n",
            "\u001b[0;32m/usr/local/lib/python3.7/dist-packages/pyspark/ml/base.py\u001b[0m in \u001b[0;36mfit\u001b[0;34m(self, dataset, params)\u001b[0m\n\u001b[1;32m    159\u001b[0m                 \u001b[0;32mreturn\u001b[0m \u001b[0mself\u001b[0m\u001b[0;34m.\u001b[0m\u001b[0mcopy\u001b[0m\u001b[0;34m(\u001b[0m\u001b[0mparams\u001b[0m\u001b[0;34m)\u001b[0m\u001b[0;34m.\u001b[0m\u001b[0m_fit\u001b[0m\u001b[0;34m(\u001b[0m\u001b[0mdataset\u001b[0m\u001b[0;34m)\u001b[0m\u001b[0;34m\u001b[0m\u001b[0;34m\u001b[0m\u001b[0m\n\u001b[1;32m    160\u001b[0m             \u001b[0;32melse\u001b[0m\u001b[0;34m:\u001b[0m\u001b[0;34m\u001b[0m\u001b[0;34m\u001b[0m\u001b[0m\n\u001b[0;32m--> 161\u001b[0;31m                 \u001b[0;32mreturn\u001b[0m \u001b[0mself\u001b[0m\u001b[0;34m.\u001b[0m\u001b[0m_fit\u001b[0m\u001b[0;34m(\u001b[0m\u001b[0mdataset\u001b[0m\u001b[0;34m)\u001b[0m\u001b[0;34m\u001b[0m\u001b[0;34m\u001b[0m\u001b[0m\n\u001b[0m\u001b[1;32m    162\u001b[0m         \u001b[0;32melse\u001b[0m\u001b[0;34m:\u001b[0m\u001b[0;34m\u001b[0m\u001b[0;34m\u001b[0m\u001b[0m\n\u001b[1;32m    163\u001b[0m             raise TypeError(\"Params must be either a param map or a list/tuple of param maps, \"\n",
            "\u001b[0;32m/usr/local/lib/python3.7/dist-packages/pyspark/ml/tuning.py\u001b[0m in \u001b[0;36m_fit\u001b[0;34m(self, dataset)\u001b[0m\n\u001b[1;32m    699\u001b[0m         \u001b[0;32melse\u001b[0m\u001b[0;34m:\u001b[0m\u001b[0;34m\u001b[0m\u001b[0;34m\u001b[0m\u001b[0m\n\u001b[1;32m    700\u001b[0m             \u001b[0mbestIndex\u001b[0m \u001b[0;34m=\u001b[0m \u001b[0mnp\u001b[0m\u001b[0;34m.\u001b[0m\u001b[0margmin\u001b[0m\u001b[0;34m(\u001b[0m\u001b[0mmetrics\u001b[0m\u001b[0;34m)\u001b[0m\u001b[0;34m\u001b[0m\u001b[0;34m\u001b[0m\u001b[0m\n\u001b[0;32m--> 701\u001b[0;31m         \u001b[0mbestModel\u001b[0m \u001b[0;34m=\u001b[0m \u001b[0mest\u001b[0m\u001b[0;34m.\u001b[0m\u001b[0mfit\u001b[0m\u001b[0;34m(\u001b[0m\u001b[0mdataset\u001b[0m\u001b[0;34m,\u001b[0m \u001b[0mepm\u001b[0m\u001b[0;34m[\u001b[0m\u001b[0mbestIndex\u001b[0m\u001b[0;34m]\u001b[0m\u001b[0;34m)\u001b[0m\u001b[0;34m\u001b[0m\u001b[0;34m\u001b[0m\u001b[0m\n\u001b[0m\u001b[1;32m    702\u001b[0m         \u001b[0;32mreturn\u001b[0m \u001b[0mself\u001b[0m\u001b[0;34m.\u001b[0m\u001b[0m_copyValues\u001b[0m\u001b[0;34m(\u001b[0m\u001b[0mCrossValidatorModel\u001b[0m\u001b[0;34m(\u001b[0m\u001b[0mbestModel\u001b[0m\u001b[0;34m,\u001b[0m \u001b[0mmetrics\u001b[0m\u001b[0;34m,\u001b[0m \u001b[0msubModels\u001b[0m\u001b[0;34m)\u001b[0m\u001b[0;34m)\u001b[0m\u001b[0;34m\u001b[0m\u001b[0;34m\u001b[0m\u001b[0m\n\u001b[1;32m    703\u001b[0m \u001b[0;34m\u001b[0m\u001b[0m\n",
            "\u001b[0;32m/usr/local/lib/python3.7/dist-packages/pyspark/ml/base.py\u001b[0m in \u001b[0;36mfit\u001b[0;34m(self, dataset, params)\u001b[0m\n\u001b[1;32m    157\u001b[0m         \u001b[0;32melif\u001b[0m \u001b[0misinstance\u001b[0m\u001b[0;34m(\u001b[0m\u001b[0mparams\u001b[0m\u001b[0;34m,\u001b[0m \u001b[0mdict\u001b[0m\u001b[0;34m)\u001b[0m\u001b[0;34m:\u001b[0m\u001b[0;34m\u001b[0m\u001b[0;34m\u001b[0m\u001b[0m\n\u001b[1;32m    158\u001b[0m             \u001b[0;32mif\u001b[0m \u001b[0mparams\u001b[0m\u001b[0;34m:\u001b[0m\u001b[0;34m\u001b[0m\u001b[0;34m\u001b[0m\u001b[0m\n\u001b[0;32m--> 159\u001b[0;31m                 \u001b[0;32mreturn\u001b[0m \u001b[0mself\u001b[0m\u001b[0;34m.\u001b[0m\u001b[0mcopy\u001b[0m\u001b[0;34m(\u001b[0m\u001b[0mparams\u001b[0m\u001b[0;34m)\u001b[0m\u001b[0;34m.\u001b[0m\u001b[0m_fit\u001b[0m\u001b[0;34m(\u001b[0m\u001b[0mdataset\u001b[0m\u001b[0;34m)\u001b[0m\u001b[0;34m\u001b[0m\u001b[0;34m\u001b[0m\u001b[0m\n\u001b[0m\u001b[1;32m    160\u001b[0m             \u001b[0;32melse\u001b[0m\u001b[0;34m:\u001b[0m\u001b[0;34m\u001b[0m\u001b[0;34m\u001b[0m\u001b[0m\n\u001b[1;32m    161\u001b[0m                 \u001b[0;32mreturn\u001b[0m \u001b[0mself\u001b[0m\u001b[0;34m.\u001b[0m\u001b[0m_fit\u001b[0m\u001b[0;34m(\u001b[0m\u001b[0mdataset\u001b[0m\u001b[0;34m)\u001b[0m\u001b[0;34m\u001b[0m\u001b[0;34m\u001b[0m\u001b[0m\n",
            "\u001b[0;32m/usr/local/lib/python3.7/dist-packages/pyspark/ml/pipeline.py\u001b[0m in \u001b[0;36m_fit\u001b[0;34m(self, dataset)\u001b[0m\n\u001b[1;32m    112\u001b[0m                     \u001b[0mdataset\u001b[0m \u001b[0;34m=\u001b[0m \u001b[0mstage\u001b[0m\u001b[0;34m.\u001b[0m\u001b[0mtransform\u001b[0m\u001b[0;34m(\u001b[0m\u001b[0mdataset\u001b[0m\u001b[0;34m)\u001b[0m\u001b[0;34m\u001b[0m\u001b[0;34m\u001b[0m\u001b[0m\n\u001b[1;32m    113\u001b[0m                 \u001b[0;32melse\u001b[0m\u001b[0;34m:\u001b[0m  \u001b[0;31m# must be an Estimator\u001b[0m\u001b[0;34m\u001b[0m\u001b[0;34m\u001b[0m\u001b[0m\n\u001b[0;32m--> 114\u001b[0;31m                     \u001b[0mmodel\u001b[0m \u001b[0;34m=\u001b[0m \u001b[0mstage\u001b[0m\u001b[0;34m.\u001b[0m\u001b[0mfit\u001b[0m\u001b[0;34m(\u001b[0m\u001b[0mdataset\u001b[0m\u001b[0;34m)\u001b[0m\u001b[0;34m\u001b[0m\u001b[0;34m\u001b[0m\u001b[0m\n\u001b[0m\u001b[1;32m    115\u001b[0m                     \u001b[0mtransformers\u001b[0m\u001b[0;34m.\u001b[0m\u001b[0mappend\u001b[0m\u001b[0;34m(\u001b[0m\u001b[0mmodel\u001b[0m\u001b[0;34m)\u001b[0m\u001b[0;34m\u001b[0m\u001b[0;34m\u001b[0m\u001b[0m\n\u001b[1;32m    116\u001b[0m                     \u001b[0;32mif\u001b[0m \u001b[0mi\u001b[0m \u001b[0;34m<\u001b[0m \u001b[0mindexOfLastEstimator\u001b[0m\u001b[0;34m:\u001b[0m\u001b[0;34m\u001b[0m\u001b[0;34m\u001b[0m\u001b[0m\n",
            "\u001b[0;32m/usr/local/lib/python3.7/dist-packages/pyspark/ml/base.py\u001b[0m in \u001b[0;36mfit\u001b[0;34m(self, dataset, params)\u001b[0m\n\u001b[1;32m    159\u001b[0m                 \u001b[0;32mreturn\u001b[0m \u001b[0mself\u001b[0m\u001b[0;34m.\u001b[0m\u001b[0mcopy\u001b[0m\u001b[0;34m(\u001b[0m\u001b[0mparams\u001b[0m\u001b[0;34m)\u001b[0m\u001b[0;34m.\u001b[0m\u001b[0m_fit\u001b[0m\u001b[0;34m(\u001b[0m\u001b[0mdataset\u001b[0m\u001b[0;34m)\u001b[0m\u001b[0;34m\u001b[0m\u001b[0;34m\u001b[0m\u001b[0m\n\u001b[1;32m    160\u001b[0m             \u001b[0;32melse\u001b[0m\u001b[0;34m:\u001b[0m\u001b[0;34m\u001b[0m\u001b[0;34m\u001b[0m\u001b[0m\n\u001b[0;32m--> 161\u001b[0;31m                 \u001b[0;32mreturn\u001b[0m \u001b[0mself\u001b[0m\u001b[0;34m.\u001b[0m\u001b[0m_fit\u001b[0m\u001b[0;34m(\u001b[0m\u001b[0mdataset\u001b[0m\u001b[0;34m)\u001b[0m\u001b[0;34m\u001b[0m\u001b[0;34m\u001b[0m\u001b[0m\n\u001b[0m\u001b[1;32m    162\u001b[0m         \u001b[0;32melse\u001b[0m\u001b[0;34m:\u001b[0m\u001b[0;34m\u001b[0m\u001b[0;34m\u001b[0m\u001b[0m\n\u001b[1;32m    163\u001b[0m             raise TypeError(\"Params must be either a param map or a list/tuple of param maps, \"\n",
            "\u001b[0;32m/usr/local/lib/python3.7/dist-packages/pyspark/ml/wrapper.py\u001b[0m in \u001b[0;36m_fit\u001b[0;34m(self, dataset)\u001b[0m\n\u001b[1;32m    333\u001b[0m \u001b[0;34m\u001b[0m\u001b[0m\n\u001b[1;32m    334\u001b[0m     \u001b[0;32mdef\u001b[0m \u001b[0m_fit\u001b[0m\u001b[0;34m(\u001b[0m\u001b[0mself\u001b[0m\u001b[0;34m,\u001b[0m \u001b[0mdataset\u001b[0m\u001b[0;34m)\u001b[0m\u001b[0;34m:\u001b[0m\u001b[0;34m\u001b[0m\u001b[0;34m\u001b[0m\u001b[0m\n\u001b[0;32m--> 335\u001b[0;31m         \u001b[0mjava_model\u001b[0m \u001b[0;34m=\u001b[0m \u001b[0mself\u001b[0m\u001b[0;34m.\u001b[0m\u001b[0m_fit_java\u001b[0m\u001b[0;34m(\u001b[0m\u001b[0mdataset\u001b[0m\u001b[0;34m)\u001b[0m\u001b[0;34m\u001b[0m\u001b[0;34m\u001b[0m\u001b[0m\n\u001b[0m\u001b[1;32m    336\u001b[0m         \u001b[0mmodel\u001b[0m \u001b[0;34m=\u001b[0m \u001b[0mself\u001b[0m\u001b[0;34m.\u001b[0m\u001b[0m_create_model\u001b[0m\u001b[0;34m(\u001b[0m\u001b[0mjava_model\u001b[0m\u001b[0;34m)\u001b[0m\u001b[0;34m\u001b[0m\u001b[0;34m\u001b[0m\u001b[0m\n\u001b[1;32m    337\u001b[0m         \u001b[0;32mreturn\u001b[0m \u001b[0mself\u001b[0m\u001b[0;34m.\u001b[0m\u001b[0m_copyValues\u001b[0m\u001b[0;34m(\u001b[0m\u001b[0mmodel\u001b[0m\u001b[0;34m)\u001b[0m\u001b[0;34m\u001b[0m\u001b[0;34m\u001b[0m\u001b[0m\n",
            "\u001b[0;32m/usr/local/lib/python3.7/dist-packages/pyspark/ml/wrapper.py\u001b[0m in \u001b[0;36m_fit_java\u001b[0;34m(self, dataset)\u001b[0m\n\u001b[1;32m    330\u001b[0m         \"\"\"\n\u001b[1;32m    331\u001b[0m         \u001b[0mself\u001b[0m\u001b[0;34m.\u001b[0m\u001b[0m_transfer_params_to_java\u001b[0m\u001b[0;34m(\u001b[0m\u001b[0;34m)\u001b[0m\u001b[0;34m\u001b[0m\u001b[0;34m\u001b[0m\u001b[0m\n\u001b[0;32m--> 332\u001b[0;31m         \u001b[0;32mreturn\u001b[0m \u001b[0mself\u001b[0m\u001b[0;34m.\u001b[0m\u001b[0m_java_obj\u001b[0m\u001b[0;34m.\u001b[0m\u001b[0mfit\u001b[0m\u001b[0;34m(\u001b[0m\u001b[0mdataset\u001b[0m\u001b[0;34m.\u001b[0m\u001b[0m_jdf\u001b[0m\u001b[0;34m)\u001b[0m\u001b[0;34m\u001b[0m\u001b[0;34m\u001b[0m\u001b[0m\n\u001b[0m\u001b[1;32m    333\u001b[0m \u001b[0;34m\u001b[0m\u001b[0m\n\u001b[1;32m    334\u001b[0m     \u001b[0;32mdef\u001b[0m \u001b[0m_fit\u001b[0m\u001b[0;34m(\u001b[0m\u001b[0mself\u001b[0m\u001b[0;34m,\u001b[0m \u001b[0mdataset\u001b[0m\u001b[0;34m)\u001b[0m\u001b[0;34m:\u001b[0m\u001b[0;34m\u001b[0m\u001b[0;34m\u001b[0m\u001b[0m\n",
            "\u001b[0;32m/usr/local/lib/python3.7/dist-packages/py4j/java_gateway.py\u001b[0m in \u001b[0;36m__call__\u001b[0;34m(self, *args)\u001b[0m\n\u001b[1;32m   1320\u001b[0m         \u001b[0manswer\u001b[0m \u001b[0;34m=\u001b[0m \u001b[0mself\u001b[0m\u001b[0;34m.\u001b[0m\u001b[0mgateway_client\u001b[0m\u001b[0;34m.\u001b[0m\u001b[0msend_command\u001b[0m\u001b[0;34m(\u001b[0m\u001b[0mcommand\u001b[0m\u001b[0;34m)\u001b[0m\u001b[0;34m\u001b[0m\u001b[0;34m\u001b[0m\u001b[0m\n\u001b[1;32m   1321\u001b[0m         return_value = get_return_value(\n\u001b[0;32m-> 1322\u001b[0;31m             answer, self.gateway_client, self.target_id, self.name)\n\u001b[0m\u001b[1;32m   1323\u001b[0m \u001b[0;34m\u001b[0m\u001b[0m\n\u001b[1;32m   1324\u001b[0m         \u001b[0;32mfor\u001b[0m \u001b[0mtemp_arg\u001b[0m \u001b[0;32min\u001b[0m \u001b[0mtemp_args\u001b[0m\u001b[0;34m:\u001b[0m\u001b[0;34m\u001b[0m\u001b[0;34m\u001b[0m\u001b[0m\n",
            "\u001b[0;32m/usr/local/lib/python3.7/dist-packages/pyspark/sql/utils.py\u001b[0m in \u001b[0;36mdeco\u001b[0;34m(*a, **kw)\u001b[0m\n\u001b[1;32m    109\u001b[0m     \u001b[0;32mdef\u001b[0m \u001b[0mdeco\u001b[0m\u001b[0;34m(\u001b[0m\u001b[0;34m*\u001b[0m\u001b[0ma\u001b[0m\u001b[0;34m,\u001b[0m \u001b[0;34m**\u001b[0m\u001b[0mkw\u001b[0m\u001b[0;34m)\u001b[0m\u001b[0;34m:\u001b[0m\u001b[0;34m\u001b[0m\u001b[0;34m\u001b[0m\u001b[0m\n\u001b[1;32m    110\u001b[0m         \u001b[0;32mtry\u001b[0m\u001b[0;34m:\u001b[0m\u001b[0;34m\u001b[0m\u001b[0;34m\u001b[0m\u001b[0m\n\u001b[0;32m--> 111\u001b[0;31m             \u001b[0;32mreturn\u001b[0m \u001b[0mf\u001b[0m\u001b[0;34m(\u001b[0m\u001b[0;34m*\u001b[0m\u001b[0ma\u001b[0m\u001b[0;34m,\u001b[0m \u001b[0;34m**\u001b[0m\u001b[0mkw\u001b[0m\u001b[0;34m)\u001b[0m\u001b[0;34m\u001b[0m\u001b[0;34m\u001b[0m\u001b[0m\n\u001b[0m\u001b[1;32m    112\u001b[0m         \u001b[0;32mexcept\u001b[0m \u001b[0mpy4j\u001b[0m\u001b[0;34m.\u001b[0m\u001b[0mprotocol\u001b[0m\u001b[0;34m.\u001b[0m\u001b[0mPy4JJavaError\u001b[0m \u001b[0;32mas\u001b[0m \u001b[0me\u001b[0m\u001b[0;34m:\u001b[0m\u001b[0;34m\u001b[0m\u001b[0;34m\u001b[0m\u001b[0m\n\u001b[1;32m    113\u001b[0m             \u001b[0mconverted\u001b[0m \u001b[0;34m=\u001b[0m \u001b[0mconvert_exception\u001b[0m\u001b[0;34m(\u001b[0m\u001b[0me\u001b[0m\u001b[0;34m.\u001b[0m\u001b[0mjava_exception\u001b[0m\u001b[0;34m)\u001b[0m\u001b[0;34m\u001b[0m\u001b[0;34m\u001b[0m\u001b[0m\n",
            "\u001b[0;32m/usr/local/lib/python3.7/dist-packages/py4j/protocol.py\u001b[0m in \u001b[0;36mget_return_value\u001b[0;34m(answer, gateway_client, target_id, name)\u001b[0m\n\u001b[1;32m    334\u001b[0m             raise Py4JError(\n\u001b[1;32m    335\u001b[0m                 \u001b[0;34m\"An error occurred while calling {0}{1}{2}\"\u001b[0m\u001b[0;34m.\u001b[0m\u001b[0;34m\u001b[0m\u001b[0;34m\u001b[0m\u001b[0m\n\u001b[0;32m--> 336\u001b[0;31m                 format(target_id, \".\", name))\n\u001b[0m\u001b[1;32m    337\u001b[0m     \u001b[0;32melse\u001b[0m\u001b[0;34m:\u001b[0m\u001b[0;34m\u001b[0m\u001b[0;34m\u001b[0m\u001b[0m\n\u001b[1;32m    338\u001b[0m         \u001b[0mtype\u001b[0m \u001b[0;34m=\u001b[0m \u001b[0manswer\u001b[0m\u001b[0;34m[\u001b[0m\u001b[0;36m1\u001b[0m\u001b[0;34m]\u001b[0m\u001b[0;34m\u001b[0m\u001b[0;34m\u001b[0m\u001b[0m\n",
            "\u001b[0;31mPy4JError\u001b[0m: An error occurred while calling o9635.fit"
          ]
        }
      ]
    },
    {
      "cell_type": "code",
      "source": [
        "cv_model_popularity_dt = decision_tree_pipeline(train_set_popularity)\n",
        "\n",
        "test_predictions_popularity_dt = cv_model_popularity_dt.transform(test_set_popularity)\n",
        "\n",
        "test_predictions_popularity_dt.select(\"std_features\", \"prediction\", \"label\").show(5)"
      ],
      "metadata": {
        "colab": {
          "base_uri": "https://localhost:8080/"
        },
        "id": "DEBkPv_JoQni",
        "outputId": "47084d9d-649a-4c2b-c083-755b2264c358"
      },
      "execution_count": null,
      "outputs": [
        {
          "output_type": "stream",
          "name": "stdout",
          "text": [
            "+--------------------+----------+-----+\n",
            "|        std_features|prediction|label|\n",
            "+--------------------+----------+-----+\n",
            "|[-1.5702805019363...|       0.0|  0.0|\n",
            "|[-1.5619422607606...|       1.0|  1.0|\n",
            "|[-1.5268641427108...|       2.0|  2.0|\n",
            "|[-1.5127753903793...|       2.0|  2.0|\n",
            "|[-1.5087500325703...|       2.0|  0.0|\n",
            "+--------------------+----------+-----+\n",
            "only showing top 5 rows\n",
            "\n"
          ]
        }
      ]
    },
    {
      "cell_type": "markdown",
      "source": [
        "## **Logistic Regression**\n",
        "\n",
        "We first train a logistic regression model, using the training set above. To do so, we use the `LogisticRegression` object provided by the [PySpark API](https://spark.apache.org/docs/latest/ml-classification-regression.html#logistic-regression) within the package `pyspark.ml.classification`.\n",
        "\n",
        "The API is similar to the one we have seen for Linear Regression (i.e., implementing the **Elastic Net** regularization framework), except for the loss function which now is **cross-entropy** rather than **mean squared error**:\n",
        "$$\n",
        "\\boldsymbol{\\theta}^* = \\text{argmin}_{\\boldsymbol{\\theta}\\in \\mathbb{R}^n} \\frac{1}{m} \\sum_{i=1}^m \\log_e(1 + e^{-y_i\\boldsymbol{\\theta}^T\\mathbf{x}_i}) + \\lambda\\Big(\\alpha |\\boldsymbol{\\theta}| + (1-\\alpha)||\\boldsymbol{\\theta}||^2\\Big)\n",
        "$$\n",
        "In particular, we can specify the following parameters:\n",
        "\n",
        "- `regParam` is the regularization parameter (or $\\lambda$);\n",
        "- `elasticNetParam` is the tradeoff parameter for regularization penalties (or $\\alpha$);\n",
        "  - `regParam = 0` and `elasticNetParam = 0` means there is no regularization;\n",
        "  - `regParam > 0` and `elasticNetParam = 0` means there is only L2-regularization; \n",
        "  - `regParam > 0` and `elasticNetParam = 1` means there is only L1-regularization;\n",
        "  - `regParam > 0` and `0 < elasticNetParam < 1` means there is both L1- and L2-regularization (Elastic Net);\n",
        "\n",
        "As it is always the case, the optimal values of those **hyperparameters** should be tuned using a dedicated portion of the dataset (i.e., **validation set**) or by performing $k$**-fold cross validation**."
      ],
      "metadata": {
        "id": "ZGOWPkB5r8u0"
      }
    },
    {
      "cell_type": "code",
      "source": [
        "# This function defines the general pipeline for logistic regression\n",
        "def logistic_regression_pipeline(train):\n",
        "  \n",
        "    stage_5_lg = LogisticRegression(featuresCol='std_features',labelCol='label')\n",
        "\n",
        "    logistic_regression_pipeline = Pipeline(stages= [stage_5_lg])\n",
        "\n",
        "    #### LOGISTIC REGRESSION\n",
        "    param_grid = ParamGridBuilder()\\\n",
        "    .addGrid(stage_5_lg.regParam, [0.01, 0.1, 1.0]) \\\n",
        "    .addGrid(stage_5_lg.maxIter, [10, 20, 50]) \\\n",
        "    .build()\n",
        "    # other param: .addGrid(stage_4_lg.elasticNetParam, [0.0, 0.25, 0.5, 0.75, 1.0])\n",
        "    cross_val_lg = CrossValidator(estimator=logistic_regression_pipeline,\n",
        "                            estimatorParamMaps=param_grid,\n",
        "                            evaluator=MulticlassClassificationEvaluator(), \n",
        "                            numFolds=5,\n",
        "                            collectSubModels=True\n",
        "                            )\n",
        "    cv_model_lg = cross_val_lg.fit(train)\n",
        "\n",
        "    return cv_model_lg"
      ],
      "metadata": {
        "id": "8kzuDVq9r_Hw"
      },
      "execution_count": null,
      "outputs": []
    },
    {
      "cell_type": "code",
      "source": [
        "cv_model_genre_lg = logistic_regression_pipeline(train_set_genre)\n",
        "\n",
        "test_predictions_genre_lg = cv_model_genre_lg.transform(test_set_genre)\n",
        "\n",
        "test_predictions_genre_lg.select(\"std_features\", \"prediction\", \"label\").show(5)"
      ],
      "metadata": {
        "id": "19CosYiVtJtM"
      },
      "execution_count": null,
      "outputs": []
    },
    {
      "cell_type": "code",
      "source": [
        "cv_model_popularity_lg = logistic_regression_pipeline(train_set_popularity)\n",
        "\n",
        "test_predictions_popularity_lg = cv_model_popularity_lg.transform(test_set_popularity)\n",
        "\n",
        "test_predictions_popularity_lg.select(\"std_features\", \"prediction\", \"label\").show(5)"
      ],
      "metadata": {
        "colab": {
          "base_uri": "https://localhost:8080/"
        },
        "id": "rZLtPfIooDLd",
        "outputId": "182774a7-fb6d-4af6-b54b-37a6ea5e5cf5"
      },
      "execution_count": null,
      "outputs": [
        {
          "output_type": "stream",
          "name": "stdout",
          "text": [
            "+--------------------+----------+-----+\n",
            "|        std_features|prediction|label|\n",
            "+--------------------+----------+-----+\n",
            "|[-1.5300269238464...|       0.0|  2.0|\n",
            "|[-1.4664837755759...|       0.0|  2.0|\n",
            "|[-1.3951774372453...|       3.0|  3.0|\n",
            "|[-0.9391619025983...|       0.0|  0.0|\n",
            "|[-0.4676199878310...|       3.0|  2.0|\n",
            "+--------------------+----------+-----+\n",
            "only showing top 5 rows\n",
            "\n"
          ]
        }
      ]
    },
    {
      "cell_type": "markdown",
      "source": [
        "## Random Forest"
      ],
      "metadata": {
        "id": "i77Cu1x8teSL"
      }
    },
    {
      "cell_type": "code",
      "source": [
        "# This function defines the general pipeline for logistic regression\n",
        "def random_forest_pipeline(train):\n",
        "  \n",
        "  stage_5_rf = RandomForestClassifier(featuresCol=\"std_features\", labelCol=\"label\")\n",
        "\n",
        "  random_forest_pipeline = Pipeline(stages= [stage_5_rf])\n",
        "\n",
        "  #### RANDOM FOREST\n",
        "  param_grid = ParamGridBuilder()\\\n",
        "    .addGrid(stage_5_rf.maxDepth, [3, 5, 8]) \\\n",
        "    .addGrid(stage_5_rf.numTrees, [10, 50, 100]) \\\n",
        "    .build()\n",
        "\n",
        "  cross_val_rf = CrossValidator(estimator=random_forest_pipeline, \n",
        "                              estimatorParamMaps=param_grid,\n",
        "                              evaluator= MulticlassClassificationEvaluator(),\n",
        "                              numFolds=5,\n",
        "                              collectSubModels=True \n",
        "                              )\n",
        "  cv_model_rf = cross_val_rf.fit(train)\n",
        "\n",
        "  return cv_model_rf"
      ],
      "metadata": {
        "id": "Qy2YaQOEtfw7"
      },
      "execution_count": null,
      "outputs": []
    },
    {
      "cell_type": "code",
      "source": [
        "cv_model_genre_rf = random_forest_pipeline(train_set_genre)\n",
        "\n",
        "test_predictions_genre_rf = cv_model_genre_rf.transform(test_set_genre)\n",
        "\n",
        "test_predictions_genre_rf.select(\"std_features\", \"prediction\", \"label\").show(5)"
      ],
      "metadata": {
        "id": "U4kUC9Jutjii"
      },
      "execution_count": null,
      "outputs": []
    },
    {
      "cell_type": "code",
      "source": [
        "cv_model_popularity_rf = random_forest_pipeline(train_set_popularity)\n",
        "\n",
        "test_predictions_popularity_rf = cv_model_popularity_rf.transform(test_set_popularity)\n",
        "\n",
        "test_predictions_popularity_rf.select(\"std_features\", \"prediction\", \"label\").show(5)"
      ],
      "metadata": {
        "id": "WBwu4MXso3DS"
      },
      "execution_count": null,
      "outputs": []
    },
    {
      "cell_type": "markdown",
      "source": [
        "# Evaluation\n"
      ],
      "metadata": {
        "id": "xk5RNzCLH28N"
      }
    },
    {
      "cell_type": "code",
      "source": [
        "def evaluate(cv_model, test_prediction):\n",
        "\n",
        "  for i, avg_roc_auc in enumerate(cv_model.avgMetrics):\n",
        "      print(\"Avg. ROC AUC computed across k-fold cross validation for model setting #{:d}: {:.3f}\".format(i+1, avg_roc_auc))\n",
        "\n",
        "  print(cv_model.bestModel.stages[-1])\n",
        "\n",
        "  print(\"##### Test Set #####\")\n",
        "  evaluator = cv_model.getEvaluator()\n",
        "  print('Test F1-Score ',   evaluator.evaluate(test_prediction, {evaluator.metricName: 'f1'}))\n",
        "  print('Test Precision ',  evaluator.evaluate(test_prediction, {evaluator.metricName: 'weightedPrecision'}))\n",
        "  print('Test Recall ',     evaluator.evaluate(test_prediction, {evaluator.metricName: 'weightedRecall'}))\n",
        "  print('Test Accuracy ',   evaluator.evaluate(test_prediction, {evaluator.metricName: 'accuracy'}))\n",
        "  print(\"####################\")"
      ],
      "metadata": {
        "id": "VJ9_D3iiH2EY"
      },
      "execution_count": null,
      "outputs": []
    },
    {
      "cell_type": "markdown",
      "source": [
        "## Decision Tree"
      ],
      "metadata": {
        "id": "kJ-Te73ITSNe"
      }
    },
    {
      "cell_type": "code",
      "source": [
        "print(\"Best model according to k-fold cross validation: maxDept=[{:d}]\".\n",
        "      format(cv_model_genre_dt.bestModel.stages[-1]._java_obj.getMaxDepth()\n",
        "             )\n",
        "      )\n",
        "evaluate(cv_model_genre_dt, test_predictions_genre_dt)"
      ],
      "metadata": {
        "id": "HU77gAV5Tmeo"
      },
      "execution_count": null,
      "outputs": []
    },
    {
      "cell_type": "code",
      "source": [
        "print(\"Best model according to k-fold cross validation: maxDept=[{:d}]\".\n",
        "      format(cv_model_popularity_dt.bestModel.stages[-1]._java_obj.getMaxDepth()\n",
        "             )\n",
        "      )\n",
        "evaluate(cv_model_popularity_dt, test_predictions_popularity_dt)"
      ],
      "metadata": {
        "id": "u4unScx1TnS0"
      },
      "execution_count": null,
      "outputs": []
    },
    {
      "cell_type": "markdown",
      "source": [
        "## Logistic Regression"
      ],
      "metadata": {
        "id": "FpYNvmAwTVmS"
      }
    },
    {
      "cell_type": "code",
      "source": [
        "print(\"Best model according to k-fold cross validation: lambda=[{:.3f}]; alfa=[{:.3f}]\".\n",
        "      format(cv_model_genre_lg.bestModel.stages[-1]._java_obj.getRegParam(),\n",
        "             cv_model_genre_lg.bestModel.stages[-1]._java_obj.getElasticNetParam()\n",
        "             )\n",
        "      )\n",
        "\n",
        "evaluate(cv_model_genre_lg, test_predictions_genre_lg)"
      ],
      "metadata": {
        "id": "IbUoCVkCT9pm"
      },
      "execution_count": null,
      "outputs": []
    },
    {
      "cell_type": "code",
      "source": [
        "print(\"Best model according to k-fold cross validation: lambda=[{:.3f}]; alfa=[{:.3f}]\".\n",
        "      format(cv_model_popularity_lg.bestModel.stages[-1]._java_obj.getRegParam(),\n",
        "             cv_model_popularity_lg.bestModel.stages[-1]._java_obj.getElasticNetParam()\n",
        "             )\n",
        "      )\n",
        "\n",
        "evaluate(cv_model_popularity_lg, test_predictions_popularity_lg)"
      ],
      "metadata": {
        "id": "e6YXD4kdT-Qw"
      },
      "execution_count": null,
      "outputs": []
    },
    {
      "cell_type": "markdown",
      "source": [
        "## Random Forest"
      ],
      "metadata": {
        "id": "0F-M4RHJTZYs"
      }
    },
    {
      "cell_type": "code",
      "source": [
        "print(\"Best model according to k-fold cross validation: maxDept=[{:d}]\".\n",
        "      format(cv_model_genre_rf.bestModel.stages[-1]._java_obj.getMaxDepth()\n",
        "             )\n",
        "      )\n",
        "evaluate(cv_model_genre_rf, test_predictions_genre_rf)"
      ],
      "metadata": {
        "id": "SmzHYj4QUrPF"
      },
      "execution_count": null,
      "outputs": []
    },
    {
      "cell_type": "code",
      "source": [
        "print(\"Best model according to k-fold cross validation: maxDept=[{:d}]\".\n",
        "      format(cv_model_popularity_rf.bestModel.stages[-1]._java_obj.getMaxDepth()\n",
        "             )\n",
        "      )\n",
        "evaluate(cv_model_popularity_rf, test_predictions_popularity_rf)"
      ],
      "metadata": {
        "id": "kj0z6QeEUr5r"
      },
      "execution_count": null,
      "outputs": []
    }
  ]
}