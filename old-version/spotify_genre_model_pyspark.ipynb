{
  "cells": [
    {
      "cell_type": "code",
      "execution_count": 1,
      "metadata": {
        "colab": {
          "base_uri": "https://localhost:8080/"
        },
        "id": "o-AdSIfoWn23",
        "outputId": "82274574-2d70-4c08-cb5b-9f954c2c2752"
      },
      "outputs": [
        {
          "name": "stdout",
          "output_type": "stream",
          "text": [
            "Requirement already satisfied: pyspark in /usr/local/lib/python3.7/dist-packages (3.2.1)\n",
            "Requirement already satisfied: py4j==0.10.9.3 in /usr/local/lib/python3.7/dist-packages (from pyspark) (0.10.9.3)\n"
          ]
        }
      ],
      "source": [
        "!pip install pyspark\n",
        "# Alternatively, if you want to install a specific version of pyspark:\n",
        "#!pip install pyspark==3.2.1 "
      ]
    },
    {
      "cell_type": "code",
      "execution_count": 2,
      "metadata": {
        "id": "z22-NrJUW0OK"
      },
      "outputs": [],
      "source": [
        "from tqdm import tqdm\n",
        "\n",
        "import requests\n",
        "import matplotlib.pyplot as plt\n",
        "#import seaborn as sns\n",
        "%matplotlib inline\n",
        "\n",
        "import pyspark\n",
        "from pyspark.sql import *\n",
        "from pyspark.sql.types import *\n",
        "from pyspark.sql.functions import *\n",
        "from pyspark import SparkContext, SparkConf\n",
        "import pyspark.sql.functions as f\n",
        "from pyspark.sql.functions import split, regexp_replace, year, month, dayofmonth, to_timestamp\n",
        "\n",
        "from pyspark.ml.feature import StringIndexer, OneHotEncoder, VectorAssembler, StandardScaler\n",
        "from pyspark.ml.classification import LogisticRegression, DecisionTreeClassifier, RandomForestClassifier\n",
        "from pyspark.ml import Pipeline\n",
        "from pyspark.ml.tuning import CrossValidator, ParamGridBuilder\n",
        "from pyspark.ml.evaluation import MulticlassClassificationEvaluator #, BinaryClassificationEvaluator \n",
        "\n",
        "# Basic libreries \n",
        "import pandas as pd\n",
        "import numpy as np\n",
        "import matplotlib.pyplot as plt\n",
        "\n",
        "# Pre-processing phase\n",
        "from sklearn import preprocessing\n",
        "from sklearn.preprocessing import OneHotEncoder, LabelEncoder\n",
        "#from imblearn.over_sampling import SMOTE\n",
        "from sklearn.model_selection import train_test_split\n",
        "\n",
        "# Features Importance\n",
        "from sklearn.inspection import permutation_importance\n",
        "\n",
        "# Model\n",
        "from sklearn import tree\n",
        "from sklearn import svm\n",
        "from sklearn.ensemble import RandomForestClassifier\n",
        "from sklearn.neural_network import MLPClassifier\n",
        "\n",
        "# Hyper-Parameter Tuning\n",
        "from sklearn.model_selection import GridSearchCV\n",
        "from sklearn.model_selection import RandomizedSearchCV\n",
        "\n",
        "from sklearn.model_selection import cross_val_score\n",
        "\n",
        "# Evaluation\n",
        "from sklearn.metrics import confusion_matrix\n",
        "from sklearn.metrics import classification_report"
      ]
    },
    {
      "cell_type": "code",
      "execution_count": 3,
      "metadata": {
        "id": "-BncW7R_W2MD"
      },
      "outputs": [],
      "source": [
        "# Create the session\n",
        "conf = SparkConf().set(\"spark.ui.port\", \"4050\").set('spark.executor.memory', '10G').set('spark.driver.memory', '60G')\\\n",
        "            .set('spark.driver.maxResultSize', '10G').set(\"spark.memory.offHeap.enabled\",True).set(\"spark.memory.offHeap.size\",\"10g\")   \n",
        "\n",
        "# Create the context\n",
        "sc = pyspark.SparkContext(conf=conf)\n",
        "spark = SparkSession.builder.getOrCreate()"
      ]
    },
    {
      "cell_type": "code",
      "execution_count": 4,
      "metadata": {
        "colab": {
          "base_uri": "https://localhost:8080/"
        },
        "id": "JCcNmE-8DNdx",
        "outputId": "eb15e4b6-9d91-4856-e68e-85f22982ccd9"
      },
      "outputs": [
        {
          "data": {
            "text/plain": [
              "[('spark.driver.port', '37275'),\n",
              " ('spark.executor.id', 'driver'),\n",
              " ('spark.driver.host', '94bc6cde9fc5'),\n",
              " ('spark.driver.maxResultSize', '10G'),\n",
              " ('spark.app.name', 'pyspark-shell'),\n",
              " ('spark.app.id', 'local-1652778384352'),\n",
              " ('spark.ui.port', '4050'),\n",
              " ('spark.app.startTime', '1652778380103'),\n",
              " ('spark.executor.memory', '10G'),\n",
              " ('spark.rdd.compress', 'True'),\n",
              " ('spark.serializer.objectStreamReset', '100'),\n",
              " ('spark.memory.offHeap.size', '10g'),\n",
              " ('spark.master', 'local[*]'),\n",
              " ('spark.driver.memory', '60G'),\n",
              " ('spark.submit.pyFiles', ''),\n",
              " ('spark.submit.deployMode', 'client'),\n",
              " ('spark.memory.offHeap.enabled', 'True'),\n",
              " ('spark.ui.showConsoleProgress', 'true')]"
            ]
          },
          "execution_count": 4,
          "metadata": {},
          "output_type": "execute_result"
        }
      ],
      "source": [
        "sc._conf.getAll()"
      ]
    },
    {
      "cell_type": "code",
      "execution_count": 5,
      "metadata": {
        "colab": {
          "base_uri": "https://localhost:8080/",
          "height": 219
        },
        "id": "adXEIrmjW4UU",
        "outputId": "78267976-76fc-46bc-decb-3953890acec2"
      },
      "outputs": [
        {
          "data": {
            "text/html": [
              "\n",
              "            <div>\n",
              "                <p><b>SparkSession - in-memory</b></p>\n",
              "                \n",
              "        <div>\n",
              "            <p><b>SparkContext</b></p>\n",
              "\n",
              "            <p><a href=\"http://94bc6cde9fc5:4050\">Spark UI</a></p>\n",
              "\n",
              "            <dl>\n",
              "              <dt>Version</dt>\n",
              "                <dd><code>v3.2.1</code></dd>\n",
              "              <dt>Master</dt>\n",
              "                <dd><code>local[*]</code></dd>\n",
              "              <dt>AppName</dt>\n",
              "                <dd><code>pyspark-shell</code></dd>\n",
              "            </dl>\n",
              "        </div>\n",
              "        \n",
              "            </div>\n",
              "        "
            ],
            "text/plain": [
              "<pyspark.sql.session.SparkSession at 0x7fbb085edd50>"
            ]
          },
          "execution_count": 5,
          "metadata": {},
          "output_type": "execute_result"
        }
      ],
      "source": [
        "spark"
      ]
    },
    {
      "cell_type": "code",
      "execution_count": 6,
      "metadata": {
        "colab": {
          "base_uri": "https://localhost:8080/"
        },
        "id": "qaAoJfRbRiOZ",
        "outputId": "da686c7b-8d3d-45c1-ae92-e47977af9921"
      },
      "outputs": [
        {
          "name": "stdout",
          "output_type": "stream",
          "text": [
            "Mounted at /content/gdrive\n",
            "Retrieving dataset from URL: https://raw.githubusercontent.com/AndreaBe99/big-data-project/main/data/dataframe.csv ...\n",
            "Dataset successfully retrieved and stored at: /content/gdrive/My Drive/Sapienza/Primo Anno/Big Data Computing/Project/dataframe.csv\n"
          ]
        }
      ],
      "source": [
        "GDRIVE_DIR = \"/content/gdrive\" # Your own mount point on Google Drive\n",
        "GDRIVE_HOME_DIR = GDRIVE_DIR + \"/My Drive\" # Your own home directory\n",
        "GDRIVE_DATA_DIR = GDRIVE_HOME_DIR +  \"/Sapienza/Primo Anno/Big Data Computing/Project\"\n",
        "\n",
        "# Point Colaboratory to our Google Drive\n",
        "from google.colab import drive\n",
        "\n",
        "drive.mount(GDRIVE_DIR, force_remount=True)\n",
        "\n",
        "DATASET_URL = \"https://raw.githubusercontent.com/AndreaBe99/big-data-project/main/data/dataframe.csv\"\n",
        "GDRIVE_DATASET_FILE = GDRIVE_DATA_DIR + \"/\" + DATASET_URL.split(\"/\")[-1]\n",
        "\n",
        "import requests\n",
        "\n",
        "\"\"\"\n",
        "This function downloads a file from a specific URL directly to Google Drive.\n",
        "\"\"\"\n",
        "def get_data(dataset_url, dest, chunk_size=1024):\n",
        "  response = requests.get(dataset_url, stream=True)\n",
        "  if response.status_code == 200: # Test if everything went ok\n",
        "    with open(dest, \"wb\") as file:\n",
        "      for block in response.iter_content(chunk_size=chunk_size): \n",
        "        if block: \n",
        "          file.write(block)\n",
        "\n",
        "print(\"Retrieving dataset from URL: {} ...\".format(DATASET_URL))\n",
        "get_data(DATASET_URL, GDRIVE_DATASET_FILE)\n",
        "print(\"Dataset successfully retrieved and stored at: {}\".format(GDRIVE_DATASET_FILE))"
      ]
    },
    {
      "cell_type": "code",
      "execution_count": 7,
      "metadata": {
        "id": "DBYYcNfWXIEY"
      },
      "outputs": [],
      "source": [
        "spotify_tracks = spark.read.load(GDRIVE_DATASET_FILE, \n",
        "                           format=\"csv\", \n",
        "                           sep=\";\", \n",
        "                           inferSchema=\"true\", \n",
        "                           header=\"true\")"
      ]
    },
    {
      "cell_type": "code",
      "execution_count": 8,
      "metadata": {
        "colab": {
          "base_uri": "https://localhost:8080/"
        },
        "id": "Ou0K8AKuzUU3",
        "outputId": "f396d219-4036-4af7-fe19-04ee50ddd1ad"
      },
      "outputs": [
        {
          "data": {
            "text/plain": [
              "DataFrame[id: string, track_name: string, track_explicit: boolean, track_popularity: int, album_name: string, album_release_date: string, album_release_date_precision: string, artist_name: string, audio_avg_pitches: string, audio_avg_timbre: string, audio_acousticness: double, audio_danceability: double, audio_duration_ms: int, audio_energy: double, audio_instrumentalness: double, audio_key_1: int, audio_liveness: double, audio_loudness: double, audio_mode_1: int, audio_speechiness: double, audio_tempo: double, audio_time_signature: int, audio_valence: double, track_uri: string, track_genre: string]"
            ]
          },
          "execution_count": 8,
          "metadata": {},
          "output_type": "execute_result"
        }
      ],
      "source": [
        "spotify_tracks.cache()"
      ]
    },
    {
      "cell_type": "markdown",
      "metadata": {
        "application/vnd.databricks.v1+cell": {
          "inputWidgets": {},
          "nuid": "98c32312-2214-4b25-8e7c-71d568d328a6",
          "showTitle": false,
          "title": ""
        },
        "id": "IPTd8ep9x74H"
      },
      "source": [
        "### **Check the shape of the loaded dataset, i.e., number of rows and columns**"
      ]
    },
    {
      "cell_type": "code",
      "execution_count": 9,
      "metadata": {
        "colab": {
          "base_uri": "https://localhost:8080/"
        },
        "id": "G93XLf84bSom",
        "outputId": "e990f55e-6922-4de9-d63f-6d70a04e32cc"
      },
      "outputs": [
        {
          "name": "stdout",
          "output_type": "stream",
          "text": [
            "The shape of the dataset is 79339 rows by 25 columns\n"
          ]
        }
      ],
      "source": [
        "print(\"The shape of the dataset is {:d} rows by {:d} columns\".format(spotify_tracks.count(), len(spotify_tracks.columns)))"
      ]
    },
    {
      "cell_type": "markdown",
      "metadata": {
        "application/vnd.databricks.v1+cell": {
          "inputWidgets": {},
          "nuid": "7da40297-6fc9-4e7a-a05c-95b71bed622a",
          "showTitle": false,
          "title": ""
        },
        "id": "-WC4RPQgyEsB"
      },
      "source": [
        "### **Print out the schema of the loaded dataset**"
      ]
    },
    {
      "cell_type": "code",
      "execution_count": 10,
      "metadata": {
        "colab": {
          "base_uri": "https://localhost:8080/"
        },
        "id": "g8r6kRqTbd8m",
        "outputId": "33062057-0cd1-472e-b6d2-6c271d95c56a"
      },
      "outputs": [
        {
          "name": "stdout",
          "output_type": "stream",
          "text": [
            "root\n",
            " |-- id: string (nullable = true)\n",
            " |-- track_name: string (nullable = true)\n",
            " |-- track_explicit: boolean (nullable = true)\n",
            " |-- track_popularity: integer (nullable = true)\n",
            " |-- album_name: string (nullable = true)\n",
            " |-- album_release_date: string (nullable = true)\n",
            " |-- album_release_date_precision: string (nullable = true)\n",
            " |-- artist_name: string (nullable = true)\n",
            " |-- audio_avg_pitches: string (nullable = true)\n",
            " |-- audio_avg_timbre: string (nullable = true)\n",
            " |-- audio_acousticness: double (nullable = true)\n",
            " |-- audio_danceability: double (nullable = true)\n",
            " |-- audio_duration_ms: integer (nullable = true)\n",
            " |-- audio_energy: double (nullable = true)\n",
            " |-- audio_instrumentalness: double (nullable = true)\n",
            " |-- audio_key_1: integer (nullable = true)\n",
            " |-- audio_liveness: double (nullable = true)\n",
            " |-- audio_loudness: double (nullable = true)\n",
            " |-- audio_mode_1: integer (nullable = true)\n",
            " |-- audio_speechiness: double (nullable = true)\n",
            " |-- audio_tempo: double (nullable = true)\n",
            " |-- audio_time_signature: integer (nullable = true)\n",
            " |-- audio_valence: double (nullable = true)\n",
            " |-- track_uri: string (nullable = true)\n",
            " |-- track_genre: string (nullable = true)\n",
            "\n"
          ]
        }
      ],
      "source": [
        "spotify_tracks.printSchema()"
      ]
    },
    {
      "cell_type": "code",
      "execution_count": 11,
      "metadata": {
        "colab": {
          "base_uri": "https://localhost:8080/"
        },
        "id": "1W9OucFAbo-8",
        "outputId": "104d4d83-7abd-429d-eebe-0d1849a72a54"
      },
      "outputs": [
        {
          "name": "stdout",
          "output_type": "stream",
          "text": [
            "+--------------------+-----------------+--------------+----------------+--------------------+------------------+----------------------------+---------------+--------------------+--------------------+------------------+------------------+-----------------+------------+----------------------+-----------+--------------+--------------+------------+-----------------+-----------+--------------------+-------------+--------------------+-----------+\n",
            "|                  id|       track_name|track_explicit|track_popularity|          album_name|album_release_date|album_release_date_precision|    artist_name|   audio_avg_pitches|    audio_avg_timbre|audio_acousticness|audio_danceability|audio_duration_ms|audio_energy|audio_instrumentalness|audio_key_1|audio_liveness|audio_loudness|audio_mode_1|audio_speechiness|audio_tempo|audio_time_signature|audio_valence|           track_uri|track_genre|\n",
            "+--------------------+-----------------+--------------+----------------+--------------------+------------------+----------------------------+---------------+--------------------+--------------------+------------------+------------------+-----------------+------------+----------------------+-----------+--------------+--------------+------------+-----------------+-----------+--------------------+-------------+--------------------+-----------+\n",
            "|2dLLR6qlu5UJ5gk0d...|           Royals|         false|              76|        Pure Heroine|        2013-09-27|                         day|          Lorde|[0.60418311874105...|[43.5924234620887...|             121.0|             674.0|           190185|       428.0|                   0.0|          7|         132.0|       -9504.0|           1|            122.0|    84878.0|                   4|        337.0|spotify:track:2dL...|   acoustic|\n",
            "|7AYoXqCtME90flUOp...|          Society|         false|               0|Music For The Mot...|        2007-12-17|                         day|   Eddie Vedder|[0.13272636815920...|[42.1157437810945...|             896.0|              0.64|           236307|       329.0|               5.36E-4|         11|         113.0|      -10844.0|           0|           0.0323|    80687.0|                   4|        295.0|spotify:track:7AY...|   acoustic|\n",
            "|2bbhyUWJ5VjdfI3P4...|           Samson|         false|              47|Begin to Hope (Sp...|        2006-06-13|                         day| Regina Spektor|[0.14223992322456...|[42.3769654510556...|             862.0|              0.49|           189507|       193.0|               9.74E-6|         11|         113.0|       -9544.0|           1|           0.0421|    89154.0|                   4|        184.0|spotify:track:2bb...|   acoustic|\n",
            "|7zkLpY72g6lKQbiHD...|          Sunrise|         false|              69|     Feels Like Home|        2004-01-01|                         day|    Norah Jones|[0.39770789473684...|[39.2482578947367...|             941.0|             526.0|           200627|       299.0|                  97.0|          8|         106.0|      -13797.0|           1|             31.0|   156848.0|                   4|        679.0|spotify:track:7zk...|   acoustic|\n",
            "|7z7fquRFQFXt4Dj7o...|Hey There Delilah|         false|               0|   Hey There Delilah|        2007-01-01|                         day|Plain White T's|[0.10335810810810...|[48.2044905405405...|              0.84|             661.0|           233627|       373.0|                   0.0|          2|         106.0|       -8169.0|           1|           0.0281|   103999.0|                   4|        304.0|spotify:track:7z7...|   acoustic|\n",
            "+--------------------+-----------------+--------------+----------------+--------------------+------------------+----------------------------+---------------+--------------------+--------------------+------------------+------------------+-----------------+------------+----------------------+-----------+--------------+--------------+------------+-----------------+-----------+--------------------+-------------+--------------------+-----------+\n",
            "only showing top 5 rows\n",
            "\n"
          ]
        }
      ],
      "source": [
        "spotify_tracks.show(5)"
      ]
    },
    {
      "cell_type": "code",
      "execution_count": 12,
      "metadata": {
        "id": "QAwbhbeSzX0A"
      },
      "outputs": [],
      "source": [
        "spotify_tracks = spotify_tracks.dropDuplicates()"
      ]
    },
    {
      "cell_type": "code",
      "execution_count": 13,
      "metadata": {
        "colab": {
          "base_uri": "https://localhost:8080/"
        },
        "id": "RNLPBth1zaIy",
        "outputId": "b1143cab-203d-4d46-ecd3-4a31695db1ae"
      },
      "outputs": [
        {
          "name": "stdout",
          "output_type": "stream",
          "text": [
            "root\n",
            " |-- id: string (nullable = true)\n",
            " |-- track_name: string (nullable = true)\n",
            " |-- track_explicit: boolean (nullable = true)\n",
            " |-- track_popularity: integer (nullable = true)\n",
            " |-- album_name: string (nullable = true)\n",
            " |-- album_release_date: string (nullable = true)\n",
            " |-- album_release_date_precision: string (nullable = true)\n",
            " |-- artist_name: string (nullable = true)\n",
            " |-- audio_avg_pitches: string (nullable = true)\n",
            " |-- audio_avg_timbre: string (nullable = true)\n",
            " |-- audio_acousticness: double (nullable = true)\n",
            " |-- audio_danceability: double (nullable = true)\n",
            " |-- audio_duration_ms: integer (nullable = true)\n",
            " |-- audio_energy: double (nullable = true)\n",
            " |-- audio_instrumentalness: double (nullable = true)\n",
            " |-- audio_key_1: integer (nullable = true)\n",
            " |-- audio_liveness: double (nullable = true)\n",
            " |-- audio_loudness: double (nullable = true)\n",
            " |-- audio_mode_1: integer (nullable = true)\n",
            " |-- audio_speechiness: double (nullable = true)\n",
            " |-- audio_tempo: double (nullable = true)\n",
            " |-- audio_time_signature: integer (nullable = true)\n",
            " |-- audio_valence: double (nullable = true)\n",
            " |-- track_uri: string (nullable = true)\n",
            " |-- track_genre: string (nullable = true)\n",
            " |-- audio_avg_pitches_list: string (nullable = true)\n",
            " |-- pitch_1: string (nullable = true)\n",
            " |-- pitch_2: string (nullable = true)\n",
            " |-- pitch_3: string (nullable = true)\n",
            " |-- pitch_4: string (nullable = true)\n",
            " |-- pitch_5: string (nullable = true)\n",
            " |-- pitch_6: string (nullable = true)\n",
            " |-- pitch_7: string (nullable = true)\n",
            " |-- pitch_8: string (nullable = true)\n",
            " |-- pitch_9: string (nullable = true)\n",
            " |-- pitch_10: string (nullable = true)\n",
            " |-- pitch_11: string (nullable = true)\n",
            " |-- pitch_12: string (nullable = true)\n",
            "\n"
          ]
        }
      ],
      "source": [
        "# Split String audio_avg_pitches to n columns\n",
        "spotify_tracks = spotify_tracks.select(spotify_tracks.columns + [f.translate(f.col(\"audio_avg_pitches\"), \"[]\", \"\").alias(\"audio_avg_pitches_list\")])\n",
        "spotify_tracks = spotify_tracks.withColumn(\"pitch_1\", split(col(\"audio_avg_pitches_list\"), \", \").getItem(0))\\\n",
        "                                .withColumn(\"pitch_2\", split(col(\"audio_avg_pitches_list\"), \", \").getItem(1))\\\n",
        "                                .withColumn(\"pitch_3\", split(col(\"audio_avg_pitches_list\"), \", \").getItem(2))\\\n",
        "                                .withColumn(\"pitch_4\", split(col(\"audio_avg_pitches_list\"), \", \").getItem(3))\\\n",
        "                                .withColumn(\"pitch_5\", split(col(\"audio_avg_pitches_list\"), \", \").getItem(4))\\\n",
        "                                .withColumn(\"pitch_6\", split(col(\"audio_avg_pitches_list\"), \", \").getItem(5))\\\n",
        "                                .withColumn(\"pitch_7\", split(col(\"audio_avg_pitches_list\"), \", \").getItem(6))\\\n",
        "                                .withColumn(\"pitch_8\", split(col(\"audio_avg_pitches_list\"), \", \").getItem(7))\\\n",
        "                                .withColumn(\"pitch_9\", split(col(\"audio_avg_pitches_list\"), \", \").getItem(8))\\\n",
        "                                .withColumn(\"pitch_10\", split(col(\"audio_avg_pitches_list\"), \", \").getItem(9))\\\n",
        "                                .withColumn(\"pitch_11\", split(col(\"audio_avg_pitches_list\"), \", \").getItem(10))\\\n",
        "                                .withColumn(\"pitch_12\", split(col(\"audio_avg_pitches_list\"), \", \").getItem(11))\n",
        "spotify_tracks.printSchema()"
      ]
    },
    {
      "cell_type": "code",
      "execution_count": 14,
      "metadata": {
        "id": "HexJgN-BDVGj"
      },
      "outputs": [],
      "source": [
        "spotify_tracks = spotify_tracks.dropDuplicates()"
      ]
    },
    {
      "cell_type": "code",
      "execution_count": 15,
      "metadata": {
        "colab": {
          "base_uri": "https://localhost:8080/"
        },
        "id": "ivRqxvXlzflv",
        "outputId": "c59040a7-1b87-43ad-bd13-a42a976f93c4"
      },
      "outputs": [
        {
          "name": "stdout",
          "output_type": "stream",
          "text": [
            "root\n",
            " |-- id: string (nullable = true)\n",
            " |-- track_name: string (nullable = true)\n",
            " |-- track_explicit: boolean (nullable = true)\n",
            " |-- track_popularity: integer (nullable = true)\n",
            " |-- album_name: string (nullable = true)\n",
            " |-- album_release_date: string (nullable = true)\n",
            " |-- album_release_date_precision: string (nullable = true)\n",
            " |-- artist_name: string (nullable = true)\n",
            " |-- audio_avg_pitches: string (nullable = true)\n",
            " |-- audio_avg_timbre: string (nullable = true)\n",
            " |-- audio_acousticness: double (nullable = true)\n",
            " |-- audio_danceability: double (nullable = true)\n",
            " |-- audio_duration_ms: integer (nullable = true)\n",
            " |-- audio_energy: double (nullable = true)\n",
            " |-- audio_instrumentalness: double (nullable = true)\n",
            " |-- audio_key_1: integer (nullable = true)\n",
            " |-- audio_liveness: double (nullable = true)\n",
            " |-- audio_loudness: double (nullable = true)\n",
            " |-- audio_mode_1: integer (nullable = true)\n",
            " |-- audio_speechiness: double (nullable = true)\n",
            " |-- audio_tempo: double (nullable = true)\n",
            " |-- audio_time_signature: integer (nullable = true)\n",
            " |-- audio_valence: double (nullable = true)\n",
            " |-- track_uri: string (nullable = true)\n",
            " |-- track_genre: string (nullable = true)\n",
            " |-- audio_avg_pitches_list: string (nullable = true)\n",
            " |-- pitch_1: string (nullable = true)\n",
            " |-- pitch_2: string (nullable = true)\n",
            " |-- pitch_3: string (nullable = true)\n",
            " |-- pitch_4: string (nullable = true)\n",
            " |-- pitch_5: string (nullable = true)\n",
            " |-- pitch_6: string (nullable = true)\n",
            " |-- pitch_7: string (nullable = true)\n",
            " |-- pitch_8: string (nullable = true)\n",
            " |-- pitch_9: string (nullable = true)\n",
            " |-- pitch_10: string (nullable = true)\n",
            " |-- pitch_11: string (nullable = true)\n",
            " |-- pitch_12: string (nullable = true)\n",
            " |-- audio_avg_timbre_list: string (nullable = true)\n",
            " |-- timbre_1: string (nullable = true)\n",
            " |-- timbre_2: string (nullable = true)\n",
            " |-- timbre_3: string (nullable = true)\n",
            " |-- timbre_4: string (nullable = true)\n",
            " |-- timbre_5: string (nullable = true)\n",
            " |-- timbre_6: string (nullable = true)\n",
            " |-- timbre_7: string (nullable = true)\n",
            " |-- timbre_8: string (nullable = true)\n",
            " |-- timbre_9: string (nullable = true)\n",
            " |-- timbre_10: string (nullable = true)\n",
            " |-- timbre_11: string (nullable = true)\n",
            " |-- timbre_12: string (nullable = true)\n",
            "\n"
          ]
        }
      ],
      "source": [
        "# Split String audio_avg_timbre to n columns\n",
        "spotify_tracks = spotify_tracks.select(spotify_tracks.columns + [f.translate(f.col(\"audio_avg_timbre\"), \"[]\", \"\").alias(\"audio_avg_timbre_list\")])\n",
        "spotify_tracks = spotify_tracks.withColumn(\"timbre_1\", split(col(\"audio_avg_timbre_list\"), \", \").getItem(0))\\\n",
        "                                .withColumn(\"timbre_2\", split(col(\"audio_avg_timbre_list\"), \", \").getItem(1))\\\n",
        "                                .withColumn(\"timbre_3\", split(col(\"audio_avg_timbre_list\"), \", \").getItem(2))\\\n",
        "                                .withColumn(\"timbre_4\", split(col(\"audio_avg_timbre_list\"), \", \").getItem(3))\\\n",
        "                                .withColumn(\"timbre_5\", split(col(\"audio_avg_timbre_list\"), \", \").getItem(4))\\\n",
        "                                .withColumn(\"timbre_6\", split(col(\"audio_avg_timbre_list\"), \", \").getItem(5))\\\n",
        "                                .withColumn(\"timbre_7\", split(col(\"audio_avg_timbre_list\"), \", \").getItem(6))\\\n",
        "                                .withColumn(\"timbre_8\", split(col(\"audio_avg_timbre_list\"), \", \").getItem(7))\\\n",
        "                                .withColumn(\"timbre_9\", split(col(\"audio_avg_timbre_list\"), \", \").getItem(8))\\\n",
        "                                .withColumn(\"timbre_10\", split(col(\"audio_avg_timbre_list\"), \", \").getItem(9))\\\n",
        "                                .withColumn(\"timbre_11\", split(col(\"audio_avg_timbre_list\"), \", \").getItem(10))\\\n",
        "                                .withColumn(\"timbre_12\", split(col(\"audio_avg_timbre_list\"), \", \").getItem(11))\n",
        "spotify_tracks.printSchema()"
      ]
    },
    {
      "cell_type": "code",
      "execution_count": 16,
      "metadata": {
        "colab": {
          "base_uri": "https://localhost:8080/"
        },
        "id": "zO_0UhZezmLm",
        "outputId": "857bac42-442b-4be2-8404-725055c2215c"
      },
      "outputs": [
        {
          "name": "stdout",
          "output_type": "stream",
          "text": [
            "+---------------------+\n",
            "|album_release_date_td|\n",
            "+---------------------+\n",
            "|           2014-05-30|\n",
            "|           2011-01-01|\n",
            "|           2003-02-18|\n",
            "|           2011-02-28|\n",
            "|           2013-01-01|\n",
            "|           2013-04-30|\n",
            "|           2014-02-18|\n",
            "|           2007-03-20|\n",
            "|           2010-01-01|\n",
            "|           2011-01-01|\n",
            "|           2012-01-24|\n",
            "|           1998-10-01|\n",
            "|           2012-09-24|\n",
            "|           2013-08-28|\n",
            "|           2006-08-31|\n",
            "|           2013-01-21|\n",
            "|           2008-04-18|\n",
            "|           2013-02-13|\n",
            "|           2016-09-14|\n",
            "|           2012-11-21|\n",
            "+---------------------+\n",
            "only showing top 20 rows\n",
            "\n"
          ]
        }
      ],
      "source": [
        "# String to Date but return null value \n",
        "# spotify_tracks_dt = spotify_tracks.withColumn(\"album_release_date\", to_date(col(\"album_release_date\"),\"yyyy-MM-dd\"))\n",
        "# spotify_tracks_dt.select(\"album_release_date\").show()\n",
        "\n",
        "# Convert String to date\n",
        "def to_date_(col, formats=(\"yyyy-MM-dd\", \"y\")):\n",
        "    # Spark 2.2 or later syntax, for < 2.2 use unix_timestamp and cast\n",
        "    return coalesce(*[to_date(col, f) for f in formats])\n",
        "\n",
        "spotify_tracks = spotify_tracks.withColumn(\"album_release_date_td\", to_date_(\"album_release_date\"))\n",
        "spotify_tracks.select(\"album_release_date_td\").show()"
      ]
    },
    {
      "cell_type": "code",
      "execution_count": 17,
      "metadata": {
        "id": "SgLU3oHtzra8"
      },
      "outputs": [],
      "source": [
        "# Split date to columns\n",
        "spotify_tracks = spotify_tracks.withColumn('day', dayofmonth(col('album_release_date_td')))\n",
        "spotify_tracks = spotify_tracks.withColumn('month', month(col('album_release_date_td')))\n",
        "spotify_tracks = spotify_tracks.withColumn('year', year(col('album_release_date_td')))"
      ]
    },
    {
      "cell_type": "code",
      "execution_count": 18,
      "metadata": {
        "colab": {
          "base_uri": "https://localhost:8080/"
        },
        "id": "6MnPTx88zxLY",
        "outputId": "ab92a05d-7ba8-4189-d012-371e8710b489"
      },
      "outputs": [
        {
          "name": "stdout",
          "output_type": "stream",
          "text": [
            "root\n",
            " |-- id: string (nullable = true)\n",
            " |-- track_name: string (nullable = true)\n",
            " |-- track_explicit: boolean (nullable = true)\n",
            " |-- track_popularity: integer (nullable = true)\n",
            " |-- album_name: string (nullable = true)\n",
            " |-- album_release_date: string (nullable = true)\n",
            " |-- album_release_date_precision: string (nullable = true)\n",
            " |-- artist_name: string (nullable = true)\n",
            " |-- audio_avg_pitches: string (nullable = true)\n",
            " |-- audio_avg_timbre: string (nullable = true)\n",
            " |-- audio_acousticness: double (nullable = true)\n",
            " |-- audio_danceability: double (nullable = true)\n",
            " |-- audio_duration_ms: integer (nullable = true)\n",
            " |-- audio_energy: double (nullable = true)\n",
            " |-- audio_instrumentalness: double (nullable = true)\n",
            " |-- audio_key_1: integer (nullable = true)\n",
            " |-- audio_liveness: double (nullable = true)\n",
            " |-- audio_loudness: double (nullable = true)\n",
            " |-- audio_mode_1: integer (nullable = true)\n",
            " |-- audio_speechiness: double (nullable = true)\n",
            " |-- audio_tempo: double (nullable = true)\n",
            " |-- audio_time_signature: integer (nullable = true)\n",
            " |-- audio_valence: double (nullable = true)\n",
            " |-- track_uri: string (nullable = true)\n",
            " |-- track_genre: string (nullable = true)\n",
            " |-- audio_avg_pitches_list: string (nullable = true)\n",
            " |-- pitch_1: string (nullable = true)\n",
            " |-- pitch_2: string (nullable = true)\n",
            " |-- pitch_3: string (nullable = true)\n",
            " |-- pitch_4: string (nullable = true)\n",
            " |-- pitch_5: string (nullable = true)\n",
            " |-- pitch_6: string (nullable = true)\n",
            " |-- pitch_7: string (nullable = true)\n",
            " |-- pitch_8: string (nullable = true)\n",
            " |-- pitch_9: string (nullable = true)\n",
            " |-- pitch_10: string (nullable = true)\n",
            " |-- pitch_11: string (nullable = true)\n",
            " |-- pitch_12: string (nullable = true)\n",
            " |-- audio_avg_timbre_list: string (nullable = true)\n",
            " |-- timbre_1: string (nullable = true)\n",
            " |-- timbre_2: string (nullable = true)\n",
            " |-- timbre_3: string (nullable = true)\n",
            " |-- timbre_4: string (nullable = true)\n",
            " |-- timbre_5: string (nullable = true)\n",
            " |-- timbre_6: string (nullable = true)\n",
            " |-- timbre_7: string (nullable = true)\n",
            " |-- timbre_8: string (nullable = true)\n",
            " |-- timbre_9: string (nullable = true)\n",
            " |-- timbre_10: string (nullable = true)\n",
            " |-- timbre_11: string (nullable = true)\n",
            " |-- timbre_12: string (nullable = true)\n",
            " |-- album_release_date_td: date (nullable = true)\n",
            " |-- day: integer (nullable = true)\n",
            " |-- month: integer (nullable = true)\n",
            " |-- year: integer (nullable = true)\n",
            "\n"
          ]
        }
      ],
      "source": [
        "spotify_tracks.printSchema()"
      ]
    },
    {
      "cell_type": "code",
      "execution_count": 19,
      "metadata": {
        "colab": {
          "base_uri": "https://localhost:8080/"
        },
        "id": "9u7w9gRfzzHj",
        "outputId": "73bd85ea-4dc2-4711-dad9-44df2d9e0072"
      },
      "outputs": [
        {
          "name": "stdout",
          "output_type": "stream",
          "text": [
            "root\n",
            " |-- track_name: string (nullable = true)\n",
            " |-- track_explicit: boolean (nullable = true)\n",
            " |-- track_popularity: integer (nullable = true)\n",
            " |-- album_name: string (nullable = true)\n",
            " |-- album_release_date_precision: string (nullable = true)\n",
            " |-- artist_name: string (nullable = true)\n",
            " |-- audio_acousticness: double (nullable = true)\n",
            " |-- audio_danceability: double (nullable = true)\n",
            " |-- audio_duration_ms: integer (nullable = true)\n",
            " |-- audio_energy: double (nullable = true)\n",
            " |-- audio_instrumentalness: double (nullable = true)\n",
            " |-- audio_key_1: integer (nullable = true)\n",
            " |-- audio_liveness: double (nullable = true)\n",
            " |-- audio_loudness: double (nullable = true)\n",
            " |-- audio_mode_1: integer (nullable = true)\n",
            " |-- audio_speechiness: double (nullable = true)\n",
            " |-- audio_tempo: double (nullable = true)\n",
            " |-- audio_time_signature: integer (nullable = true)\n",
            " |-- audio_valence: double (nullable = true)\n",
            " |-- track_genre: string (nullable = true)\n",
            " |-- pitch_1: string (nullable = true)\n",
            " |-- pitch_2: string (nullable = true)\n",
            " |-- pitch_3: string (nullable = true)\n",
            " |-- pitch_4: string (nullable = true)\n",
            " |-- pitch_5: string (nullable = true)\n",
            " |-- pitch_6: string (nullable = true)\n",
            " |-- pitch_7: string (nullable = true)\n",
            " |-- pitch_8: string (nullable = true)\n",
            " |-- pitch_9: string (nullable = true)\n",
            " |-- pitch_10: string (nullable = true)\n",
            " |-- pitch_11: string (nullable = true)\n",
            " |-- pitch_12: string (nullable = true)\n",
            " |-- timbre_1: string (nullable = true)\n",
            " |-- timbre_2: string (nullable = true)\n",
            " |-- timbre_3: string (nullable = true)\n",
            " |-- timbre_4: string (nullable = true)\n",
            " |-- timbre_5: string (nullable = true)\n",
            " |-- timbre_6: string (nullable = true)\n",
            " |-- timbre_7: string (nullable = true)\n",
            " |-- timbre_8: string (nullable = true)\n",
            " |-- timbre_9: string (nullable = true)\n",
            " |-- timbre_10: string (nullable = true)\n",
            " |-- timbre_11: string (nullable = true)\n",
            " |-- timbre_12: string (nullable = true)\n",
            " |-- day: integer (nullable = true)\n",
            " |-- month: integer (nullable = true)\n",
            " |-- year: integer (nullable = true)\n",
            "\n"
          ]
        }
      ],
      "source": [
        "# Delete columns\n",
        "cols = (\"album_release_date\", \"album_release_date_td\", \"audio_avg_pitches\",\"audio_avg_timbre\", \"audio_avg_pitches_list\", \"audio_avg_timbre_list\", \"track_uri\", \"id\")\n",
        "spotify_tracks = spotify_tracks.drop(*cols)\n",
        "\n",
        "spotify_tracks.printSchema()"
      ]
    },
    {
      "cell_type": "code",
      "execution_count": 20,
      "metadata": {
        "colab": {
          "base_uri": "https://localhost:8080/"
        },
        "id": "HkH7gEY6z2XK",
        "outputId": "a1d74960-e86a-4ef9-859a-274b361846d8"
      },
      "outputs": [
        {
          "name": "stdout",
          "output_type": "stream",
          "text": [
            "root\n",
            " |-- track_name: string (nullable = true)\n",
            " |-- track_explicit: boolean (nullable = true)\n",
            " |-- track_popularity: integer (nullable = true)\n",
            " |-- album_name: string (nullable = true)\n",
            " |-- album_release_date_precision: string (nullable = true)\n",
            " |-- artist_name: string (nullable = true)\n",
            " |-- audio_acousticness: double (nullable = true)\n",
            " |-- audio_danceability: double (nullable = true)\n",
            " |-- audio_duration_ms: integer (nullable = true)\n",
            " |-- audio_energy: double (nullable = true)\n",
            " |-- audio_instrumentalness: double (nullable = true)\n",
            " |-- audio_key_1: integer (nullable = true)\n",
            " |-- audio_liveness: double (nullable = true)\n",
            " |-- audio_loudness: double (nullable = true)\n",
            " |-- audio_mode_1: integer (nullable = true)\n",
            " |-- audio_speechiness: double (nullable = true)\n",
            " |-- audio_tempo: double (nullable = true)\n",
            " |-- audio_time_signature: integer (nullable = true)\n",
            " |-- audio_valence: double (nullable = true)\n",
            " |-- track_genre: string (nullable = true)\n",
            " |-- pitch_1: double (nullable = true)\n",
            " |-- pitch_2: double (nullable = true)\n",
            " |-- pitch_3: double (nullable = true)\n",
            " |-- pitch_4: double (nullable = true)\n",
            " |-- pitch_5: double (nullable = true)\n",
            " |-- pitch_6: double (nullable = true)\n",
            " |-- pitch_7: double (nullable = true)\n",
            " |-- pitch_8: double (nullable = true)\n",
            " |-- pitch_9: double (nullable = true)\n",
            " |-- pitch_10: double (nullable = true)\n",
            " |-- pitch_11: double (nullable = true)\n",
            " |-- pitch_12: double (nullable = true)\n",
            " |-- timbre_1: double (nullable = true)\n",
            " |-- timbre_2: double (nullable = true)\n",
            " |-- timbre_3: double (nullable = true)\n",
            " |-- timbre_4: double (nullable = true)\n",
            " |-- timbre_5: double (nullable = true)\n",
            " |-- timbre_6: double (nullable = true)\n",
            " |-- timbre_7: double (nullable = true)\n",
            " |-- timbre_8: double (nullable = true)\n",
            " |-- timbre_9: double (nullable = true)\n",
            " |-- timbre_10: double (nullable = true)\n",
            " |-- timbre_11: double (nullable = true)\n",
            " |-- timbre_12: double (nullable = true)\n",
            " |-- day: integer (nullable = true)\n",
            " |-- month: integer (nullable = true)\n",
            " |-- year: integer (nullable = true)\n",
            "\n"
          ]
        }
      ],
      "source": [
        "# Cast converted columns\n",
        "spotify_tracks = spotify_tracks.withColumn(\"pitch_1\", spotify_tracks.pitch_1.cast('double'))\\\n",
        "                                .withColumn(\"pitch_2\", spotify_tracks.pitch_2.cast('double'))\\\n",
        "                                .withColumn(\"pitch_3\", spotify_tracks.pitch_3.cast('double'))\\\n",
        "                                .withColumn(\"pitch_4\", spotify_tracks.pitch_4.cast('double'))\\\n",
        "                                .withColumn(\"pitch_5\", spotify_tracks.pitch_5.cast('double'))\\\n",
        "                                .withColumn(\"pitch_6\", spotify_tracks.pitch_6.cast('double'))\\\n",
        "                                .withColumn(\"pitch_7\", spotify_tracks.pitch_7.cast('double'))\\\n",
        "                                .withColumn(\"pitch_8\", spotify_tracks.pitch_8.cast('double'))\\\n",
        "                                .withColumn(\"pitch_9\", spotify_tracks.pitch_9.cast('double'))\\\n",
        "                                .withColumn(\"pitch_10\", spotify_tracks.pitch_10.cast('double'))\\\n",
        "                                .withColumn(\"pitch_11\", spotify_tracks.pitch_11.cast('double'))\\\n",
        "                                .withColumn(\"pitch_12\", spotify_tracks.pitch_12.cast('double'))\n",
        "\n",
        "spotify_tracks = spotify_tracks.withColumn(\"timbre_1\", spotify_tracks.timbre_1.cast('double'))\\\n",
        "                                .withColumn(\"timbre_2\", spotify_tracks.timbre_2.cast('double'))\\\n",
        "                                .withColumn(\"timbre_3\", spotify_tracks.timbre_3.cast('double'))\\\n",
        "                                .withColumn(\"timbre_4\", spotify_tracks.timbre_4.cast('double'))\\\n",
        "                                .withColumn(\"timbre_5\", spotify_tracks.timbre_5.cast('double'))\\\n",
        "                                .withColumn(\"timbre_6\", spotify_tracks.timbre_6.cast('double'))\\\n",
        "                                .withColumn(\"timbre_7\", spotify_tracks.timbre_7.cast('double'))\\\n",
        "                                .withColumn(\"timbre_8\", spotify_tracks.timbre_8.cast('double'))\\\n",
        "                                .withColumn(\"timbre_9\", spotify_tracks.timbre_9.cast('double'))\\\n",
        "                                .withColumn(\"timbre_10\", spotify_tracks.timbre_10.cast('double'))\\\n",
        "                                .withColumn(\"timbre_11\", spotify_tracks.timbre_11.cast('double'))\\\n",
        "                                .withColumn(\"timbre_12\", spotify_tracks.timbre_12.cast('double'))\n",
        "\n",
        "spotify_tracks = spotify_tracks.withColumn(\"year\", spotify_tracks.year.cast('int'))\\\n",
        "                                .withColumn(\"day\", spotify_tracks.day.cast('int'))\\\n",
        "                                .withColumn(\"month\", spotify_tracks.month.cast('int'))\n",
        "\n",
        "spotify_tracks.printSchema()"
      ]
    },
    {
      "cell_type": "code",
      "execution_count": 21,
      "metadata": {
        "id": "NkSEIpK7TSDI"
      },
      "outputs": [],
      "source": [
        "#temp = spotify_tracks.groupby(\"track_genre\").count()\n",
        "#new_train = spotify_tracks.join(temp, \"track_genre\", how = 'leftouter')\n",
        "#num_labels = spotify_tracks.select(countDistinct(spotify_tracks.score)).first()[0]\n",
        "#spotify_tracks = new_train.withColumn(\"weight\",(new_train.count()/(num_labels * new_train[\"count\"])))\n",
        "    \n",
        "#spotify_tracks.show(truncate=False)"
      ]
    },
    {
      "cell_type": "code",
      "execution_count": 22,
      "metadata": {
        "colab": {
          "base_uri": "https://localhost:8080/"
        },
        "id": "RpnZO6XE0DWb",
        "outputId": "2faf4b6a-3767-4c69-bc63-0a7d96d6a75d"
      },
      "outputs": [
        {
          "data": {
            "text/plain": [
              "DataFrame[track_name: string, track_explicit: boolean, track_popularity: int, album_name: string, album_release_date_precision: string, artist_name: string, audio_acousticness: double, audio_danceability: double, audio_duration_ms: int, audio_energy: double, audio_instrumentalness: double, audio_key_1: int, audio_liveness: double, audio_loudness: double, audio_mode_1: int, audio_speechiness: double, audio_tempo: double, audio_time_signature: int, audio_valence: double, track_genre: string, pitch_1: double, pitch_2: double, pitch_3: double, pitch_4: double, pitch_5: double, pitch_6: double, pitch_7: double, pitch_8: double, pitch_9: double, pitch_10: double, pitch_11: double, pitch_12: double, timbre_1: double, timbre_2: double, timbre_3: double, timbre_4: double, timbre_5: double, timbre_6: double, timbre_7: double, timbre_8: double, timbre_9: double, timbre_10: double, timbre_11: double, timbre_12: double, day: int, month: int, year: int]"
            ]
          },
          "execution_count": 22,
          "metadata": {},
          "output_type": "execute_result"
        }
      ],
      "source": [
        "spotify_tracks.cache()"
      ]
    },
    {
      "cell_type": "code",
      "execution_count": 23,
      "metadata": {
        "id": "eJtNqr8N0pDS"
      },
      "outputs": [],
      "source": [
        "#spotify_tracks = spotify_tracks.repartition(500)\n",
        "##spotify_tracks = spotify_tracks_rp.coalesce(1)\n",
        "#spotify_tracks.cache()\n",
        "#spotify_tracks.rdd.getNumPartitions()"
      ]
    },
    {
      "cell_type": "code",
      "execution_count": 24,
      "metadata": {
        "colab": {
          "base_uri": "https://localhost:8080/"
        },
        "id": "hkvPzYq54tt-",
        "outputId": "936b6f40-db86-4938-8815-e5651275a91a"
      },
      "outputs": [
        {
          "name": "stdout",
          "output_type": "stream",
          "text": [
            "+----------+--------------+----------------+----------+----------------------------+-----------+------------------+------------------+-----------------+------------+----------------------+-----------+--------------+--------------+------------+-----------------+-----------+--------------------+-------------+-----------+-------+-------+-------+-------+-------+-------+-------+-------+-------+--------+--------+--------+--------+--------+--------+--------+--------+--------+--------+--------+--------+---------+---------+---------+---+-----+----+\n",
            "|track_name|track_explicit|track_popularity|album_name|album_release_date_precision|artist_name|audio_acousticness|audio_danceability|audio_duration_ms|audio_energy|audio_instrumentalness|audio_key_1|audio_liveness|audio_loudness|audio_mode_1|audio_speechiness|audio_tempo|audio_time_signature|audio_valence|track_genre|pitch_1|pitch_2|pitch_3|pitch_4|pitch_5|pitch_6|pitch_7|pitch_8|pitch_9|pitch_10|pitch_11|pitch_12|timbre_1|timbre_2|timbre_3|timbre_4|timbre_5|timbre_6|timbre_7|timbre_8|timbre_9|timbre_10|timbre_11|timbre_12|day|month|year|\n",
            "+----------+--------------+----------------+----------+----------------------------+-----------+------------------+------------------+-----------------+------------+----------------------+-----------+--------------+--------------+------------+-----------------+-----------+--------------------+-------------+-----------+-------+-------+-------+-------+-------+-------+-------+-------+-------+--------+--------+--------+--------+--------+--------+--------+--------+--------+--------+--------+--------+---------+---------+---------+---+-----+----+\n",
            "|         0|             0|               0|         0|                           0|          0|                 0|                 0|                0|           0|                     0|          0|             0|             0|           0|                0|          0|                   0|            0|          0|      0|      0|      0|      0|      0|      0|      0|      0|      0|       0|       0|       0|       0|       0|       0|       0|       0|       0|       0|       0|       0|        0|        0|        0|  0|    0|   0|\n",
            "+----------+--------------+----------------+----------+----------------------------+-----------+------------------+------------------+-----------------+------------+----------------------+-----------+--------------+--------------+------------+-----------------+-----------+--------------------+-------------+-----------+-------+-------+-------+-------+-------+-------+-------+-------+-------+--------+--------+--------+--------+--------+--------+--------+--------+--------+--------+--------+--------+---------+---------+---------+---+-----+----+\n",
            "\n"
          ]
        }
      ],
      "source": [
        "# null values in each column\n",
        "spark.sql(\"set spark.sql.legacy.timeParserPolicy=LEGACY\")\n",
        "data_agg = spotify_tracks.agg(*[f.count(f.when(f.isnull(c), c)).alias(c) for c in spotify_tracks.columns])\n",
        "data_agg.show()"
      ]
    },
    {
      "cell_type": "code",
      "execution_count": 25,
      "metadata": {
        "id": "kHelcugN0M1y"
      },
      "outputs": [],
      "source": [
        "del data_agg\n",
        "spotify_tracks = spotify_tracks.dropna()"
      ]
    },
    {
      "cell_type": "code",
      "execution_count": 26,
      "metadata": {
        "id": "EZJl6PZwsxeI"
      },
      "outputs": [],
      "source": [
        "# Reverse json \n",
        "\n",
        "import json\n",
        "\n",
        "# Opening JSON file\n",
        "f = open('map_genre_small.json')\n",
        "map_genre = json.load(f)\n",
        "f.close()\n",
        "\n",
        "def invert_dict(d): \n",
        "    inverse = dict() \n",
        "    for key in d: \n",
        "        # Go through the list that is saved in the dict:\n",
        "        for item in d[key]:\n",
        "            # Check if in the inverted dict the key exists\n",
        "            if item not in inverse: \n",
        "                # If not create a new list\n",
        "                inverse[item] = key \n",
        "            #else: \n",
        "            #    inverse[item].append(key) \n",
        "    return inverse\n",
        "\n",
        "map_genre_inv = invert_dict(map_genre)"
      ]
    },
    {
      "cell_type": "code",
      "execution_count": 27,
      "metadata": {
        "id": "RS6uc59bpkuB"
      },
      "outputs": [],
      "source": [
        "udf_foo = udf(lambda x: map_genre_inv[x], StringType())\n",
        "spotify_tracks = spotify_tracks.withColumn(\"track_genre\", udf_foo(\"track_genre\"))"
      ]
    },
    {
      "cell_type": "code",
      "execution_count": 28,
      "metadata": {
        "colab": {
          "base_uri": "https://localhost:8080/",
          "height": 112
        },
        "id": "bAey03sjt9vP",
        "outputId": "2779bbea-f9ca-4560-d59e-5f2015c3a595"
      },
      "outputs": [
        {
          "data": {
            "text/html": [
              "\n",
              "  <div id=\"df-e7b077a3-32d7-4417-b4ba-149aea70f181\">\n",
              "    <div class=\"colab-df-container\">\n",
              "      <div>\n",
              "<style scoped>\n",
              "    .dataframe tbody tr th:only-of-type {\n",
              "        vertical-align: middle;\n",
              "    }\n",
              "\n",
              "    .dataframe tbody tr th {\n",
              "        vertical-align: top;\n",
              "    }\n",
              "\n",
              "    .dataframe thead th {\n",
              "        text-align: right;\n",
              "    }\n",
              "</style>\n",
              "<table border=\"1\" class=\"dataframe\">\n",
              "  <thead>\n",
              "    <tr style=\"text-align: right;\">\n",
              "      <th></th>\n",
              "      <th>0</th>\n",
              "      <th>1</th>\n",
              "      <th>2</th>\n",
              "      <th>3</th>\n",
              "      <th>4</th>\n",
              "      <th>5</th>\n",
              "      <th>6</th>\n",
              "      <th>7</th>\n",
              "      <th>8</th>\n",
              "      <th>9</th>\n",
              "      <th>10</th>\n",
              "      <th>11</th>\n",
              "      <th>12</th>\n",
              "      <th>13</th>\n",
              "    </tr>\n",
              "  </thead>\n",
              "  <tbody>\n",
              "    <tr>\n",
              "      <th>track_genre</th>\n",
              "      <td>pop</td>\n",
              "      <td>alternative</td>\n",
              "      <td>ambient</td>\n",
              "      <td>electronic</td>\n",
              "      <td>hip-hop</td>\n",
              "      <td>nation</td>\n",
              "      <td>jazz</td>\n",
              "      <td>country</td>\n",
              "      <td>musical</td>\n",
              "      <td>metal</td>\n",
              "      <td>rock</td>\n",
              "      <td>classical</td>\n",
              "      <td>latin</td>\n",
              "      <td>unclassified</td>\n",
              "    </tr>\n",
              "    <tr>\n",
              "      <th>count</th>\n",
              "      <td>5270</td>\n",
              "      <td>6000</td>\n",
              "      <td>3129</td>\n",
              "      <td>13650</td>\n",
              "      <td>2311</td>\n",
              "      <td>6127</td>\n",
              "      <td>3650</td>\n",
              "      <td>4561</td>\n",
              "      <td>2548</td>\n",
              "      <td>3600</td>\n",
              "      <td>5283</td>\n",
              "      <td>3148</td>\n",
              "      <td>5028</td>\n",
              "      <td>645</td>\n",
              "    </tr>\n",
              "  </tbody>\n",
              "</table>\n",
              "</div>\n",
              "      <button class=\"colab-df-convert\" onclick=\"convertToInteractive('df-e7b077a3-32d7-4417-b4ba-149aea70f181')\"\n",
              "              title=\"Convert this dataframe to an interactive table.\"\n",
              "              style=\"display:none;\">\n",
              "        \n",
              "  <svg xmlns=\"http://www.w3.org/2000/svg\" height=\"24px\"viewBox=\"0 0 24 24\"\n",
              "       width=\"24px\">\n",
              "    <path d=\"M0 0h24v24H0V0z\" fill=\"none\"/>\n",
              "    <path d=\"M18.56 5.44l.94 2.06.94-2.06 2.06-.94-2.06-.94-.94-2.06-.94 2.06-2.06.94zm-11 1L8.5 8.5l.94-2.06 2.06-.94-2.06-.94L8.5 2.5l-.94 2.06-2.06.94zm10 10l.94 2.06.94-2.06 2.06-.94-2.06-.94-.94-2.06-.94 2.06-2.06.94z\"/><path d=\"M17.41 7.96l-1.37-1.37c-.4-.4-.92-.59-1.43-.59-.52 0-1.04.2-1.43.59L10.3 9.45l-7.72 7.72c-.78.78-.78 2.05 0 2.83L4 21.41c.39.39.9.59 1.41.59.51 0 1.02-.2 1.41-.59l7.78-7.78 2.81-2.81c.8-.78.8-2.07 0-2.86zM5.41 20L4 18.59l7.72-7.72 1.47 1.35L5.41 20z\"/>\n",
              "  </svg>\n",
              "      </button>\n",
              "      \n",
              "  <style>\n",
              "    .colab-df-container {\n",
              "      display:flex;\n",
              "      flex-wrap:wrap;\n",
              "      gap: 12px;\n",
              "    }\n",
              "\n",
              "    .colab-df-convert {\n",
              "      background-color: #E8F0FE;\n",
              "      border: none;\n",
              "      border-radius: 50%;\n",
              "      cursor: pointer;\n",
              "      display: none;\n",
              "      fill: #1967D2;\n",
              "      height: 32px;\n",
              "      padding: 0 0 0 0;\n",
              "      width: 32px;\n",
              "    }\n",
              "\n",
              "    .colab-df-convert:hover {\n",
              "      background-color: #E2EBFA;\n",
              "      box-shadow: 0px 1px 2px rgba(60, 64, 67, 0.3), 0px 1px 3px 1px rgba(60, 64, 67, 0.15);\n",
              "      fill: #174EA6;\n",
              "    }\n",
              "\n",
              "    [theme=dark] .colab-df-convert {\n",
              "      background-color: #3B4455;\n",
              "      fill: #D2E3FC;\n",
              "    }\n",
              "\n",
              "    [theme=dark] .colab-df-convert:hover {\n",
              "      background-color: #434B5C;\n",
              "      box-shadow: 0px 1px 3px 1px rgba(0, 0, 0, 0.15);\n",
              "      filter: drop-shadow(0px 1px 2px rgba(0, 0, 0, 0.3));\n",
              "      fill: #FFFFFF;\n",
              "    }\n",
              "  </style>\n",
              "\n",
              "      <script>\n",
              "        const buttonEl =\n",
              "          document.querySelector('#df-e7b077a3-32d7-4417-b4ba-149aea70f181 button.colab-df-convert');\n",
              "        buttonEl.style.display =\n",
              "          google.colab.kernel.accessAllowed ? 'block' : 'none';\n",
              "\n",
              "        async function convertToInteractive(key) {\n",
              "          const element = document.querySelector('#df-e7b077a3-32d7-4417-b4ba-149aea70f181');\n",
              "          const dataTable =\n",
              "            await google.colab.kernel.invokeFunction('convertToInteractive',\n",
              "                                                     [key], {});\n",
              "          if (!dataTable) return;\n",
              "\n",
              "          const docLinkHtml = 'Like what you see? Visit the ' +\n",
              "            '<a target=\"_blank\" href=https://colab.research.google.com/notebooks/data_table.ipynb>data table notebook</a>'\n",
              "            + ' to learn more about interactive tables.';\n",
              "          element.innerHTML = '';\n",
              "          dataTable['output_type'] = 'display_data';\n",
              "          await google.colab.output.renderOutput(dataTable, element);\n",
              "          const docLink = document.createElement('div');\n",
              "          docLink.innerHTML = docLinkHtml;\n",
              "          element.appendChild(docLink);\n",
              "        }\n",
              "      </script>\n",
              "    </div>\n",
              "  </div>\n",
              "  "
            ],
            "text/plain": [
              "               0            1        2           3        4       5     6   \\\n",
              "track_genre   pop  alternative  ambient  electronic  hip-hop  nation  jazz   \n",
              "count        5270         6000     3129       13650     2311    6127  3650   \n",
              "\n",
              "                  7        8      9     10         11     12            13  \n",
              "track_genre  country  musical  metal  rock  classical  latin  unclassified  \n",
              "count           4561     2548   3600  5283       3148   5028           645  "
            ]
          },
          "execution_count": 28,
          "metadata": {},
          "output_type": "execute_result"
        }
      ],
      "source": [
        "spotify_tracks.groupBy('track_genre').count().toPandas().transpose()"
      ]
    },
    {
      "cell_type": "code",
      "execution_count": 29,
      "metadata": {
        "colab": {
          "base_uri": "https://localhost:8080/",
          "height": 112
        },
        "id": "CzGhj0sY1u6b",
        "outputId": "d770a361-1b1c-48c2-ae69-742c7ab9964e"
      },
      "outputs": [
        {
          "data": {
            "text/html": [
              "\n",
              "  <div id=\"df-dc44d9b0-5c2c-42bf-894e-6c861d542626\">\n",
              "    <div class=\"colab-df-container\">\n",
              "      <div>\n",
              "<style scoped>\n",
              "    .dataframe tbody tr th:only-of-type {\n",
              "        vertical-align: middle;\n",
              "    }\n",
              "\n",
              "    .dataframe tbody tr th {\n",
              "        vertical-align: top;\n",
              "    }\n",
              "\n",
              "    .dataframe thead th {\n",
              "        text-align: right;\n",
              "    }\n",
              "</style>\n",
              "<table border=\"1\" class=\"dataframe\">\n",
              "  <thead>\n",
              "    <tr style=\"text-align: right;\">\n",
              "      <th></th>\n",
              "      <th>0</th>\n",
              "      <th>1</th>\n",
              "      <th>2</th>\n",
              "      <th>3</th>\n",
              "      <th>4</th>\n",
              "      <th>5</th>\n",
              "      <th>6</th>\n",
              "      <th>7</th>\n",
              "      <th>8</th>\n",
              "      <th>9</th>\n",
              "      <th>10</th>\n",
              "      <th>11</th>\n",
              "    </tr>\n",
              "  </thead>\n",
              "  <tbody>\n",
              "    <tr>\n",
              "      <th>track_genre</th>\n",
              "      <td>pop</td>\n",
              "      <td>alternative</td>\n",
              "      <td>ambient</td>\n",
              "      <td>electronic</td>\n",
              "      <td>hip-hop</td>\n",
              "      <td>jazz</td>\n",
              "      <td>country</td>\n",
              "      <td>musical</td>\n",
              "      <td>metal</td>\n",
              "      <td>rock</td>\n",
              "      <td>classical</td>\n",
              "      <td>latin</td>\n",
              "    </tr>\n",
              "    <tr>\n",
              "      <th>count</th>\n",
              "      <td>5270</td>\n",
              "      <td>6000</td>\n",
              "      <td>3129</td>\n",
              "      <td>13650</td>\n",
              "      <td>2311</td>\n",
              "      <td>3650</td>\n",
              "      <td>4561</td>\n",
              "      <td>2548</td>\n",
              "      <td>3600</td>\n",
              "      <td>5283</td>\n",
              "      <td>3148</td>\n",
              "      <td>5028</td>\n",
              "    </tr>\n",
              "  </tbody>\n",
              "</table>\n",
              "</div>\n",
              "      <button class=\"colab-df-convert\" onclick=\"convertToInteractive('df-dc44d9b0-5c2c-42bf-894e-6c861d542626')\"\n",
              "              title=\"Convert this dataframe to an interactive table.\"\n",
              "              style=\"display:none;\">\n",
              "        \n",
              "  <svg xmlns=\"http://www.w3.org/2000/svg\" height=\"24px\"viewBox=\"0 0 24 24\"\n",
              "       width=\"24px\">\n",
              "    <path d=\"M0 0h24v24H0V0z\" fill=\"none\"/>\n",
              "    <path d=\"M18.56 5.44l.94 2.06.94-2.06 2.06-.94-2.06-.94-.94-2.06-.94 2.06-2.06.94zm-11 1L8.5 8.5l.94-2.06 2.06-.94-2.06-.94L8.5 2.5l-.94 2.06-2.06.94zm10 10l.94 2.06.94-2.06 2.06-.94-2.06-.94-.94-2.06-.94 2.06-2.06.94z\"/><path d=\"M17.41 7.96l-1.37-1.37c-.4-.4-.92-.59-1.43-.59-.52 0-1.04.2-1.43.59L10.3 9.45l-7.72 7.72c-.78.78-.78 2.05 0 2.83L4 21.41c.39.39.9.59 1.41.59.51 0 1.02-.2 1.41-.59l7.78-7.78 2.81-2.81c.8-.78.8-2.07 0-2.86zM5.41 20L4 18.59l7.72-7.72 1.47 1.35L5.41 20z\"/>\n",
              "  </svg>\n",
              "      </button>\n",
              "      \n",
              "  <style>\n",
              "    .colab-df-container {\n",
              "      display:flex;\n",
              "      flex-wrap:wrap;\n",
              "      gap: 12px;\n",
              "    }\n",
              "\n",
              "    .colab-df-convert {\n",
              "      background-color: #E8F0FE;\n",
              "      border: none;\n",
              "      border-radius: 50%;\n",
              "      cursor: pointer;\n",
              "      display: none;\n",
              "      fill: #1967D2;\n",
              "      height: 32px;\n",
              "      padding: 0 0 0 0;\n",
              "      width: 32px;\n",
              "    }\n",
              "\n",
              "    .colab-df-convert:hover {\n",
              "      background-color: #E2EBFA;\n",
              "      box-shadow: 0px 1px 2px rgba(60, 64, 67, 0.3), 0px 1px 3px 1px rgba(60, 64, 67, 0.15);\n",
              "      fill: #174EA6;\n",
              "    }\n",
              "\n",
              "    [theme=dark] .colab-df-convert {\n",
              "      background-color: #3B4455;\n",
              "      fill: #D2E3FC;\n",
              "    }\n",
              "\n",
              "    [theme=dark] .colab-df-convert:hover {\n",
              "      background-color: #434B5C;\n",
              "      box-shadow: 0px 1px 3px 1px rgba(0, 0, 0, 0.15);\n",
              "      filter: drop-shadow(0px 1px 2px rgba(0, 0, 0, 0.3));\n",
              "      fill: #FFFFFF;\n",
              "    }\n",
              "  </style>\n",
              "\n",
              "      <script>\n",
              "        const buttonEl =\n",
              "          document.querySelector('#df-dc44d9b0-5c2c-42bf-894e-6c861d542626 button.colab-df-convert');\n",
              "        buttonEl.style.display =\n",
              "          google.colab.kernel.accessAllowed ? 'block' : 'none';\n",
              "\n",
              "        async function convertToInteractive(key) {\n",
              "          const element = document.querySelector('#df-dc44d9b0-5c2c-42bf-894e-6c861d542626');\n",
              "          const dataTable =\n",
              "            await google.colab.kernel.invokeFunction('convertToInteractive',\n",
              "                                                     [key], {});\n",
              "          if (!dataTable) return;\n",
              "\n",
              "          const docLinkHtml = 'Like what you see? Visit the ' +\n",
              "            '<a target=\"_blank\" href=https://colab.research.google.com/notebooks/data_table.ipynb>data table notebook</a>'\n",
              "            + ' to learn more about interactive tables.';\n",
              "          element.innerHTML = '';\n",
              "          dataTable['output_type'] = 'display_data';\n",
              "          await google.colab.output.renderOutput(dataTable, element);\n",
              "          const docLink = document.createElement('div');\n",
              "          docLink.innerHTML = docLinkHtml;\n",
              "          element.appendChild(docLink);\n",
              "        }\n",
              "      </script>\n",
              "    </div>\n",
              "  </div>\n",
              "  "
            ],
            "text/plain": [
              "               0            1        2           3        4     5        6   \\\n",
              "track_genre   pop  alternative  ambient  electronic  hip-hop  jazz  country   \n",
              "count        5270         6000     3129       13650     2311  3650     4561   \n",
              "\n",
              "                  7      8     9          10     11  \n",
              "track_genre  musical  metal  rock  classical  latin  \n",
              "count           2548   3600  5283       3148   5028  "
            ]
          },
          "execution_count": 29,
          "metadata": {},
          "output_type": "execute_result"
        }
      ],
      "source": [
        "spotify_tracks = spotify_tracks.filter(spotify_tracks.track_genre != 'unclassified')\n",
        "spotify_tracks.groupBy('track_genre').count().toPandas().transpose()"
      ]
    },
    {
      "cell_type": "code",
      "execution_count": 32,
      "metadata": {
        "colab": {
          "base_uri": "https://localhost:8080/",
          "height": 112
        },
        "id": "vIPDgwRg3lZi",
        "outputId": "8d358bb3-7ea7-4798-db8e-8c4843b535b9"
      },
      "outputs": [
        {
          "data": {
            "text/html": [
              "\n",
              "  <div id=\"df-2c78e1eb-e945-4282-b8e8-f025ac91bbed\">\n",
              "    <div class=\"colab-df-container\">\n",
              "      <div>\n",
              "<style scoped>\n",
              "    .dataframe tbody tr th:only-of-type {\n",
              "        vertical-align: middle;\n",
              "    }\n",
              "\n",
              "    .dataframe tbody tr th {\n",
              "        vertical-align: top;\n",
              "    }\n",
              "\n",
              "    .dataframe thead th {\n",
              "        text-align: right;\n",
              "    }\n",
              "</style>\n",
              "<table border=\"1\" class=\"dataframe\">\n",
              "  <thead>\n",
              "    <tr style=\"text-align: right;\">\n",
              "      <th></th>\n",
              "      <th>0</th>\n",
              "      <th>1</th>\n",
              "      <th>2</th>\n",
              "      <th>3</th>\n",
              "      <th>4</th>\n",
              "      <th>5</th>\n",
              "      <th>6</th>\n",
              "      <th>7</th>\n",
              "      <th>8</th>\n",
              "      <th>9</th>\n",
              "      <th>10</th>\n",
              "      <th>11</th>\n",
              "    </tr>\n",
              "  </thead>\n",
              "  <tbody>\n",
              "    <tr>\n",
              "      <th>track_genre</th>\n",
              "      <td>ambient</td>\n",
              "      <td>jazz</td>\n",
              "      <td>latin</td>\n",
              "      <td>pop</td>\n",
              "      <td>musical</td>\n",
              "      <td>rock</td>\n",
              "      <td>electronic</td>\n",
              "      <td>country</td>\n",
              "      <td>alternative</td>\n",
              "      <td>classical</td>\n",
              "      <td>metal</td>\n",
              "      <td>hip-hop</td>\n",
              "    </tr>\n",
              "    <tr>\n",
              "      <th>count</th>\n",
              "      <td>30</td>\n",
              "      <td>32</td>\n",
              "      <td>36</td>\n",
              "      <td>46</td>\n",
              "      <td>24</td>\n",
              "      <td>55</td>\n",
              "      <td>117</td>\n",
              "      <td>53</td>\n",
              "      <td>42</td>\n",
              "      <td>24</td>\n",
              "      <td>26</td>\n",
              "      <td>16</td>\n",
              "    </tr>\n",
              "  </tbody>\n",
              "</table>\n",
              "</div>\n",
              "      <button class=\"colab-df-convert\" onclick=\"convertToInteractive('df-2c78e1eb-e945-4282-b8e8-f025ac91bbed')\"\n",
              "              title=\"Convert this dataframe to an interactive table.\"\n",
              "              style=\"display:none;\">\n",
              "        \n",
              "  <svg xmlns=\"http://www.w3.org/2000/svg\" height=\"24px\"viewBox=\"0 0 24 24\"\n",
              "       width=\"24px\">\n",
              "    <path d=\"M0 0h24v24H0V0z\" fill=\"none\"/>\n",
              "    <path d=\"M18.56 5.44l.94 2.06.94-2.06 2.06-.94-2.06-.94-.94-2.06-.94 2.06-2.06.94zm-11 1L8.5 8.5l.94-2.06 2.06-.94-2.06-.94L8.5 2.5l-.94 2.06-2.06.94zm10 10l.94 2.06.94-2.06 2.06-.94-2.06-.94-.94-2.06-.94 2.06-2.06.94z\"/><path d=\"M17.41 7.96l-1.37-1.37c-.4-.4-.92-.59-1.43-.59-.52 0-1.04.2-1.43.59L10.3 9.45l-7.72 7.72c-.78.78-.78 2.05 0 2.83L4 21.41c.39.39.9.59 1.41.59.51 0 1.02-.2 1.41-.59l7.78-7.78 2.81-2.81c.8-.78.8-2.07 0-2.86zM5.41 20L4 18.59l7.72-7.72 1.47 1.35L5.41 20z\"/>\n",
              "  </svg>\n",
              "      </button>\n",
              "      \n",
              "  <style>\n",
              "    .colab-df-container {\n",
              "      display:flex;\n",
              "      flex-wrap:wrap;\n",
              "      gap: 12px;\n",
              "    }\n",
              "\n",
              "    .colab-df-convert {\n",
              "      background-color: #E8F0FE;\n",
              "      border: none;\n",
              "      border-radius: 50%;\n",
              "      cursor: pointer;\n",
              "      display: none;\n",
              "      fill: #1967D2;\n",
              "      height: 32px;\n",
              "      padding: 0 0 0 0;\n",
              "      width: 32px;\n",
              "    }\n",
              "\n",
              "    .colab-df-convert:hover {\n",
              "      background-color: #E2EBFA;\n",
              "      box-shadow: 0px 1px 2px rgba(60, 64, 67, 0.3), 0px 1px 3px 1px rgba(60, 64, 67, 0.15);\n",
              "      fill: #174EA6;\n",
              "    }\n",
              "\n",
              "    [theme=dark] .colab-df-convert {\n",
              "      background-color: #3B4455;\n",
              "      fill: #D2E3FC;\n",
              "    }\n",
              "\n",
              "    [theme=dark] .colab-df-convert:hover {\n",
              "      background-color: #434B5C;\n",
              "      box-shadow: 0px 1px 3px 1px rgba(0, 0, 0, 0.15);\n",
              "      filter: drop-shadow(0px 1px 2px rgba(0, 0, 0, 0.3));\n",
              "      fill: #FFFFFF;\n",
              "    }\n",
              "  </style>\n",
              "\n",
              "      <script>\n",
              "        const buttonEl =\n",
              "          document.querySelector('#df-2c78e1eb-e945-4282-b8e8-f025ac91bbed button.colab-df-convert');\n",
              "        buttonEl.style.display =\n",
              "          google.colab.kernel.accessAllowed ? 'block' : 'none';\n",
              "\n",
              "        async function convertToInteractive(key) {\n",
              "          const element = document.querySelector('#df-2c78e1eb-e945-4282-b8e8-f025ac91bbed');\n",
              "          const dataTable =\n",
              "            await google.colab.kernel.invokeFunction('convertToInteractive',\n",
              "                                                     [key], {});\n",
              "          if (!dataTable) return;\n",
              "\n",
              "          const docLinkHtml = 'Like what you see? Visit the ' +\n",
              "            '<a target=\"_blank\" href=https://colab.research.google.com/notebooks/data_table.ipynb>data table notebook</a>'\n",
              "            + ' to learn more about interactive tables.';\n",
              "          element.innerHTML = '';\n",
              "          dataTable['output_type'] = 'display_data';\n",
              "          await google.colab.output.renderOutput(dataTable, element);\n",
              "          const docLink = document.createElement('div');\n",
              "          docLink.innerHTML = docLinkHtml;\n",
              "          element.appendChild(docLink);\n",
              "        }\n",
              "      </script>\n",
              "    </div>\n",
              "  </div>\n",
              "  "
            ],
            "text/plain": [
              "                  0     1      2    3        4     5           6        7   \\\n",
              "track_genre  ambient  jazz  latin  pop  musical  rock  electronic  country   \n",
              "count             30    32     36   46       24    55         117       53   \n",
              "\n",
              "                      8          9      10       11  \n",
              "track_genre  alternative  classical  metal  hip-hop  \n",
              "count                 42         24     26       16  "
            ]
          },
          "execution_count": 32,
          "metadata": {},
          "output_type": "execute_result"
        }
      ],
      "source": [
        "fractions_dict = spotify_tracks.groupBy('track_genre').count().toPandas().to_dict()\n",
        "\n",
        "fraction = {}\n",
        "for genre in fractions_dict[\"track_genre\"]:\n",
        "  g = fractions_dict[\"track_genre\"][genre]\n",
        "  # fraction[g] = fractions_dict[\"count\"][genre] / spotify_tracks.count()\n",
        "  fraction[g] = 2000 / fractions_dict[\"count\"][genre] \n",
        "\n",
        "del fractions_dict\n",
        "spotify_tracks = spotify_tracks.sampleBy(\"track_genre\", fractions=fraction, seed=0)\n",
        "spotify_tracks.groupBy('track_genre').count().toPandas().transpose()"
      ]
    },
    {
      "cell_type": "code",
      "execution_count": 33,
      "metadata": {
        "colab": {
          "base_uri": "https://localhost:8080/"
        },
        "id": "6QxP67pD8wek",
        "outputId": "3e91c2b6-385b-4513-ebc5-575839c7fb83"
      },
      "outputs": [
        {
          "name": "stdout",
          "output_type": "stream",
          "text": [
            "Categorical:  ['track_name', 'album_name', 'album_release_date_precision', 'artist_name'] \n",
            "Numerical:  ['track_explicit', 'track_popularity', 'audio_acousticness', 'audio_danceability', 'audio_duration_ms', 'audio_energy', 'audio_instrumentalness', 'audio_key_1', 'audio_liveness', 'audio_loudness', 'audio_mode_1', 'audio_speechiness', 'audio_tempo', 'audio_time_signature', 'audio_valence', 'pitch_1', 'pitch_2', 'pitch_3', 'pitch_4', 'pitch_5', 'pitch_6', 'pitch_7', 'pitch_8', 'pitch_9', 'pitch_10', 'pitch_11', 'pitch_12', 'timbre_1', 'timbre_2', 'timbre_3', 'timbre_4', 'timbre_5', 'timbre_6', 'timbre_7', 'timbre_8', 'timbre_9', 'timbre_10', 'timbre_11', 'timbre_12', 'day', 'month', 'year']\n"
          ]
        }
      ],
      "source": [
        "# Let's define some constants which we will use throughout this notebook\n",
        "NUMERICAL_FEATURES = []\n",
        "CATEGORICAL_FEATURES = []\n",
        "TARGET_VARIABLE = \"track_genre\"\n",
        "\n",
        "#Get All column names and it's types\n",
        "for col in spotify_tracks.dtypes:\n",
        "    if col[1] == \"string\":\n",
        "        CATEGORICAL_FEATURES.append(col[0])\n",
        "    else:\n",
        "        NUMERICAL_FEATURES.append(col[0])\n",
        "\n",
        "CATEGORICAL_FEATURES.remove(TARGET_VARIABLE)\n",
        "print(\"Categorical: \", CATEGORICAL_FEATURES, \"\\nNumerical: \", NUMERICAL_FEATURES)"
      ]
    },
    {
      "cell_type": "code",
      "execution_count": 34,
      "metadata": {
        "colab": {
          "base_uri": "https://localhost:8080/"
        },
        "id": "1sDFiuAUkxjI",
        "outputId": "b60bf7bb-3a86-493e-a3ef-86cebc81cb77"
      },
      "outputs": [
        {
          "name": "stdout",
          "output_type": "stream",
          "text": [
            "+----------------------------+-----+\n",
            "|album_release_date_precision|count|\n",
            "+----------------------------+-----+\n",
            "|                         day|  429|\n",
            "|                        year|   71|\n",
            "|                       month|    1|\n",
            "+----------------------------+-----+\n",
            "\n",
            "+----------------------+-----+\n",
            "|            track_name|count|\n",
            "+----------------------+-----+\n",
            "|                  Sona|    1|\n",
            "|            Days Go By|    1|\n",
            "|       Pegame Tu Vicio|    1|\n",
            "|おジャ魔女カーニバル!!|    1|\n",
            "|           Green Light|    1|\n",
            "|            ターミナル|    1|\n",
            "|  Garúa (with Orque...|    1|\n",
            "|          Ghostbusters|    1|\n",
            "|              Flaphead|    1|\n",
            "|  Stop & Think It Over|    1|\n",
            "|  Rock 'n' Roll (Wi...|    1|\n",
            "|     Tiger Striped Sky|    1|\n",
            "|  Smooth Criminal -...|    1|\n",
            "|  Kokko - Eagle Of ...|    1|\n",
            "|               On Hold|    1|\n",
            "|  I See Fire - Live...|    1|\n",
            "|                Kaliko|    1|\n",
            "|     Sphere Of No-form|    1|\n",
            "|      Life Gets Better|    1|\n",
            "|  The Presence of t...|    1|\n",
            "+----------------------+-----+\n",
            "only showing top 20 rows\n",
            "\n",
            "+--------------------+-----+\n",
            "|          album_name|count|\n",
            "+--------------------+-----+\n",
            "|       Greatest Hits|    3|\n",
            "|Dawn Of A New Cen...|    1|\n",
            "|Merengue At It's ...|    1|\n",
            "|           Melodrama|    1|\n",
            "|           カバ☆リス|    1|\n",
            "|                TIME|    1|\n",
            "|Arista Heritage S...|    1|\n",
            "|Antologia Roberto...|    1|\n",
            "|            Classics|    1|\n",
            "|   Tiger Striped Sky|    1|\n",
            "|Scary Monsters an...|    1|\n",
            "|Crystal Gazing Lu...|    1|\n",
            "|          Byron Cage|    1|\n",
            "|        Re-Evolution|    1|\n",
            "|Random Acts Of Ki...|    1|\n",
            "|           Substrata|    1|\n",
            "|The Essential Mic...|    1|\n",
            "| Live and in Session|    1|\n",
            "|           I See You|    1|\n",
            "|            Zomby EP|    1|\n",
            "+--------------------+-----+\n",
            "only showing top 20 rows\n",
            "\n",
            "+-------------------+-----+\n",
            "|        artist_name|count|\n",
            "+-------------------+-----+\n",
            "|        Keith Urban|    2|\n",
            "|       Eddy Herrera|    1|\n",
            "|      Secret Garden|    1|\n",
            "|          KANA-BOON|    1|\n",
            "|              Lorde|    1|\n",
            "|        茜屋 日海夏|    1|\n",
            "|  Roberto Goyeneche|    1|\n",
            "|     Ray Parker Jr.|    1|\n",
            "|         Aphex Twin|    1|\n",
            "|Compulsive Gamblers|    1|\n",
            "|          Roo Panes|    1|\n",
            "|           Skrillex|    1|\n",
            "|         Byron Cage|    1|\n",
            "|   Skool Of Thought|    1|\n",
            "|              Zomby|    2|\n",
            "|    Michael Jackson|    1|\n",
            "|          Biosphere|    1|\n",
            "|      Amberian Dawn|    1|\n",
            "|         Ed Sheeran|    2|\n",
            "|             The xx|    1|\n",
            "+-------------------+-----+\n",
            "only showing top 20 rows\n",
            "\n"
          ]
        }
      ],
      "source": [
        "# value counts of Batsman_Name column\n",
        "spotify_tracks.groupBy('album_release_date_precision').count().show()\n",
        "\n",
        "spotify_tracks.groupBy('track_name').count().show()\n",
        "\n",
        "spotify_tracks.groupBy('album_name').count().show()\n",
        "\n",
        "spotify_tracks.groupBy('artist_name').count().show()"
      ]
    },
    {
      "cell_type": "code",
      "execution_count": 35,
      "metadata": {
        "id": "UmlYuHRjv7rw"
      },
      "outputs": [],
      "source": [
        "# This function is responsible to implement the pipeline above for transforming categorical features into numerical ones\n",
        "def to_numerical(df, numerical_features, categorical_features, target_variable):\n",
        "  \n",
        "    # 1. Label Encode target feature \n",
        "    label_indexer= StringIndexer(inputCol=target_variable, outputCol='label')\n",
        "\n",
        "    # 2. Label Encode Categorical features\n",
        "    indexer = [StringIndexer(inputCol=c, outputCol=\"{0}_index\".format(c), handleInvalid=\"skip\") for c in categorical_features]\n",
        "\n",
        "    # 3. OneHot Encode \n",
        "    # stage_3 = OneHotEncoder(inputCol='album_release_date_precision_index', outputCol='album_release_date_precision_oh')\n",
        "\n",
        "    # 4. create a vector of all the features required to train the logistic regression model \n",
        "    # encoded_columns = ['track_name_index', 'album_name_index', 'artist_name_index', 'album_release_date_precision_oh']\n",
        "    # stage_4 = VectorAssembler(inputCols= encoded_columns + numerical_features, outputCol='features')\n",
        "    assembler = VectorAssembler(inputCols= [indexer.getOutputCol() for indexer in indexer] + numerical_features, outputCol='features')\n",
        "    \n",
        "    # 4.a Create the StandardScaler\n",
        "    scaler = StandardScaler(inputCol=assembler.getOutputCol(), outputCol=\"std_\" + assembler.getOutputCol(), withStd=True, withMean=True)\n",
        "\n",
        "   \n",
        "\n",
        "    # 5. Populate the stages of the pipeline\n",
        "    # stages = [stage_1] + stage_2 +[stage_3] + [stage_4] + [scaler]\n",
        "    stages = [label_indexer] + indexer + [assembler] + [scaler]\n",
        "    # 6. Setup the pipeline with the stages above\n",
        "    pipeline = Pipeline(stages=stages)\n",
        "\n",
        "    # 7. Transform the input dataframe accordingly\n",
        "    transformer = pipeline.fit(df)\n",
        "    df_transformed = transformer.transform(df)\n",
        "\n",
        "    return df_transformed"
      ]
    },
    {
      "cell_type": "code",
      "execution_count": 36,
      "metadata": {
        "colab": {
          "base_uri": "https://localhost:8080/"
        },
        "id": "AzCode8TD8X2",
        "outputId": "45784e3f-3d2d-41e9-faa6-2e6bc6971e62"
      },
      "outputs": [
        {
          "data": {
            "text/plain": [
              "DataFrame[track_name: string, track_explicit: boolean, track_popularity: int, album_name: string, album_release_date_precision: string, artist_name: string, audio_acousticness: double, audio_danceability: double, audio_duration_ms: int, audio_energy: double, audio_instrumentalness: double, audio_key_1: int, audio_liveness: double, audio_loudness: double, audio_mode_1: int, audio_speechiness: double, audio_tempo: double, audio_time_signature: int, audio_valence: double, track_genre: string, pitch_1: double, pitch_2: double, pitch_3: double, pitch_4: double, pitch_5: double, pitch_6: double, pitch_7: double, pitch_8: double, pitch_9: double, pitch_10: double, pitch_11: double, pitch_12: double, timbre_1: double, timbre_2: double, timbre_3: double, timbre_4: double, timbre_5: double, timbre_6: double, timbre_7: double, timbre_8: double, timbre_9: double, timbre_10: double, timbre_11: double, timbre_12: double, day: int, month: int, year: int, label: double, track_name_index: double, album_name_index: double, album_release_date_precision_index: double, artist_name_index: double, features: vector, std_features: vector]"
            ]
          },
          "execution_count": 36,
          "metadata": {},
          "output_type": "execute_result"
        }
      ],
      "source": [
        "# Transform the training set and get back both the transformer and the new dataset\n",
        "spotify_tracks_encoded = to_numerical(spotify_tracks, NUMERICAL_FEATURES, CATEGORICAL_FEATURES, TARGET_VARIABLE)\n",
        "spotify_tracks_encoded.cache()"
      ]
    },
    {
      "cell_type": "code",
      "execution_count": 37,
      "metadata": {
        "colab": {
          "base_uri": "https://localhost:8080/"
        },
        "id": "Z0HlS6MhD9-5",
        "outputId": "93fb9d75-ac1b-4d4a-9053-365954a5da2e"
      },
      "outputs": [
        {
          "name": "stdout",
          "output_type": "stream",
          "text": [
            "Garbage collector: collected 600 objects\n"
          ]
        }
      ],
      "source": [
        "# Clean-up unused variables\n",
        "# Let's try to free-up some RAM\n",
        "import gc\n",
        "del spotify_tracks\n",
        "# ...\n",
        "\n",
        "print(\"Garbage collector: collected %d objects\" % (gc.collect()))"
      ]
    },
    {
      "cell_type": "code",
      "execution_count": 38,
      "metadata": {
        "colab": {
          "base_uri": "https://localhost:8080/"
        },
        "id": "LGR8VzN5EDcb",
        "outputId": "9cd1d233-e5cf-4562-e7fc-891b75324ff4"
      },
      "outputs": [
        {
          "name": "stdout",
          "output_type": "stream",
          "text": [
            "+----------------------------------------------------------------------------------------------------------------------------------------------------------------------------------------------------------------------------------------------------------------------------------------------------------------------------------------------------------------------------------------------------------------------------------------------------------------------------------------------------------------------------------------------------------------------------------------------------------------------------------------------------------------------------------------------------------------------------------------------------------------------------------------------------------------------------------------------------------------------------------------------------------------------------------------------------+-----+\n",
            "|std_features                                                                                                                                                                                                                                                                                                                                                                                                                                                                                                                                                                                                                                                                                                                                                                                                                                                                                                                                        |label|\n",
            "+----------------------------------------------------------------------------------------------------------------------------------------------------------------------------------------------------------------------------------------------------------------------------------------------------------------------------------------------------------------------------------------------------------------------------------------------------------------------------------------------------------------------------------------------------------------------------------------------------------------------------------------------------------------------------------------------------------------------------------------------------------------------------------------------------------------------------------------------------------------------------------------------------------------------------------------------------+-----+\n",
            "|[-0.8775611461752215,-1.6734626650125706,-0.40611691130845473,-1.422762531694784,-0.21409657657455006,1.1672654463418795,-0.6942823907764385,0.3992735332220742,-0.27745691456611093,0.8856552506325036,-0.6047567411459822,-0.9428210582442301,-0.16037658113537148,0.7342310600727949,0.804197021935107,-0.4085496864833087,0.4460444315096138,0.18722675883457468,-1.3852022390244652,-1.4682304324707152,-0.7953807170548967,3.2218286687504585,-0.7504765240374242,-0.2609159110629895,-0.9095690216911113,0.1690183355217047,0.4954121920171533,-0.8362294325090669,0.8072277465967787,-0.7876719522997475,-0.18404654137005214,1.0210677872543905,0.19314110763164616,-0.03409602009435947,-0.5525847642003637,-0.23594247109324812,-0.2688521283684165,-0.3133135812528009,-0.8874292213267426,-0.961653036347012,-0.4304422662634126,0.6669792561651977,-0.09318061995892948,-1.0539761071782214,-1.0425891502565854,0.07424448107479038]  |6.0  |\n",
            "|[0.5387742224514371,0.0686484391800388,2.3810690142468305,-0.507483078951961,-0.21409657657455006,0.12637396373876222,-0.6941830684306862,0.869336003790912,0.39229754355231705,0.7491566372306812,-0.6047566425095806,-0.9428210582442301,0.628198656594854,-0.092678146505406,0.804197021935107,-0.40847291435116473,0.5644113351919982,0.18722675883457468,1.333959994200982,0.5295060547987743,1.0900153738901024,0.9130943136668039,0.4631677414672752,0.5305479895398447,0.08378896723433543,0.10831430654619144,-0.1988240468879779,-0.26826050580219546,0.979677864572193,0.5001426051222015,1.2264984787850806,0.3606588355828623,0.5583034414365273,0.6519620190667729,0.7921695051282547,-0.5989046549300492,0.5877508535215701,-0.14962183103846202,0.8145772903458837,-0.16246805047247867,1.15252822208152,0.7280077162538068,0.22015685820427555,-1.0539761071782214,-1.0425891502565854,-0.027663697057883088]                      |5.0  |\n",
            "|[1.5682082220873987,1.6171916429068025,-0.40611691130845473,1.734596820790148,-0.21409657657455006,1.2125215977594062,-0.6943847691943678,0.7373886436312382,-0.43124414346362533,1.065585241025815,-0.08343521909540967,-1.5074993011376667,-0.5598521949855515,0.8188684673034766,-1.2409943891790487,-0.4086422646426588,0.7978188771916859,0.18722675883457468,-1.3846976126805655,0.032186606128057675,-0.7529652582354678,-0.5903013451695746,0.5434382532084507,-0.516831695650377,0.4594417747559501,0.02882839961264889,0.5908460854362445,-0.24752938230785196,-1.0408688501385668,-0.04653613024971419,-0.47977765691525237,1.081042605488686,1.017791968380634,-0.3665982306552004,0.370822214162181,-0.42033484309857944,0.08976335618803735,-0.12009300271955027,0.9629813903862607,1.2195401707503148,0.43590543849710006,0.03483357767421001,0.7858658182143942,-0.8503740135995483,-0.24350118858618888,0.6856935498708312]        |10.0 |\n",
            "|[1.602752987175854,0.8982251554622337,-0.40611691130845473,0.1381791706573173,-0.21409657657455006,-0.7787490646117744,-0.6944584205338333,0.13125545789773682,-0.43921718827305706,0.7212364663075811,-0.6047558406815351,-0.9428210582442301,0.9550423406540922,0.607014259060764,0.804197021935107,-0.408542912471649,-0.45160955056681534,0.18722675883457468,0.22041786199562619,-1.348044077803136,-0.35923079634039573,0.38602491420841506,-0.09726632193805246,1.4362535861843486,0.9989709614485879,1.908362638233699,-0.5233836261320562,-0.5012344446798888,-0.7559100391690848,-1.0621031948469917,-0.6161883507006953,1.1470799773060503,0.8810936007684763,0.051460424616154306,-0.7838585495420494,-0.8129075479308793,0.35131718609127327,-0.07286556505961993,0.2688652728678448,0.7967778152375568,1.0280452321019495,0.05704797579856214,-0.14810706278005886,0.98204482860851,-1.0425891502565854,0.8895099061361782]           |1.0  |\n",
            "|[-0.5873851194321987,-1.3969370929185054,-0.40611691130845473,0.8902692636087843,-0.21409657657455006,0.7599600835841379,1.9245899342189443,0.07352848782787953,-0.754904896823756,-0.2900941693513761,-0.6047567100444142,-0.9428210582442301,-0.8915585867442932,0.006905496909749341,-1.2409943891790487,-0.4082177599119803,-0.0011850768203711323,0.18722675883457468,0.704859152139346,-1.316453118863708,-0.6383632934278988,1.0601770262865342,-0.17573284400637684,0.1171620905686433,-0.09636965141093505,-0.8128743941824194,-0.6576410287162633,-0.35361226065538176,0.6368782810520524,0.27181091524755113,-0.7788985600276643,0.1356565203739727,-0.20751802637715572,-0.05162556821595042,-0.6189253517603662,-0.4560832742938715,1.851669773909761,-2.615194547541932,-0.5225412831033832,1.284165064335991,-0.12444301412017796,-0.18048547865307735,0.795225822879993,-0.13776668607419235,-0.5098638424763211,-0.639112765853924]|5.0  |\n",
            "+----------------------------------------------------------------------------------------------------------------------------------------------------------------------------------------------------------------------------------------------------------------------------------------------------------------------------------------------------------------------------------------------------------------------------------------------------------------------------------------------------------------------------------------------------------------------------------------------------------------------------------------------------------------------------------------------------------------------------------------------------------------------------------------------------------------------------------------------------------------------------------------------------------------------------------------------------+-----+\n",
            "only showing top 5 rows\n",
            "\n",
            "root\n",
            " |-- std_features: vector (nullable = true)\n",
            " |-- label: double (nullable = false)\n",
            "\n"
          ]
        }
      ],
      "source": [
        "# Select `features` and `label` (i.e., formerly `deposit`) target variable only\n",
        "spotify_tracks_final = spotify_tracks_encoded.select([\"std_features\", \"label\"])\n",
        "spotify_tracks_final.cache()\n",
        "\n",
        "del spotify_tracks_encoded\n",
        "\n",
        "# BALANCEMENT for splitting\n",
        "#sampled = spotify_tracks_final.sampleBy(\"label\", fractions={4: 0.2, 6: 0.4, 8: 0.2}, seed=0)\n",
        "#sampled.show()\n",
        "\n",
        "RANDOM_SEED = 42\n",
        "# Randomly split our original dataset `house_df` into 80÷20 for training and test, respectively\n",
        "train_set, test_set = spotify_tracks_final.randomSplit([0.8, 0.2], seed=RANDOM_SEED)\n",
        "\n",
        "train_set.show(5, truncate=False)\n",
        "train_set.printSchema()"
      ]
    },
    {
      "cell_type": "code",
      "execution_count": 39,
      "metadata": {
        "colab": {
          "base_uri": "https://localhost:8080/"
        },
        "id": "rLmEwqsSEHQ-",
        "outputId": "b6821ad1-93d5-40c4-8e80-bda79bb6167d"
      },
      "outputs": [
        {
          "name": "stdout",
          "output_type": "stream",
          "text": [
            "Garbage collector: collected 242 objects\n"
          ]
        }
      ],
      "source": [
        "del spotify_tracks_final\n",
        "# ...\n",
        "\n",
        "print(\"Garbage collector: collected %d objects\" % (gc.collect()))"
      ]
    },
    {
      "cell_type": "code",
      "execution_count": 42,
      "metadata": {
        "id": "xtcL9If20XXD"
      },
      "outputs": [],
      "source": [
        "# This function defines the general pipeline for logistic regression\n",
        "def logistic_regression_pipeline(train):\n",
        "\n",
        "    stage_5_lg = LogisticRegression(featuresCol='std_features',labelCol='label')\n",
        "\n",
        "    logistic_regression_pipeline = Pipeline(stages= [stage_5_lg])\n",
        "\n",
        "    #### LOGISTIC REGRESSION\n",
        "    param_grid = ParamGridBuilder()\\\n",
        "    .addGrid(stage_5_lg.regParam, [0.01, 0.1, 1.0]) \\\n",
        "    .addGrid(stage_5_lg.maxIter, [10, 20, 50]) \\\n",
        "    .build()\n",
        "    # other param: .addGrid(stage_4_lg.elasticNetParam, [0.0, 0.25, 0.5, 0.75, 1.0])\n",
        "    cross_val_lg = CrossValidator(estimator=logistic_regression_pipeline,\n",
        "                            estimatorParamMaps=param_grid,\n",
        "                            evaluator=MulticlassClassificationEvaluator(), # default = \"areaUnderROC\", alternatively \"areaUnderPR\"\n",
        "                            numFolds=5,\n",
        "                            collectSubModels=True\n",
        "                            )\n",
        "    cv_model_lg = cross_val_lg.fit(train)\n",
        "\n",
        "    return cv_model_lg"
      ]
    },
    {
      "cell_type": "code",
      "execution_count": 43,
      "metadata": {
        "id": "ZnL1-9b33PML"
      },
      "outputs": [],
      "source": [
        "# This function defines the general pipeline for logistic regression\n",
        "def decision_tree_pipeline(train):\n",
        "  \n",
        "  stage_5_dr = DecisionTreeClassifier(featuresCol='std_features',labelCol='label')\n",
        "\n",
        "  decision_tree_pipeline = Pipeline(stages= [stage_5_dr])\n",
        "\n",
        "  #### DECISION TREE\n",
        "  param_grid = ParamGridBuilder()\\\n",
        "    .addGrid(stage_5_dr.maxDepth, [3, 5, 8]) \\\n",
        "    .addGrid(stage_5_dr.impurity, [\"gini\", \"entropy\"]) \\\n",
        "    .build()\n",
        "  cross_val_dt = CrossValidator(estimator=decision_tree_pipeline,\n",
        "                                estimatorParamMaps=param_grid,\n",
        "                                evaluator=MulticlassClassificationEvaluator(), # default = \"areaUnderROC\", alternatively \"areaUnderPR\"\n",
        "                                numFolds=5,\n",
        "                                collectSubModels=True\n",
        "                                )\n",
        "  cv_model_dt = cross_val_dt.fit(train)\n",
        "\n",
        "  return cv_model_dt"
      ]
    },
    {
      "cell_type": "code",
      "execution_count": 44,
      "metadata": {
        "id": "QY1BJafQ3ncW"
      },
      "outputs": [],
      "source": [
        "# This function defines the general pipeline for logistic regression\n",
        "def random_forest_pipeline(train):\n",
        "  \n",
        "  stage_5_rf = RandomForestClassifier(featuresCol=\"std_features\", labelCol=\"label\")\n",
        "\n",
        "  random_forest_pipeline = Pipeline(stages= [stage_5_rf])\n",
        "\n",
        "  #### RANDOM FOREST\n",
        "  param_grid = ParamGridBuilder()\\\n",
        "    .addGrid(stage_5_rf.maxDepth, [3, 5, 8]) \\\n",
        "    .addGrid(stage_5_rf.numTrees, [10, 50, 100]) \\\n",
        "    .build()\n",
        "  cross_val_rf = CrossValidator(estimator=random_forest_pipeline, \n",
        "                              estimatorParamMaps=param_grid,\n",
        "                              evaluator= MulticlassClassificationEvaluator(), # default = \"areaUnderROC\", alternatively \"areaUnderPR\"\n",
        "                              numFolds=5,\n",
        "                              collectSubModels=True \n",
        "                              )\n",
        "  cv_model_rf = cross_val_rf.fit(train)\n",
        "\n",
        "  return cv_model_rf"
      ]
    },
    {
      "cell_type": "code",
      "execution_count": 45,
      "metadata": {
        "colab": {
          "base_uri": "https://localhost:8080/"
        },
        "id": "iB1Wmz96EXDu",
        "outputId": "953bb3b8-d2fe-4b0e-f876-12fd006f2833"
      },
      "outputs": [
        {
          "name": "stdout",
          "output_type": "stream",
          "text": [
            "Garbage collector: collected 336 objects\n",
            "+--------------------+----------+-----+\n",
            "|        std_features|prediction|label|\n",
            "+--------------------+----------+-----+\n",
            "|[0.98785616860135...|       7.0|  7.0|\n",
            "|[-0.4699329181314...|       0.0|  3.0|\n",
            "|[-0.5666582603791...|       0.0|  6.0|\n",
            "|[-0.0761225961230...|       0.0|  4.0|\n",
            "|[0.95331140351289...|       0.0|  3.0|\n",
            "+--------------------+----------+-----+\n",
            "only showing top 5 rows\n",
            "\n"
          ]
        }
      ],
      "source": [
        "print(\"Garbage collector: collected %d objects\" % (gc.collect()))\n",
        "cv_model_dt = decision_tree_pipeline(train_set)\n",
        "\n",
        "# Make predictions on the test set (`cv_model` contains the best model according to the result of k-fold cross validation)\n",
        "# `test_df` will follow exactly the same pipeline defined above, and already fit to `train_df`\n",
        "test_predictions_dt = cv_model_dt.transform(test_set)\n",
        "\n",
        "test_predictions_dt.select(\"std_features\", \"prediction\", \"label\").show(5)"
      ]
    },
    {
      "cell_type": "code",
      "execution_count": 46,
      "metadata": {
        "colab": {
          "base_uri": "https://localhost:8080/"
        },
        "id": "MGyooeVWEbyY",
        "outputId": "20ac169e-5da3-4475-c6c8-da93c30a19d9"
      },
      "outputs": [
        {
          "name": "stdout",
          "output_type": "stream",
          "text": [
            "Avg. ROC AUC computed across k-fold cross validation for model setting #1: 0.200\n",
            "Avg. ROC AUC computed across k-fold cross validation for model setting #2: 0.200\n",
            "Avg. ROC AUC computed across k-fold cross validation for model setting #3: 0.278\n",
            "Avg. ROC AUC computed across k-fold cross validation for model setting #4: 0.226\n",
            "Avg. ROC AUC computed across k-fold cross validation for model setting #5: 0.272\n",
            "Avg. ROC AUC computed across k-fold cross validation for model setting #6: 0.276\n",
            "Best model according to k-fold cross validation: maxDept=[5]; impurity=[gini]\n",
            "DecisionTreeClassificationModel: uid=DecisionTreeClassifier_65c095be7fd8, depth=5, numNodes=45, numClasses=12, numFeatures=46\n",
            "***** Test Set *****\n",
            "Test F1-Score  0.2640194371959826\n",
            "Test Precision  0.3531020131629888\n",
            "Test Recall  0.29523809523809524\n",
            "Test Accuracy  0.29523809523809524\n"
          ]
        }
      ],
      "source": [
        "for i, avg_roc_auc in enumerate(cv_model_dt.avgMetrics):\n",
        "    print(\"Avg. ROC AUC computed across k-fold cross validation for model setting #{:d}: {:.3f}\".format(i+1, avg_roc_auc))\n",
        "\n",
        "\n",
        "print(\"Best model according to k-fold cross validation: maxDept=[{:d}]; impurity=[{:s}]\".\n",
        "      format(cv_model_dt.bestModel.stages[-1]._java_obj.getMaxDepth(), \n",
        "             cv_model_dt.bestModel.stages[-1]._java_obj.getImpurity(),\n",
        "             )\n",
        "      )\n",
        "print(cv_model_dt.bestModel.stages[-1])\n",
        "\n",
        "print(\"***** Test Set *****\")\n",
        "evaluator = cv_model_dt.getEvaluator()\n",
        "print('Test F1-Score ',   evaluator.evaluate(test_predictions_dt, {evaluator.metricName: 'f1'}))\n",
        "print('Test Precision ',  evaluator.evaluate(test_predictions_dt, {evaluator.metricName: 'weightedPrecision'}))\n",
        "print('Test Recall ',     evaluator.evaluate(test_predictions_dt, {evaluator.metricName: 'weightedRecall'}))\n",
        "print('Test Accuracy ',   evaluator.evaluate(test_predictions_dt, {evaluator.metricName: 'accuracy'}))"
      ]
    },
    {
      "cell_type": "code",
      "execution_count": null,
      "metadata": {
        "colab": {
          "base_uri": "https://localhost:8080/"
        },
        "id": "i7u-70ouEc6Q",
        "outputId": "a7785c64-8290-4cd2-c45e-4ce24e20827e"
      },
      "outputs": [
        {
          "name": "stdout",
          "output_type": "stream",
          "text": [
            "Garbage collector: collected 1647 objects\n"
          ]
        }
      ],
      "source": [
        "del cv_model_dt\n",
        "print(\"Garbage collector: collected %d objects\" % (gc.collect()))\n",
        "cv_model_lg = logistic_regression_pipeline(train_set)\n",
        "\n",
        "# Make predictions on the test set (`cv_model` contains the best model according to the result of k-fold cross validation)\n",
        "# `test_df` will follow exactly the same pipeline defined above, and already fit to `train_df`\n",
        "test_predictions_lg = cv_model_lg.transform(test_set)\n",
        "\n",
        "test_predictions_lg.select(\"std_features\", \"prediction\", \"label\").show(5)"
      ]
    },
    {
      "cell_type": "code",
      "execution_count": null,
      "metadata": {
        "id": "UH9XwVemEheg"
      },
      "outputs": [],
      "source": [
        "for i, avg_roc_auc in enumerate(cv_model_lg.avgMetrics):\n",
        "    print(\"Avg. ROC AUC computed across k-fold cross validation for model setting #{:d}: {:.3f}\".format(i+1, avg_roc_auc))\n",
        "\n",
        "\n",
        "print(\"Best model according to k-fold cross validation: lambda=[{:.3f}]; alfa=[{:.3f}]\".\n",
        "      format(cv_model_lg.bestModel.stages[-1]._java_obj.getRegParam(), \n",
        "             cv_model_lg.bestModel.stages[-1]._java_obj.getElasticNetParam(),\n",
        "             )\n",
        "      )\n",
        "print(cv_model_lg.bestModel.stages[-1])\n",
        "\n",
        "print(\"***** Test Set *****\")\n",
        "evaluator = cv_model_lg.getEvaluator()\n",
        "print('Test F1-Score ',   evaluator.evaluate(test_predictions_lg, {evaluator.metricName: 'f1'}))\n",
        "print('Test Precision ',  evaluator.evaluate(test_predictions_lg, {evaluator.metricName: 'weightedPrecision'}))\n",
        "print('Test Recall ',     evaluator.evaluate(test_predictions_lg, {evaluator.metricName: 'weightedRecall'}))\n",
        "print('Test Accuracy ',   evaluator.evaluate(test_predictions_lg, {evaluator.metricName: 'accuracy'}))"
      ]
    },
    {
      "cell_type": "code",
      "execution_count": null,
      "metadata": {
        "id": "FwBoDgjCW8l_"
      },
      "outputs": [],
      "source": [
        "del cv_model_lg\n",
        "print(\"Garbage collector: collected %d objects\" % (gc.collect()))\n",
        "cv_model_rf = random_forest_pipeline(train_set)\n",
        "\n",
        "# Make predictions on the test set (`cv_model` contains the best model according to the result of k-fold cross validation)\n",
        "# `test_df` will follow exactly the same pipeline defined above, and already fit to `train_df`\n",
        "test_predictions_rf = cv_model_rf.transform(test_set)\n",
        "\n",
        "test_predictions_rf.select(\"std_features\", \"prediction\", \"label\").show(5)"
      ]
    },
    {
      "cell_type": "code",
      "execution_count": null,
      "metadata": {
        "id": "fL72GasUE5dQ"
      },
      "outputs": [],
      "source": [
        "for i, avg_roc_auc in enumerate(cv_model_rf.avgMetrics):\n",
        "    print(\"Avg. ROC AUC computed across k-fold cross validation for model setting #{:d}: {:.3f}\".format(i+1, avg_roc_auc))\n",
        "\n",
        "\n",
        "print(\"Best model according to k-fold cross validation: maxDept=[{:d}]\".\n",
        "      format(cv_model_rf.bestModel.stages[-1]._java_obj.getMaxDepth(), \n",
        "             )\n",
        "      )\n",
        "print(cv_model_rf.bestModel.stages[-1])\n",
        "\n",
        "print(\"***** Test Set *****\")\n",
        "evaluator = cv_model_rf.getEvaluator()\n",
        "print('Test F1-Score ',   evaluator.evaluate(test_predictions_rf, {evaluator.metricName: 'f1'}))\n",
        "print('Test Precision ',  evaluator.evaluate(test_predictions_rf, {evaluator.metricName: 'weightedPrecision'}))\n",
        "print('Test Recall ',     evaluator.evaluate(test_predictions_rf, {evaluator.metricName: 'weightedRecall'}))\n",
        "print('Test Accuracy ',   evaluator.evaluate(test_predictions_rf, {evaluator.metricName: 'accuracy'}))"
      ]
    }
  ],
  "metadata": {
    "colab": {
      "collapsed_sections": [],
      "name": "spotify_genre_model_pyspark.ipynb",
      "provenance": []
    },
    "interpreter": {
      "hash": "7473d73b0517ab6f64aa731f2cb80c0acf19c95420055020da77d830c23b4531"
    },
    "kernelspec": {
      "display_name": "Python 3.7.6 ('base')",
      "language": "python",
      "name": "python3"
    },
    "language_info": {
      "name": "python",
      "version": "3.7.6"
    }
  },
  "nbformat": 4,
  "nbformat_minor": 0
}
